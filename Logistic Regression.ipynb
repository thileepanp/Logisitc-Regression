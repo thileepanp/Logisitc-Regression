{
 "cells": [
  {
   "cell_type": "markdown",
   "metadata": {},
   "source": [
    "# Logistic Regression #\n",
    "\n",
    "\n",
    "A retail bank wants to identitify to which of their existing stock trading customers can they offer a 10% discount on transaction commissions."
   ]
  },
  {
   "cell_type": "markdown",
   "metadata": {},
   "source": [
    "# Importing Libraries"
   ]
  },
  {
   "cell_type": "code",
   "execution_count": 1,
   "metadata": {
    "ExecuteTime": {
     "end_time": "2020-04-02T03:46:02.403758Z",
     "start_time": "2020-04-02T03:45:58.388730Z"
    }
   },
   "outputs": [],
   "source": [
    "from sklearn.linear_model import LogisticRegression\n",
    "from sklearn.metrics import roc_auc_score, roc_curve\n",
    "from sklearn.model_selection import train_test_split\n",
    "import matplotlib.pyplot as plt\n",
    "import seaborn as sns\n",
    "import pandas as pd\n",
    "import numpy as np"
   ]
  },
  {
   "cell_type": "markdown",
   "metadata": {},
   "source": [
    "# Reading Data"
   ]
  },
  {
   "cell_type": "code",
   "execution_count": 2,
   "metadata": {
    "ExecuteTime": {
     "end_time": "2020-04-02T03:46:02.453760Z",
     "start_time": "2020-04-02T03:46:02.404711Z"
    }
   },
   "outputs": [],
   "source": [
    "stockTradingData = pd.read_csv('Retail_Bank_Stock_trading_data.csv')"
   ]
  },
  {
   "cell_type": "markdown",
   "metadata": {},
   "source": [
    "# Data Cleaning and Pre-Processing"
   ]
  },
  {
   "cell_type": "code",
   "execution_count": 3,
   "metadata": {
    "ExecuteTime": {
     "end_time": "2020-04-02T03:46:02.475522Z",
     "start_time": "2020-04-02T03:46:02.454578Z"
    }
   },
   "outputs": [
    {
     "data": {
      "text/html": [
       "<div>\n",
       "<style scoped>\n",
       "    .dataframe tbody tr th:only-of-type {\n",
       "        vertical-align: middle;\n",
       "    }\n",
       "\n",
       "    .dataframe tbody tr th {\n",
       "        vertical-align: top;\n",
       "    }\n",
       "\n",
       "    .dataframe thead th {\n",
       "        text-align: right;\n",
       "    }\n",
       "</style>\n",
       "<table border=\"1\" class=\"dataframe\">\n",
       "  <thead>\n",
       "    <tr style=\"text-align: right;\">\n",
       "      <th></th>\n",
       "      <th>REF_NO</th>\n",
       "      <th>children</th>\n",
       "      <th>age_band</th>\n",
       "      <th>status</th>\n",
       "      <th>occupation</th>\n",
       "      <th>occupation_partner</th>\n",
       "      <th>home_status</th>\n",
       "      <th>family_income</th>\n",
       "      <th>self_employed</th>\n",
       "      <th>self_employed_partner</th>\n",
       "      <th>...</th>\n",
       "      <th>Investment Tax Saving Bond</th>\n",
       "      <th>Home Loan</th>\n",
       "      <th>Online Purchase Amount</th>\n",
       "      <th>Revenue Grid</th>\n",
       "      <th>gender</th>\n",
       "      <th>region</th>\n",
       "      <th>Investment in Commudity</th>\n",
       "      <th>Investment in Equity</th>\n",
       "      <th>Investment in Derivative</th>\n",
       "      <th>Portfolio Balance</th>\n",
       "    </tr>\n",
       "  </thead>\n",
       "  <tbody>\n",
       "    <tr>\n",
       "      <th>0</th>\n",
       "      <td>1</td>\n",
       "      <td>Zero</td>\n",
       "      <td>51-55</td>\n",
       "      <td>Partner</td>\n",
       "      <td>Manual Worker</td>\n",
       "      <td>Secretarial/Admin</td>\n",
       "      <td>Own Home</td>\n",
       "      <td>&lt;17,500, &gt;=15,000</td>\n",
       "      <td>No</td>\n",
       "      <td>No</td>\n",
       "      <td>...</td>\n",
       "      <td>19.99</td>\n",
       "      <td>0.00</td>\n",
       "      <td>0.00</td>\n",
       "      <td>1</td>\n",
       "      <td>Female</td>\n",
       "      <td>Wales</td>\n",
       "      <td>74.67</td>\n",
       "      <td>18.66</td>\n",
       "      <td>32.32</td>\n",
       "      <td>89.43</td>\n",
       "    </tr>\n",
       "    <tr>\n",
       "      <th>1</th>\n",
       "      <td>2</td>\n",
       "      <td>Zero</td>\n",
       "      <td>55-60</td>\n",
       "      <td>Single/Never Married</td>\n",
       "      <td>Retired</td>\n",
       "      <td>Retired</td>\n",
       "      <td>Own Home</td>\n",
       "      <td>&lt;27,500, &gt;=25,000</td>\n",
       "      <td>No</td>\n",
       "      <td>No</td>\n",
       "      <td>...</td>\n",
       "      <td>0.00</td>\n",
       "      <td>0.00</td>\n",
       "      <td>0.00</td>\n",
       "      <td>2</td>\n",
       "      <td>Female</td>\n",
       "      <td>North West</td>\n",
       "      <td>20.19</td>\n",
       "      <td>0.00</td>\n",
       "      <td>4.33</td>\n",
       "      <td>22.78</td>\n",
       "    </tr>\n",
       "    <tr>\n",
       "      <th>2</th>\n",
       "      <td>3</td>\n",
       "      <td>Zero</td>\n",
       "      <td>26-30</td>\n",
       "      <td>Single/Never Married</td>\n",
       "      <td>Professional</td>\n",
       "      <td>Other</td>\n",
       "      <td>Own Home</td>\n",
       "      <td>&lt;30,000, &gt;=27,500</td>\n",
       "      <td>Yes</td>\n",
       "      <td>No</td>\n",
       "      <td>...</td>\n",
       "      <td>0.00</td>\n",
       "      <td>3.49</td>\n",
       "      <td>0.00</td>\n",
       "      <td>2</td>\n",
       "      <td>Male</td>\n",
       "      <td>North</td>\n",
       "      <td>98.06</td>\n",
       "      <td>31.07</td>\n",
       "      <td>80.96</td>\n",
       "      <td>171.78</td>\n",
       "    </tr>\n",
       "    <tr>\n",
       "      <th>3</th>\n",
       "      <td>5</td>\n",
       "      <td>Zero</td>\n",
       "      <td>18-21</td>\n",
       "      <td>Single/Never Married</td>\n",
       "      <td>Professional</td>\n",
       "      <td>Manual Worker</td>\n",
       "      <td>Own Home</td>\n",
       "      <td>&lt;15,000, &gt;=12,500</td>\n",
       "      <td>No</td>\n",
       "      <td>No</td>\n",
       "      <td>...</td>\n",
       "      <td>0.00</td>\n",
       "      <td>0.00</td>\n",
       "      <td>0.00</td>\n",
       "      <td>2</td>\n",
       "      <td>Female</td>\n",
       "      <td>West Midlands</td>\n",
       "      <td>4.10</td>\n",
       "      <td>14.15</td>\n",
       "      <td>17.57</td>\n",
       "      <td>-41.70</td>\n",
       "    </tr>\n",
       "    <tr>\n",
       "      <th>4</th>\n",
       "      <td>6</td>\n",
       "      <td>Zero</td>\n",
       "      <td>45-50</td>\n",
       "      <td>Partner</td>\n",
       "      <td>Business Manager</td>\n",
       "      <td>Unknown</td>\n",
       "      <td>Own Home</td>\n",
       "      <td>&lt;30,000, &gt;=27,500</td>\n",
       "      <td>No</td>\n",
       "      <td>No</td>\n",
       "      <td>...</td>\n",
       "      <td>0.00</td>\n",
       "      <td>45.91</td>\n",
       "      <td>25.98</td>\n",
       "      <td>2</td>\n",
       "      <td>Female</td>\n",
       "      <td>Scotland</td>\n",
       "      <td>70.16</td>\n",
       "      <td>55.86</td>\n",
       "      <td>80.44</td>\n",
       "      <td>235.02</td>\n",
       "    </tr>\n",
       "  </tbody>\n",
       "</table>\n",
       "<p>5 rows × 32 columns</p>\n",
       "</div>"
      ],
      "text/plain": [
       "   REF_NO children age_band                status        occupation  \\\n",
       "0       1     Zero    51-55               Partner     Manual Worker   \n",
       "1       2     Zero    55-60  Single/Never Married           Retired   \n",
       "2       3     Zero    26-30  Single/Never Married      Professional   \n",
       "3       5     Zero    18-21  Single/Never Married      Professional   \n",
       "4       6     Zero    45-50               Partner  Business Manager   \n",
       "\n",
       "  occupation_partner home_status      family_income self_employed  \\\n",
       "0  Secretarial/Admin    Own Home  <17,500, >=15,000            No   \n",
       "1            Retired    Own Home  <27,500, >=25,000            No   \n",
       "2              Other    Own Home  <30,000, >=27,500           Yes   \n",
       "3      Manual Worker    Own Home  <15,000, >=12,500            No   \n",
       "4            Unknown    Own Home  <30,000, >=27,500            No   \n",
       "\n",
       "  self_employed_partner  ...  Investment Tax Saving Bond Home Loan  \\\n",
       "0                    No  ...                       19.99      0.00   \n",
       "1                    No  ...                        0.00      0.00   \n",
       "2                    No  ...                        0.00      3.49   \n",
       "3                    No  ...                        0.00      0.00   \n",
       "4                    No  ...                        0.00     45.91   \n",
       "\n",
       "  Online Purchase Amount Revenue Grid  gender         region  \\\n",
       "0                   0.00            1  Female          Wales   \n",
       "1                   0.00            2  Female     North West   \n",
       "2                   0.00            2    Male          North   \n",
       "3                   0.00            2  Female  West Midlands   \n",
       "4                  25.98            2  Female       Scotland   \n",
       "\n",
       "   Investment in Commudity  Investment in Equity  Investment in Derivative  \\\n",
       "0                    74.67                 18.66                     32.32   \n",
       "1                    20.19                  0.00                      4.33   \n",
       "2                    98.06                 31.07                     80.96   \n",
       "3                     4.10                 14.15                     17.57   \n",
       "4                    70.16                 55.86                     80.44   \n",
       "\n",
       "   Portfolio Balance  \n",
       "0              89.43  \n",
       "1              22.78  \n",
       "2             171.78  \n",
       "3             -41.70  \n",
       "4             235.02  \n",
       "\n",
       "[5 rows x 32 columns]"
      ]
     },
     "execution_count": 3,
     "metadata": {},
     "output_type": "execute_result"
    }
   ],
   "source": [
    "stockTradingData.head()"
   ]
  },
  {
   "cell_type": "markdown",
   "metadata": {},
   "source": [
    "## Finding the datatype of each column"
   ]
  },
  {
   "cell_type": "code",
   "execution_count": 4,
   "metadata": {
    "ExecuteTime": {
     "end_time": "2020-04-02T03:46:02.483501Z",
     "start_time": "2020-04-02T03:46:02.476534Z"
    }
   },
   "outputs": [
    {
     "data": {
      "text/plain": [
       "REF_NO                               int64\n",
       "children                            object\n",
       "age_band                            object\n",
       "status                              object\n",
       "occupation                          object\n",
       "occupation_partner                  object\n",
       "home_status                         object\n",
       "family_income                       object\n",
       "self_employed                       object\n",
       "self_employed_partner               object\n",
       "year_last_moved                      int64\n",
       "TVarea                              object\n",
       "post_code                           object\n",
       "post_area                           object\n",
       "Average Credit Card Transaction    float64\n",
       "Balance Transfer                   float64\n",
       "Term Deposit                       float64\n",
       "Life Insurance                     float64\n",
       "Medical Insurance                  float64\n",
       "Average A/C Balance                float64\n",
       "Personal Loan                      float64\n",
       "Investment in Mutual Fund          float64\n",
       "Investment Tax Saving Bond         float64\n",
       "Home Loan                          float64\n",
       "Online Purchase Amount             float64\n",
       "Revenue Grid                         int64\n",
       "gender                              object\n",
       "region                              object\n",
       "Investment in Commudity            float64\n",
       "Investment in Equity               float64\n",
       "Investment in Derivative           float64\n",
       "Portfolio Balance                  float64\n",
       "dtype: object"
      ]
     },
     "execution_count": 4,
     "metadata": {},
     "output_type": "execute_result"
    }
   ],
   "source": [
    "stockTradingData.dtypes"
   ]
  },
  {
   "cell_type": "code",
   "execution_count": 5,
   "metadata": {
    "ExecuteTime": {
     "end_time": "2020-04-02T03:46:02.490482Z",
     "start_time": "2020-04-02T03:46:02.484499Z"
    }
   },
   "outputs": [],
   "source": [
    "\"\"\" Function to find the no of columns under each datatype \"\"\"\n",
    "\n",
    "def printDataType(df):\n",
    "    dataTypes = ['object','int64','float64','bool','datetime64','timedelta[ns]','category']\n",
    "    for dt in dataTypes:\n",
    "        if np.sum(df.dtypes==dt) >0:\n",
    "                print('Total number of columns with {} datatype '.format(dt), np.sum(df.dtypes == dt))"
   ]
  },
  {
   "cell_type": "code",
   "execution_count": 6,
   "metadata": {
    "ExecuteTime": {
     "end_time": "2020-04-02T03:46:02.503456Z",
     "start_time": "2020-04-02T03:46:02.491479Z"
    }
   },
   "outputs": [
    {
     "name": "stdout",
     "output_type": "stream",
     "text": [
      "Total number of columns with object datatype  14\n",
      "Total number of columns with int64 datatype  3\n",
      "Total number of columns with float64 datatype  15\n"
     ]
    }
   ],
   "source": [
    "printDataType(stockTradingData)"
   ]
  },
  {
   "cell_type": "markdown",
   "metadata": {},
   "source": [
    "## Converting all the object datatype to Int or Float"
   ]
  },
  {
   "cell_type": "code",
   "execution_count": 7,
   "metadata": {
    "ExecuteTime": {
     "end_time": "2020-04-02T03:46:02.509450Z",
     "start_time": "2020-04-02T03:46:02.504445Z"
    },
    "pycharm": {
     "name": "#%%\n"
    }
   },
   "outputs": [],
   "source": [
    "\"\"\" Function to find which columns are of 'object' datatype \"\"\"\n",
    "\n",
    "def printObjectDatatypeColumn(df):\n",
    "    for name in df.columns:\n",
    "        if df.loc[:,name].dtype == 'object':\n",
    "            print(name)"
   ]
  },
  {
   "cell_type": "code",
   "execution_count": null,
   "metadata": {},
   "outputs": [],
   "source": []
  },
  {
   "cell_type": "code",
   "execution_count": 8,
   "metadata": {
    "ExecuteTime": {
     "end_time": "2020-04-02T03:46:02.521399Z",
     "start_time": "2020-04-02T03:46:02.512424Z"
    }
   },
   "outputs": [
    {
     "name": "stdout",
     "output_type": "stream",
     "text": [
      "children\n",
      "age_band\n",
      "status\n",
      "occupation\n",
      "occupation_partner\n",
      "home_status\n",
      "family_income\n",
      "self_employed\n",
      "self_employed_partner\n",
      "TVarea\n",
      "post_code\n",
      "post_area\n",
      "gender\n",
      "region\n"
     ]
    }
   ],
   "source": [
    "printObjectDatatypeColumn(stockTradingData)"
   ]
  },
  {
   "cell_type": "markdown",
   "metadata": {},
   "source": [
    "## Converting all the object datatype to Int or Float"
   ]
  },
  {
   "cell_type": "markdown",
   "metadata": {},
   "source": [
    "### Convert the Output variable 'Revenue Grid' to either 0 or 1. "
   ]
  },
  {
   "cell_type": "code",
   "execution_count": 9,
   "metadata": {
    "ExecuteTime": {
     "end_time": "2020-04-02T03:46:02.528390Z",
     "start_time": "2020-04-02T03:46:02.523397Z"
    },
    "scrolled": true
   },
   "outputs": [
    {
     "data": {
      "text/plain": [
       "0    1\n",
       "1    2\n",
       "2    2\n",
       "3    2\n",
       "4    2\n",
       "Name: Revenue Grid, dtype: int64"
      ]
     },
     "execution_count": 9,
     "metadata": {},
     "output_type": "execute_result"
    }
   ],
   "source": [
    "stockTradingData['Revenue Grid'].head()"
   ]
  },
  {
   "cell_type": "markdown",
   "metadata": {},
   "source": [
    "* In the 'Revenue Grid' column 1 means the customer is doing enough stock trading that, the bank would profit even after offerring a 10% discount on commission to that customer.\n",
    "* 2 Means the customer is **not** doing enough stock trading that, the bank would **not** profit after offerring a 10% discount on commission to that customer.\n",
    "* So, let's group the profitable customer's labelled as 1 into the a new label 1 and the not so profitable customer labelled as 1 into a new label 0. \n",
    "* Let's put the new labels '0' and '1' into a new column 'y'.\n",
    "* This will help us classify the customers as 0 - Not eligible for discount, and 1 - eligible for 10% discount on commission.\n",
    "* Finally, we'll drop the original column 'Revenue Grid' from the dataframe."
   ]
  },
  {
   "cell_type": "code",
   "execution_count": 10,
   "metadata": {
    "ExecuteTime": {
     "end_time": "2020-04-02T03:46:02.536359Z",
     "start_time": "2020-04-02T03:46:02.529388Z"
    }
   },
   "outputs": [],
   "source": [
    "stockTradingData['y'] = np.where(stockTradingData['Revenue Grid']==2, 0, 1)"
   ]
  },
  {
   "cell_type": "code",
   "execution_count": 11,
   "metadata": {
    "ExecuteTime": {
     "end_time": "2020-04-02T03:46:02.545335Z",
     "start_time": "2020-04-02T03:46:02.537357Z"
    }
   },
   "outputs": [],
   "source": [
    "stockTradingData.drop(['Revenue Grid'], 1, inplace=True)"
   ]
  },
  {
   "cell_type": "markdown",
   "metadata": {},
   "source": [
    "### Converting the column 'children'"
   ]
  },
  {
   "cell_type": "code",
   "execution_count": 12,
   "metadata": {
    "ExecuteTime": {
     "end_time": "2020-04-02T03:46:02.554312Z",
     "start_time": "2020-04-02T03:46:02.546333Z"
    }
   },
   "outputs": [
    {
     "data": {
      "text/plain": [
       "Zero    6208\n",
       "1       1848\n",
       "2       1607\n",
       "3        473\n",
       "4+        19\n",
       "Name: children, dtype: int64"
      ]
     },
     "execution_count": 12,
     "metadata": {},
     "output_type": "execute_result"
    }
   ],
   "source": [
    "stockTradingData['children'].value_counts()"
   ]
  },
  {
   "cell_type": "code",
   "execution_count": 13,
   "metadata": {
    "ExecuteTime": {
     "end_time": "2020-04-02T03:46:02.564284Z",
     "start_time": "2020-04-02T03:46:02.555309Z"
    }
   },
   "outputs": [],
   "source": [
    "\"\"\" converting 'zero' and '4+' to 0 and 4 respectively\"\"\"\n",
    "\n",
    "stockTradingData.loc[stockTradingData['children'] == 'Zero','children'] =0\n",
    "stockTradingData.loc[stockTradingData['children'] =='4+', 'children'] = 4"
   ]
  },
  {
   "cell_type": "code",
   "execution_count": 14,
   "metadata": {
    "ExecuteTime": {
     "end_time": "2020-04-02T03:46:02.570268Z",
     "start_time": "2020-04-02T03:46:02.565282Z"
    }
   },
   "outputs": [
    {
     "data": {
      "text/plain": [
       "dtype('O')"
      ]
     },
     "execution_count": 14,
     "metadata": {},
     "output_type": "execute_result"
    }
   ],
   "source": [
    "stockTradingData['children'].dtype"
   ]
  },
  {
   "cell_type": "code",
   "execution_count": 15,
   "metadata": {
    "ExecuteTime": {
     "end_time": "2020-04-02T03:46:02.580242Z",
     "start_time": "2020-04-02T03:46:02.571266Z"
    }
   },
   "outputs": [],
   "source": [
    "\"\"\"After converting the 'zero' and '4+' to 0 and 4 we have now converted all\n",
    "the strings in the column 'children' to integer. But still the datatype of \n",
    "that column remains as 'object'. \n",
    "So, we have to convert that column into an integer column \"\"\"\n",
    "\n",
    "stockTradingData['children'] = pd.to_numeric(stockTradingData['children'], errors='coerce')"
   ]
  },
  {
   "cell_type": "code",
   "execution_count": 16,
   "metadata": {
    "ExecuteTime": {
     "end_time": "2020-04-02T03:46:02.588220Z",
     "start_time": "2020-04-02T03:46:02.581239Z"
    }
   },
   "outputs": [
    {
     "name": "stdout",
     "output_type": "stream",
     "text": [
      "age_band\n",
      "status\n",
      "occupation\n",
      "occupation_partner\n",
      "home_status\n",
      "family_income\n",
      "self_employed\n",
      "self_employed_partner\n",
      "TVarea\n",
      "post_code\n",
      "post_area\n",
      "gender\n",
      "region\n"
     ]
    }
   ],
   "source": [
    "printObjectDatatypeColumn(stockTradingData)"
   ]
  },
  {
   "cell_type": "markdown",
   "metadata": {},
   "source": [
    "### Converting the column 'age_band' to several dummy variables"
   ]
  },
  {
   "cell_type": "code",
   "execution_count": 17,
   "metadata": {
    "ExecuteTime": {
     "end_time": "2020-04-02T03:46:02.598194Z",
     "start_time": "2020-04-02T03:46:02.589218Z"
    }
   },
   "outputs": [
    {
     "data": {
      "text/plain": [
       "45-50      1359\n",
       "36-40      1134\n",
       "41-45      1112\n",
       "31-35      1061\n",
       "51-55      1052\n",
       "55-60      1047\n",
       "26-30       927\n",
       "61-65       881\n",
       "65-70       598\n",
       "22-25       456\n",
       "71+         410\n",
       "18-21        63\n",
       "Unknown      55\n",
       "Name: age_band, dtype: int64"
      ]
     },
     "execution_count": 17,
     "metadata": {},
     "output_type": "execute_result"
    }
   ],
   "source": [
    "stockTradingData['age_band'].value_counts()"
   ]
  },
  {
   "cell_type": "markdown",
   "metadata": {},
   "source": [
    "There are 13 different age bands. If we create dummy columns for \n",
    "each band then we will have to create 12 dummy columns. In order \n",
    "to reduce the number of dummy columns, let's group them together \n",
    "first with the output variable and then create dummies according\n",
    "to the grouping"
   ]
  },
  {
   "cell_type": "code",
   "execution_count": 18,
   "metadata": {
    "ExecuteTime": {
     "end_time": "2020-04-02T03:46:02.610162Z",
     "start_time": "2020-04-02T03:46:02.599191Z"
    }
   },
   "outputs": [
    {
     "data": {
      "text/plain": [
       "age_band\n",
       "18-21      0.17\n",
       "22-25      0.11\n",
       "26-30      0.11\n",
       "31-35      0.11\n",
       "36-40      0.13\n",
       "41-45      0.11\n",
       "45-50      0.10\n",
       "51-55      0.10\n",
       "55-60      0.11\n",
       "61-65      0.09\n",
       "65-70      0.10\n",
       "71+        0.10\n",
       "Unknown    0.05\n",
       "Name: y, dtype: float64"
      ]
     },
     "execution_count": 18,
     "metadata": {},
     "output_type": "execute_result"
    }
   ],
   "source": [
    "round((stockTradingData.groupby('age_band')['y']).mean(),2)"
   ]
  },
  {
   "cell_type": "markdown",
   "metadata": {},
   "source": [
    "* Now, we have 6 groups[0.05,0.09,0.10,0.11,0.13,0.17] grouped according to their frequency of occurrence\n",
    "\n",
    "* Let's keep the group 'Unknown' just like that. \n",
    "\n",
    "* Let's club the remaining age bands with the same mean value into the same group and create a new columns column for each group.\n"
   ]
  },
  {
   "cell_type": "code",
   "execution_count": 19,
   "metadata": {
    "ExecuteTime": {
     "end_time": "2020-04-02T03:46:02.615148Z",
     "start_time": "2020-04-02T03:46:02.611159Z"
    }
   },
   "outputs": [],
   "source": [
    "\"\"\" Grouping age_band with same frequencies into the same \n",
    "list and creating a corresponding string for each list. \n",
    "\n",
    "If the particular column we are working with contains values\n",
    "in from one of the lists then those locations in the column\n",
    "will be relaced with the corresponding strings we create for\n",
    "each list \"\"\"\n",
    "\n",
    "\n",
    "firstBand = ['22-25','26-30','31-35','41-45','55-60']\n",
    "firstBandGroup = 'ab_11'\n",
    "\n",
    "secondBand = ['45-50','51-55','65-70','71+']\n",
    "secondBandGroup = 'ab_10'\n",
    "\n",
    "thirdBand = ['61-65']\n",
    "thirdBandGroup = 'ab_9'\n",
    "\n",
    "fourthBand = ['36-40']\n",
    "fourthBandGroup = 'ab_13'\n",
    "\n",
    "fifthBand = ['18-21']\n",
    "fifthBandGroup= 'ab_17'"
   ]
  },
  {
   "cell_type": "code",
   "execution_count": 20,
   "metadata": {
    "ExecuteTime": {
     "end_time": "2020-04-02T03:46:02.621132Z",
     "start_time": "2020-04-02T03:46:02.616146Z"
    }
   },
   "outputs": [],
   "source": [
    "\"\"\" Creating two list of lists for ease of argument passing.\"\"\"\n",
    "\n",
    "bandListAgeBand = [firstBand,secondBand,thirdBand,fourthBand,fifthBand]\n",
    "groupListAgeBand= [firstBandGroup, secondBandGroup, thirdBandGroup, fourthBandGroup, fifthBandGroup]"
   ]
  },
  {
   "cell_type": "code",
   "execution_count": 21,
   "metadata": {
    "ExecuteTime": {
     "end_time": "2020-04-02T03:46:02.629111Z",
     "start_time": "2020-04-02T03:46:02.622130Z"
    }
   },
   "outputs": [],
   "source": [
    "\"\"\" \n",
    "Function to replace values in a column with a string. \n",
    "The values in a column with the same frequency of occurrence \n",
    "were already grouped into lists. \n",
    "\n",
    "For each list we have also created a string. \n",
    "\n",
    "This function will find all positions in a column which has values \n",
    "contained in the list and will replace those values with the string\n",
    "we already created corresponding to each list. \n",
    "\"\"\"\n",
    "\n",
    "def groupDataByFrequency(df,columnName, bandList, groupList):\n",
    "    for i in range(len(stockTradingData)):\n",
    "        for j in range(len(bandList)):\n",
    "            if stockTradingData.loc[i,columnName] in bandList[j]:\n",
    "                stockTradingData.loc[i,columnName] = groupList[j]\n",
    "            if stockTradingData.loc[i,columnName] in bandList[j]:\n",
    "                stockTradingData.loc[i,columnName] = groupList[j]\n",
    "            if stockTradingData.loc[i,columnName] in bandList[j]:\n",
    "                stockTradingData.loc[i,columnName] = groupList[j]\n",
    "            if stockTradingData.loc[i,columnName] in bandList[j]:\n",
    "                stockTradingData.loc[i,columnName] = groupList[j]\n",
    "            if stockTradingData.loc[i,columnName] in bandList[j]:\n",
    "                stockTradingData.loc[i,columnName] = groupList[j]"
   ]
  },
  {
   "cell_type": "code",
   "execution_count": 22,
   "metadata": {
    "ExecuteTime": {
     "end_time": "2020-04-02T03:46:08.467962Z",
     "start_time": "2020-04-02T03:46:02.630108Z"
    }
   },
   "outputs": [],
   "source": [
    "groupDataByFrequency(stockTradingData, columnName= 'age_band', bandList=bandListAgeBand, groupList=groupListAgeBand)"
   ]
  },
  {
   "cell_type": "code",
   "execution_count": 23,
   "metadata": {
    "ExecuteTime": {
     "end_time": "2020-04-02T03:46:08.477763Z",
     "start_time": "2020-04-02T03:46:08.470780Z"
    }
   },
   "outputs": [
    {
     "data": {
      "text/plain": [
       "ab_11      4603\n",
       "ab_10      3419\n",
       "ab_13      1134\n",
       "ab_9        881\n",
       "ab_17        63\n",
       "Unknown      55\n",
       "Name: age_band, dtype: int64"
      ]
     },
     "execution_count": 23,
     "metadata": {},
     "output_type": "execute_result"
    }
   ],
   "source": [
    "stockTradingData['age_band'].value_counts()"
   ]
  },
  {
   "cell_type": "code",
   "execution_count": 24,
   "metadata": {
    "ExecuteTime": {
     "end_time": "2020-04-02T03:46:08.490728Z",
     "start_time": "2020-04-02T03:46:08.479757Z"
    }
   },
   "outputs": [
    {
     "data": {
      "text/html": [
       "<div>\n",
       "<style scoped>\n",
       "    .dataframe tbody tr th:only-of-type {\n",
       "        vertical-align: middle;\n",
       "    }\n",
       "\n",
       "    .dataframe tbody tr th {\n",
       "        vertical-align: top;\n",
       "    }\n",
       "\n",
       "    .dataframe thead th {\n",
       "        text-align: right;\n",
       "    }\n",
       "</style>\n",
       "<table border=\"1\" class=\"dataframe\">\n",
       "  <thead>\n",
       "    <tr style=\"text-align: right;\">\n",
       "      <th></th>\n",
       "      <th>Unknown</th>\n",
       "      <th>ab_10</th>\n",
       "      <th>ab_11</th>\n",
       "      <th>ab_13</th>\n",
       "      <th>ab_17</th>\n",
       "      <th>ab_9</th>\n",
       "    </tr>\n",
       "  </thead>\n",
       "  <tbody>\n",
       "    <tr>\n",
       "      <th>0</th>\n",
       "      <td>0</td>\n",
       "      <td>1</td>\n",
       "      <td>0</td>\n",
       "      <td>0</td>\n",
       "      <td>0</td>\n",
       "      <td>0</td>\n",
       "    </tr>\n",
       "    <tr>\n",
       "      <th>1</th>\n",
       "      <td>0</td>\n",
       "      <td>0</td>\n",
       "      <td>1</td>\n",
       "      <td>0</td>\n",
       "      <td>0</td>\n",
       "      <td>0</td>\n",
       "    </tr>\n",
       "    <tr>\n",
       "      <th>2</th>\n",
       "      <td>0</td>\n",
       "      <td>0</td>\n",
       "      <td>1</td>\n",
       "      <td>0</td>\n",
       "      <td>0</td>\n",
       "      <td>0</td>\n",
       "    </tr>\n",
       "    <tr>\n",
       "      <th>3</th>\n",
       "      <td>0</td>\n",
       "      <td>0</td>\n",
       "      <td>0</td>\n",
       "      <td>0</td>\n",
       "      <td>1</td>\n",
       "      <td>0</td>\n",
       "    </tr>\n",
       "    <tr>\n",
       "      <th>4</th>\n",
       "      <td>0</td>\n",
       "      <td>1</td>\n",
       "      <td>0</td>\n",
       "      <td>0</td>\n",
       "      <td>0</td>\n",
       "      <td>0</td>\n",
       "    </tr>\n",
       "  </tbody>\n",
       "</table>\n",
       "</div>"
      ],
      "text/plain": [
       "   Unknown  ab_10  ab_11  ab_13  ab_17  ab_9\n",
       "0        0      1      0      0      0     0\n",
       "1        0      0      1      0      0     0\n",
       "2        0      0      1      0      0     0\n",
       "3        0      0      0      0      1     0\n",
       "4        0      1      0      0      0     0"
      ]
     },
     "execution_count": 24,
     "metadata": {},
     "output_type": "execute_result"
    }
   ],
   "source": [
    "\"\"\" Now that we have reduced the groups in the data we can now create dummy variables\"\"\"\n",
    "\n",
    "ageBandDummies = pd.get_dummies(stockTradingData['age_band'])\n",
    "ageBandDummies.head()"
   ]
  },
  {
   "cell_type": "code",
   "execution_count": 25,
   "metadata": {
    "ExecuteTime": {
     "end_time": "2020-04-02T03:46:08.496711Z",
     "start_time": "2020-04-02T03:46:08.491725Z"
    }
   },
   "outputs": [],
   "source": [
    "\"\"\" \n",
    "We can drop the column 'Unknown' from the ageBandDummies dataframe. \n",
    "It occurs only 55 times out of all the 10K+ values.\"\"\"\n",
    "\n",
    "ageBandDummies.drop(['Unknown'],axis=1,inplace=True)"
   ]
  },
  {
   "cell_type": "code",
   "execution_count": 26,
   "metadata": {
    "ExecuteTime": {
     "end_time": "2020-04-02T03:46:08.510674Z",
     "start_time": "2020-04-02T03:46:08.497708Z"
    }
   },
   "outputs": [
    {
     "data": {
      "text/html": [
       "<div>\n",
       "<style scoped>\n",
       "    .dataframe tbody tr th:only-of-type {\n",
       "        vertical-align: middle;\n",
       "    }\n",
       "\n",
       "    .dataframe tbody tr th {\n",
       "        vertical-align: top;\n",
       "    }\n",
       "\n",
       "    .dataframe thead th {\n",
       "        text-align: right;\n",
       "    }\n",
       "</style>\n",
       "<table border=\"1\" class=\"dataframe\">\n",
       "  <thead>\n",
       "    <tr style=\"text-align: right;\">\n",
       "      <th></th>\n",
       "      <th>ab_10</th>\n",
       "      <th>ab_11</th>\n",
       "      <th>ab_13</th>\n",
       "      <th>ab_17</th>\n",
       "      <th>ab_9</th>\n",
       "    </tr>\n",
       "  </thead>\n",
       "  <tbody>\n",
       "    <tr>\n",
       "      <th>0</th>\n",
       "      <td>1</td>\n",
       "      <td>0</td>\n",
       "      <td>0</td>\n",
       "      <td>0</td>\n",
       "      <td>0</td>\n",
       "    </tr>\n",
       "    <tr>\n",
       "      <th>1</th>\n",
       "      <td>0</td>\n",
       "      <td>1</td>\n",
       "      <td>0</td>\n",
       "      <td>0</td>\n",
       "      <td>0</td>\n",
       "    </tr>\n",
       "    <tr>\n",
       "      <th>2</th>\n",
       "      <td>0</td>\n",
       "      <td>1</td>\n",
       "      <td>0</td>\n",
       "      <td>0</td>\n",
       "      <td>0</td>\n",
       "    </tr>\n",
       "    <tr>\n",
       "      <th>3</th>\n",
       "      <td>0</td>\n",
       "      <td>0</td>\n",
       "      <td>0</td>\n",
       "      <td>1</td>\n",
       "      <td>0</td>\n",
       "    </tr>\n",
       "    <tr>\n",
       "      <th>4</th>\n",
       "      <td>1</td>\n",
       "      <td>0</td>\n",
       "      <td>0</td>\n",
       "      <td>0</td>\n",
       "      <td>0</td>\n",
       "    </tr>\n",
       "    <tr>\n",
       "      <th>...</th>\n",
       "      <td>...</td>\n",
       "      <td>...</td>\n",
       "      <td>...</td>\n",
       "      <td>...</td>\n",
       "      <td>...</td>\n",
       "    </tr>\n",
       "    <tr>\n",
       "      <th>10150</th>\n",
       "      <td>1</td>\n",
       "      <td>0</td>\n",
       "      <td>0</td>\n",
       "      <td>0</td>\n",
       "      <td>0</td>\n",
       "    </tr>\n",
       "    <tr>\n",
       "      <th>10151</th>\n",
       "      <td>1</td>\n",
       "      <td>0</td>\n",
       "      <td>0</td>\n",
       "      <td>0</td>\n",
       "      <td>0</td>\n",
       "    </tr>\n",
       "    <tr>\n",
       "      <th>10152</th>\n",
       "      <td>0</td>\n",
       "      <td>1</td>\n",
       "      <td>0</td>\n",
       "      <td>0</td>\n",
       "      <td>0</td>\n",
       "    </tr>\n",
       "    <tr>\n",
       "      <th>10153</th>\n",
       "      <td>1</td>\n",
       "      <td>0</td>\n",
       "      <td>0</td>\n",
       "      <td>0</td>\n",
       "      <td>0</td>\n",
       "    </tr>\n",
       "    <tr>\n",
       "      <th>10154</th>\n",
       "      <td>0</td>\n",
       "      <td>1</td>\n",
       "      <td>0</td>\n",
       "      <td>0</td>\n",
       "      <td>0</td>\n",
       "    </tr>\n",
       "  </tbody>\n",
       "</table>\n",
       "<p>10155 rows × 5 columns</p>\n",
       "</div>"
      ],
      "text/plain": [
       "       ab_10  ab_11  ab_13  ab_17  ab_9\n",
       "0          1      0      0      0     0\n",
       "1          0      1      0      0     0\n",
       "2          0      1      0      0     0\n",
       "3          0      0      0      1     0\n",
       "4          1      0      0      0     0\n",
       "...      ...    ...    ...    ...   ...\n",
       "10150      1      0      0      0     0\n",
       "10151      1      0      0      0     0\n",
       "10152      0      1      0      0     0\n",
       "10153      1      0      0      0     0\n",
       "10154      0      1      0      0     0\n",
       "\n",
       "[10155 rows x 5 columns]"
      ]
     },
     "execution_count": 26,
     "metadata": {},
     "output_type": "execute_result"
    }
   ],
   "source": [
    "ageBandDummies"
   ]
  },
  {
   "cell_type": "code",
   "execution_count": 27,
   "metadata": {
    "ExecuteTime": {
     "end_time": "2020-04-02T03:46:08.520647Z",
     "start_time": "2020-04-02T03:46:08.511671Z"
    }
   },
   "outputs": [],
   "source": [
    "\"\"\" Now, let's add this ageBandDummies dataframe back into the original dataframe\"\"\"\n",
    "\n",
    "stockTradingData = stockTradingData.join(ageBandDummies)"
   ]
  },
  {
   "cell_type": "code",
   "execution_count": 28,
   "metadata": {
    "ExecuteTime": {
     "end_time": "2020-04-02T03:46:08.533663Z",
     "start_time": "2020-04-02T03:46:08.521645Z"
    }
   },
   "outputs": [],
   "source": [
    "\"\"\" Let's also drop the column 'age_band' from the stockTradingData dataframe\"\"\"\n",
    "\n",
    "stockTradingData.drop(['age_band'], axis=1, inplace=True)"
   ]
  },
  {
   "cell_type": "code",
   "execution_count": 29,
   "metadata": {
    "ExecuteTime": {
     "end_time": "2020-04-02T03:46:08.540595Z",
     "start_time": "2020-04-02T03:46:08.534609Z"
    },
    "scrolled": true
   },
   "outputs": [
    {
     "name": "stdout",
     "output_type": "stream",
     "text": [
      "status\n",
      "occupation\n",
      "occupation_partner\n",
      "home_status\n",
      "family_income\n",
      "self_employed\n",
      "self_employed_partner\n",
      "TVarea\n",
      "post_code\n",
      "post_area\n",
      "gender\n",
      "region\n"
     ]
    }
   ],
   "source": [
    "printObjectDatatypeColumn(stockTradingData)"
   ]
  },
  {
   "cell_type": "markdown",
   "metadata": {},
   "source": [
    "### Converting the column 'occupation' to several dummy variables"
   ]
  },
  {
   "cell_type": "code",
   "execution_count": 30,
   "metadata": {
    "ExecuteTime": {
     "end_time": "2020-04-02T03:46:08.550450Z",
     "start_time": "2020-04-02T03:46:08.541659Z"
    }
   },
   "outputs": [
    {
     "data": {
      "text/plain": [
       "Professional         2449\n",
       "Retired              2206\n",
       "Secretarial/Admin    1797\n",
       "Housewife            1255\n",
       "Business Manager      732\n",
       "Unknown               567\n",
       "Manual Worker         556\n",
       "Other                 537\n",
       "Student                56\n",
       "Name: occupation, dtype: int64"
      ]
     },
     "execution_count": 30,
     "metadata": {},
     "output_type": "execute_result"
    }
   ],
   "source": [
    "stockTradingData['occupation'].value_counts()"
   ]
  },
  {
   "cell_type": "code",
   "execution_count": 31,
   "metadata": {
    "ExecuteTime": {
     "end_time": "2020-04-02T03:46:08.559768Z",
     "start_time": "2020-04-02T03:46:08.551447Z"
    }
   },
   "outputs": [
    {
     "data": {
      "text/plain": [
       "occupation\n",
       "Business Manager     0.12\n",
       "Housewife            0.09\n",
       "Manual Worker        0.11\n",
       "Other                0.11\n",
       "Professional         0.12\n",
       "Retired              0.10\n",
       "Secretarial/Admin    0.11\n",
       "Student              0.11\n",
       "Unknown              0.11\n",
       "Name: y, dtype: float64"
      ]
     },
     "execution_count": 31,
     "metadata": {},
     "output_type": "execute_result"
    }
   ],
   "source": [
    "round(stockTradingData.groupby('occupation')['y'].mean(),2)"
   ]
  },
  {
   "cell_type": "code",
   "execution_count": 32,
   "metadata": {
    "ExecuteTime": {
     "end_time": "2020-04-02T03:46:08.564754Z",
     "start_time": "2020-04-02T03:46:08.560764Z"
    }
   },
   "outputs": [],
   "source": [
    "occFirstBand = ['Retired']\n",
    "occFirstBandGroup = 'ocup_10'\n",
    "\n",
    "occSecondBand = ['Manual Worker','Other','Secretarial/Admin','Student','Unknown']\n",
    "occSecondBandGroup = 'ocup_11'\n",
    "\n",
    "occThirdBand = ['Business Manager','Professional']\n",
    "occThirdBandGroup = 'ocup_12'"
   ]
  },
  {
   "cell_type": "code",
   "execution_count": 33,
   "metadata": {
    "ExecuteTime": {
     "end_time": "2020-04-02T03:46:08.569765Z",
     "start_time": "2020-04-02T03:46:08.565750Z"
    }
   },
   "outputs": [],
   "source": [
    "occBand = [occFirstBand,occSecondBand,occThirdBand]\n",
    "occGroup = [occFirstBandGroup,occSecondBandGroup,occThirdBandGroup]"
   ]
  },
  {
   "cell_type": "code",
   "execution_count": 34,
   "metadata": {
    "ExecuteTime": {
     "end_time": "2020-04-02T03:46:13.318071Z",
     "start_time": "2020-04-02T03:46:08.570737Z"
    }
   },
   "outputs": [],
   "source": [
    "groupDataByFrequency(stockTradingData,columnName='occupation', bandList=occBand, groupList=occGroup)"
   ]
  },
  {
   "cell_type": "code",
   "execution_count": 35,
   "metadata": {
    "ExecuteTime": {
     "end_time": "2020-04-02T03:46:13.325049Z",
     "start_time": "2020-04-02T03:46:13.319043Z"
    }
   },
   "outputs": [],
   "source": [
    "occDummies = pd.get_dummies(stockTradingData['occupation'])"
   ]
  },
  {
   "cell_type": "code",
   "execution_count": 36,
   "metadata": {
    "ExecuteTime": {
     "end_time": "2020-04-02T03:46:13.333993Z",
     "start_time": "2020-04-02T03:46:13.326014Z"
    }
   },
   "outputs": [],
   "source": [
    "stockTradingData=stockTradingData.join(occDummies)"
   ]
  },
  {
   "cell_type": "code",
   "execution_count": 37,
   "metadata": {
    "ExecuteTime": {
     "end_time": "2020-04-02T03:46:13.344996Z",
     "start_time": "2020-04-02T03:46:13.334991Z"
    }
   },
   "outputs": [],
   "source": [
    "stockTradingData.drop(['occupation','Housewife'], axis=1, inplace=True)"
   ]
  },
  {
   "cell_type": "code",
   "execution_count": 38,
   "metadata": {
    "ExecuteTime": {
     "end_time": "2020-04-02T03:46:13.351945Z",
     "start_time": "2020-04-02T03:46:13.345961Z"
    }
   },
   "outputs": [
    {
     "name": "stdout",
     "output_type": "stream",
     "text": [
      "status\n",
      "occupation_partner\n",
      "home_status\n",
      "family_income\n",
      "self_employed\n",
      "self_employed_partner\n",
      "TVarea\n",
      "post_code\n",
      "post_area\n",
      "gender\n",
      "region\n"
     ]
    }
   ],
   "source": [
    "printObjectDatatypeColumn(stockTradingData)"
   ]
  },
  {
   "cell_type": "markdown",
   "metadata": {},
   "source": [
    "### Converting the column 'occupation_partner' into several dummy variables"
   ]
  },
  {
   "cell_type": "code",
   "execution_count": 39,
   "metadata": {
    "ExecuteTime": {
     "end_time": "2020-04-02T03:46:13.361968Z",
     "start_time": "2020-04-02T03:46:13.352942Z"
    }
   },
   "outputs": [
    {
     "data": {
      "text/plain": [
       "Unknown              2394\n",
       "Professional         2051\n",
       "Retired              1936\n",
       "Manual Worker        1508\n",
       "Business Manager      737\n",
       "Secretarial/Admin     662\n",
       "Housewife             527\n",
       "Other                 324\n",
       "Student                16\n",
       "Name: occupation_partner, dtype: int64"
      ]
     },
     "execution_count": 39,
     "metadata": {},
     "output_type": "execute_result"
    }
   ],
   "source": [
    "stockTradingData['occupation_partner'].value_counts()"
   ]
  },
  {
   "cell_type": "code",
   "execution_count": 40,
   "metadata": {
    "ExecuteTime": {
     "end_time": "2020-04-02T03:46:13.369947Z",
     "start_time": "2020-04-02T03:46:13.362915Z"
    }
   },
   "outputs": [
    {
     "data": {
      "text/plain": [
       "occupation_partner\n",
       "Business Manager     0.11\n",
       "Housewife            0.11\n",
       "Manual Worker        0.11\n",
       "Other                0.10\n",
       "Professional         0.11\n",
       "Retired              0.10\n",
       "Secretarial/Admin    0.12\n",
       "Student              0.12\n",
       "Unknown              0.10\n",
       "Name: y, dtype: float64"
      ]
     },
     "execution_count": 40,
     "metadata": {},
     "output_type": "execute_result"
    }
   ],
   "source": [
    "round(stockTradingData.groupby('occupation_partner')['y'].mean(),2)"
   ]
  },
  {
   "cell_type": "code",
   "execution_count": 41,
   "metadata": {
    "ExecuteTime": {
     "end_time": "2020-04-02T03:46:13.374884Z",
     "start_time": "2020-04-02T03:46:13.370894Z"
    }
   },
   "outputs": [],
   "source": [
    "partOccFirstBand = ['Other','Retired','Unknown']\n",
    "partOccFirstBandGroup = 'partOcc_10'\n",
    "\n",
    "partOccSecondBand = ['Business Manager','Housewife','Manual Worker','Professional']\n",
    "partOccSecondBandGroup = 'partOcc_11'\n",
    "\n",
    "partOccThirdBand = ['Secretarial/Admin','Student']\n",
    "partOccThirdBandGroup = 'partOcc_12'"
   ]
  },
  {
   "cell_type": "code",
   "execution_count": 42,
   "metadata": {
    "ExecuteTime": {
     "end_time": "2020-04-02T03:46:13.380868Z",
     "start_time": "2020-04-02T03:46:13.375881Z"
    }
   },
   "outputs": [],
   "source": [
    "partOccBand = [partOccFirstBand,partOccSecondBand,partOccThirdBand]\n",
    "partOccGroup = [partOccFirstBandGroup, partOccSecondBandGroup,partOccThirdBandGroup]"
   ]
  },
  {
   "cell_type": "code",
   "execution_count": 43,
   "metadata": {
    "ExecuteTime": {
     "end_time": "2020-04-02T03:46:18.841314Z",
     "start_time": "2020-04-02T03:46:13.381865Z"
    }
   },
   "outputs": [],
   "source": [
    "groupDataByFrequency(stockTradingData, columnName='occupation_partner', bandList=partOccBand, groupList=partOccGroup)"
   ]
  },
  {
   "cell_type": "code",
   "execution_count": 44,
   "metadata": {
    "ExecuteTime": {
     "end_time": "2020-04-02T03:46:18.851258Z",
     "start_time": "2020-04-02T03:46:18.842322Z"
    }
   },
   "outputs": [
    {
     "data": {
      "text/plain": [
       "occupation_partner\n",
       "partOcc_10    0.10\n",
       "partOcc_11    0.11\n",
       "partOcc_12    0.12\n",
       "Name: y, dtype: float64"
      ]
     },
     "execution_count": 44,
     "metadata": {},
     "output_type": "execute_result"
    }
   ],
   "source": [
    "round(stockTradingData.groupby('occupation_partner')['y'].mean(),2)"
   ]
  },
  {
   "cell_type": "code",
   "execution_count": 45,
   "metadata": {
    "ExecuteTime": {
     "end_time": "2020-04-02T03:46:18.860232Z",
     "start_time": "2020-04-02T03:46:18.853251Z"
    }
   },
   "outputs": [],
   "source": [
    "partOccupation = pd.get_dummies(stockTradingData['occupation_partner'])"
   ]
  },
  {
   "cell_type": "code",
   "execution_count": 46,
   "metadata": {
    "ExecuteTime": {
     "end_time": "2020-04-02T03:46:18.871214Z",
     "start_time": "2020-04-02T03:46:18.862228Z"
    }
   },
   "outputs": [],
   "source": [
    "stockTradingData = stockTradingData.join(partOccupation)"
   ]
  },
  {
   "cell_type": "code",
   "execution_count": 47,
   "metadata": {
    "ExecuteTime": {
     "end_time": "2020-04-02T03:46:18.890156Z",
     "start_time": "2020-04-02T03:46:18.873201Z"
    }
   },
   "outputs": [],
   "source": [
    "stockTradingData.drop(['occupation_partner'], axis=1, inplace=True)"
   ]
  },
  {
   "cell_type": "code",
   "execution_count": 48,
   "metadata": {
    "ExecuteTime": {
     "end_time": "2020-04-02T03:46:18.903118Z",
     "start_time": "2020-04-02T03:46:18.892148Z"
    },
    "scrolled": true
   },
   "outputs": [
    {
     "name": "stdout",
     "output_type": "stream",
     "text": [
      "status\n",
      "home_status\n",
      "family_income\n",
      "self_employed\n",
      "self_employed_partner\n",
      "TVarea\n",
      "post_code\n",
      "post_area\n",
      "gender\n",
      "region\n"
     ]
    }
   ],
   "source": [
    "printObjectDatatypeColumn(stockTradingData)"
   ]
  },
  {
   "cell_type": "markdown",
   "metadata": {},
   "source": [
    "### Converting 'family_income'variable into mean family income"
   ]
  },
  {
   "cell_type": "code",
   "execution_count": 49,
   "metadata": {
    "ExecuteTime": {
     "end_time": "2020-04-02T03:46:18.917081Z",
     "start_time": "2020-04-02T03:46:18.905115Z"
    }
   },
   "outputs": [
    {
     "data": {
      "text/plain": [
       ">=35,000             2517\n",
       "<27,500, >=25,000    1227\n",
       "<30,000, >=27,500     994\n",
       "<25,000, >=22,500     833\n",
       "<20,000, >=17,500     683\n",
       "<12,500, >=10,000     677\n",
       "<17,500, >=15,000     634\n",
       "<15,000, >=12,500     629\n",
       "<22,500, >=20,000     590\n",
       "<10,000, >= 8,000     563\n",
       "< 8,000, >= 4,000     402\n",
       "< 4,000               278\n",
       "Unknown               128\n",
       "Name: family_income, dtype: int64"
      ]
     },
     "execution_count": 49,
     "metadata": {},
     "output_type": "execute_result"
    }
   ],
   "source": [
    "stockTradingData['family_income'].value_counts()"
   ]
  },
  {
   "cell_type": "code",
   "execution_count": 50,
   "metadata": {
    "ExecuteTime": {
     "end_time": "2020-04-02T03:46:18.930056Z",
     "start_time": "2020-04-02T03:46:18.919075Z"
    }
   },
   "outputs": [
    {
     "data": {
      "text/plain": [
       "family_income\n",
       "< 4,000              0.08\n",
       "< 8,000, >= 4,000    0.08\n",
       "<10,000, >= 8,000    0.11\n",
       "<12,500, >=10,000    0.10\n",
       "<15,000, >=12,500    0.11\n",
       "<17,500, >=15,000    0.12\n",
       "<20,000, >=17,500    0.11\n",
       "<22,500, >=20,000    0.12\n",
       "<25,000, >=22,500    0.10\n",
       "<27,500, >=25,000    0.10\n",
       "<30,000, >=27,500    0.12\n",
       ">=35,000             0.11\n",
       "Unknown              0.07\n",
       "Name: y, dtype: float64"
      ]
     },
     "execution_count": 50,
     "metadata": {},
     "output_type": "execute_result"
    }
   ],
   "source": [
    "round(stockTradingData.groupby('family_income')['y'].mean(),2)"
   ]
  },
  {
   "cell_type": "markdown",
   "metadata": {},
   "source": [
    "Since this is a currency related numeric variable, let's convert each band into the mean of the income band"
   ]
  },
  {
   "cell_type": "markdown",
   "metadata": {},
   "source": [
    "Here we have three bands, '< 4,000', '>=35,000', and 'Unknown' instead of removing them we can just club them all together. \n",
    "An easy way to club it is to create a new variable called 'fi' with a default value of 4 At every location where the 'family_income' variable has a band, this new variable will have the average value of that band. Every other location will have a default value of 4. "
   ]
  },
  {
   "cell_type": "code",
   "execution_count": 51,
   "metadata": {
    "ExecuteTime": {
     "end_time": "2020-04-02T03:46:18.936030Z",
     "start_time": "2020-04-02T03:46:18.932041Z"
    }
   },
   "outputs": [],
   "source": [
    "stockTradingData['fi'] = 4"
   ]
  },
  {
   "cell_type": "code",
   "execution_count": 52,
   "metadata": {
    "ExecuteTime": {
     "end_time": "2020-04-02T03:46:18.974926Z",
     "start_time": "2020-04-02T03:46:18.938026Z"
    }
   },
   "outputs": [],
   "source": [
    "stockTradingData.loc[stockTradingData['family_income'] == '< 8,000, >= 4,000', 'fi'] = (8+4)/2\n",
    "stockTradingData.loc[stockTradingData['family_income'] == '<10,000, >= 8,000', 'fi'] = (10+8)/2\n",
    "stockTradingData.loc[stockTradingData['family_income'] == '<12,500, >=10,000', 'fi'] = (12.5+10)/2\n",
    "stockTradingData.loc[stockTradingData['family_income'] == '<15,000, >=12,500', 'fi'] = (15+12.5)/2\n",
    "stockTradingData.loc[stockTradingData['family_income'] == '<17,500, >=15,000', 'fi'] = (17.5+15)/2\n",
    "stockTradingData.loc[stockTradingData['family_income'] == '<20,000, >=17,500', 'fi'] = (20+17.5)/2\n",
    "stockTradingData.loc[stockTradingData['family_income'] == '<22,500, >=20,000', 'fi'] = (22.5+20)/2\n",
    "stockTradingData.loc[stockTradingData['family_income'] == '<25,000, >=22,500', 'fi'] = (25+22.5)/2\n",
    "stockTradingData.loc[stockTradingData['family_income'] == '<27,500, >=25,000', 'fi'] = (27.5+25)/2\n",
    "stockTradingData.loc[stockTradingData['family_income'] == '<30,000, >=27,500', 'fi'] = (30+27.5)/2"
   ]
  },
  {
   "cell_type": "code",
   "execution_count": 53,
   "metadata": {
    "ExecuteTime": {
     "end_time": "2020-04-02T03:46:18.983902Z",
     "start_time": "2020-04-02T03:46:18.976921Z"
    }
   },
   "outputs": [
    {
     "data": {
      "text/plain": [
       "0        16.25\n",
       "1        26.25\n",
       "2        28.75\n",
       "3        13.75\n",
       "4        28.75\n",
       "         ...  \n",
       "10150    28.75\n",
       "10151    23.75\n",
       "10152     4.00\n",
       "10153     9.00\n",
       "10154    26.25\n",
       "Name: fi, Length: 10155, dtype: float64"
      ]
     },
     "execution_count": 53,
     "metadata": {},
     "output_type": "execute_result"
    }
   ],
   "source": [
    "stockTradingData['fi']"
   ]
  },
  {
   "cell_type": "code",
   "execution_count": 54,
   "metadata": {
    "ExecuteTime": {
     "end_time": "2020-04-02T03:46:18.994873Z",
     "start_time": "2020-04-02T03:46:18.984898Z"
    }
   },
   "outputs": [
    {
     "data": {
      "text/plain": [
       "4.00     2923\n",
       "26.25    1227\n",
       "28.75     994\n",
       "23.75     833\n",
       "18.75     683\n",
       "11.25     677\n",
       "16.25     634\n",
       "13.75     629\n",
       "21.25     590\n",
       "9.00      563\n",
       "6.00      402\n",
       "Name: fi, dtype: int64"
      ]
     },
     "execution_count": 54,
     "metadata": {},
     "output_type": "execute_result"
    }
   ],
   "source": [
    "stockTradingData['fi'].value_counts()"
   ]
  },
  {
   "cell_type": "code",
   "execution_count": 55,
   "metadata": {
    "ExecuteTime": {
     "end_time": "2020-04-02T03:46:19.004846Z",
     "start_time": "2020-04-02T03:46:18.995871Z"
    }
   },
   "outputs": [],
   "source": [
    "stockTradingData.drop(['family_income'], axis=1, inplace=True)"
   ]
  },
  {
   "cell_type": "code",
   "execution_count": 56,
   "metadata": {
    "ExecuteTime": {
     "end_time": "2020-04-02T03:46:19.013821Z",
     "start_time": "2020-04-02T03:46:19.006842Z"
    },
    "scrolled": true
   },
   "outputs": [
    {
     "name": "stdout",
     "output_type": "stream",
     "text": [
      "status\n",
      "home_status\n",
      "self_employed\n",
      "self_employed_partner\n",
      "TVarea\n",
      "post_code\n",
      "post_area\n",
      "gender\n",
      "region\n"
     ]
    }
   ],
   "source": [
    "printObjectDatatypeColumn(stockTradingData)"
   ]
  },
  {
   "cell_type": "markdown",
   "metadata": {},
   "source": [
    "### Converting variable 'self_employed' into two integer"
   ]
  },
  {
   "cell_type": "code",
   "execution_count": 57,
   "metadata": {
    "ExecuteTime": {
     "end_time": "2020-04-02T03:46:19.021801Z",
     "start_time": "2020-04-02T03:46:19.014819Z"
    }
   },
   "outputs": [
    {
     "data": {
      "text/plain": [
       "No     9436\n",
       "Yes     719\n",
       "Name: self_employed, dtype: int64"
      ]
     },
     "execution_count": 57,
     "metadata": {},
     "output_type": "execute_result"
    }
   ],
   "source": [
    "stockTradingData['self_employed'].value_counts()"
   ]
  },
  {
   "cell_type": "code",
   "execution_count": 58,
   "metadata": {
    "ExecuteTime": {
     "end_time": "2020-04-02T03:46:19.027784Z",
     "start_time": "2020-04-02T03:46:19.023796Z"
    }
   },
   "outputs": [],
   "source": [
    "\"\"\" Creating a new column called 'selfEmployedYes' \"\"\"\n",
    "stockTradingData['selfEmployedYes'] = 0"
   ]
  },
  {
   "cell_type": "code",
   "execution_count": 59,
   "metadata": {
    "ExecuteTime": {
     "end_time": "2020-04-02T03:46:19.033778Z",
     "start_time": "2020-04-02T03:46:19.028782Z"
    }
   },
   "outputs": [],
   "source": [
    "stockTradingData['selfEmployedYes'] = np.where(stockTradingData['self_employed']=='Yes', 1, 0)"
   ]
  },
  {
   "cell_type": "code",
   "execution_count": 60,
   "metadata": {
    "ExecuteTime": {
     "end_time": "2020-04-02T03:46:19.042745Z",
     "start_time": "2020-04-02T03:46:19.034774Z"
    }
   },
   "outputs": [
    {
     "data": {
      "text/plain": [
       "No     9436\n",
       "Yes     719\n",
       "Name: self_employed, dtype: int64"
      ]
     },
     "execution_count": 60,
     "metadata": {},
     "output_type": "execute_result"
    }
   ],
   "source": [
    "stockTradingData['self_employed'].value_counts()"
   ]
  },
  {
   "cell_type": "code",
   "execution_count": 61,
   "metadata": {
    "ExecuteTime": {
     "end_time": "2020-04-02T03:46:19.050747Z",
     "start_time": "2020-04-02T03:46:19.043743Z"
    }
   },
   "outputs": [],
   "source": [
    "stockTradingData.drop(['self_employed'], axis=1, inplace=True)"
   ]
  },
  {
   "cell_type": "code",
   "execution_count": 62,
   "metadata": {
    "ExecuteTime": {
     "end_time": "2020-04-02T03:46:19.057725Z",
     "start_time": "2020-04-02T03:46:19.051720Z"
    }
   },
   "outputs": [
    {
     "name": "stdout",
     "output_type": "stream",
     "text": [
      "status\n",
      "home_status\n",
      "self_employed_partner\n",
      "TVarea\n",
      "post_code\n",
      "post_area\n",
      "gender\n",
      "region\n"
     ]
    }
   ],
   "source": [
    "printObjectDatatypeColumn(stockTradingData)"
   ]
  },
  {
   "cell_type": "markdown",
   "metadata": {},
   "source": [
    "### Converting 'self_employed_partner' variable into dummy variable"
   ]
  },
  {
   "cell_type": "code",
   "execution_count": 63,
   "metadata": {
    "ExecuteTime": {
     "end_time": "2020-04-02T03:46:19.066680Z",
     "start_time": "2020-04-02T03:46:19.058722Z"
    }
   },
   "outputs": [
    {
     "data": {
      "text/plain": [
       "No     9026\n",
       "Yes    1129\n",
       "Name: self_employed_partner, dtype: int64"
      ]
     },
     "execution_count": 63,
     "metadata": {},
     "output_type": "execute_result"
    }
   ],
   "source": [
    "stockTradingData['self_employed_partner'].value_counts()"
   ]
  },
  {
   "cell_type": "code",
   "execution_count": 64,
   "metadata": {
    "ExecuteTime": {
     "end_time": "2020-04-02T03:46:19.071692Z",
     "start_time": "2020-04-02T03:46:19.067681Z"
    }
   },
   "outputs": [],
   "source": [
    "stockTradingData['selfEmployedPartnerYes'] = 0"
   ]
  },
  {
   "cell_type": "code",
   "execution_count": 65,
   "metadata": {
    "ExecuteTime": {
     "end_time": "2020-04-02T03:46:19.079680Z",
     "start_time": "2020-04-02T03:46:19.072664Z"
    }
   },
   "outputs": [],
   "source": [
    "stockTradingData['selfEmployedPartnerYes'] = np.where(stockTradingData['self_employed_partner']=='Yes',1,0)"
   ]
  },
  {
   "cell_type": "code",
   "execution_count": 66,
   "metadata": {
    "ExecuteTime": {
     "end_time": "2020-04-02T03:46:19.087655Z",
     "start_time": "2020-04-02T03:46:19.080674Z"
    }
   },
   "outputs": [
    {
     "data": {
      "text/plain": [
       "0    9026\n",
       "1    1129\n",
       "Name: selfEmployedPartnerYes, dtype: int64"
      ]
     },
     "execution_count": 66,
     "metadata": {},
     "output_type": "execute_result"
    }
   ],
   "source": [
    "stockTradingData['selfEmployedPartnerYes'].value_counts()"
   ]
  },
  {
   "cell_type": "code",
   "execution_count": 67,
   "metadata": {
    "ExecuteTime": {
     "end_time": "2020-04-02T03:46:19.094630Z",
     "start_time": "2020-04-02T03:46:19.088623Z"
    }
   },
   "outputs": [],
   "source": [
    "stockTradingData.drop(['self_employed_partner'], axis=1, inplace=True)"
   ]
  },
  {
   "cell_type": "code",
   "execution_count": 68,
   "metadata": {
    "ExecuteTime": {
     "end_time": "2020-04-02T03:46:19.105576Z",
     "start_time": "2020-04-02T03:46:19.099619Z"
    },
    "scrolled": true
   },
   "outputs": [
    {
     "name": "stdout",
     "output_type": "stream",
     "text": [
      "status\n",
      "home_status\n",
      "TVarea\n",
      "post_code\n",
      "post_area\n",
      "gender\n",
      "region\n"
     ]
    }
   ],
   "source": [
    "printObjectDatatypeColumn(stockTradingData)"
   ]
  },
  {
   "cell_type": "markdown",
   "metadata": {},
   "source": [
    "### Converting variable 'status' into integer"
   ]
  },
  {
   "cell_type": "code",
   "execution_count": 69,
   "metadata": {
    "ExecuteTime": {
     "end_time": "2020-04-02T03:46:19.114551Z",
     "start_time": "2020-04-02T03:46:19.107571Z"
    }
   },
   "outputs": [
    {
     "data": {
      "text/plain": [
       "Partner                 7709\n",
       "Single/Never Married    1101\n",
       "Divorced/Separated       679\n",
       "Widowed                  618\n",
       "Unknown                   48\n",
       "Name: status, dtype: int64"
      ]
     },
     "execution_count": 69,
     "metadata": {},
     "output_type": "execute_result"
    }
   ],
   "source": [
    "stockTradingData['status'].value_counts()"
   ]
  },
  {
   "cell_type": "code",
   "execution_count": 70,
   "metadata": {
    "ExecuteTime": {
     "end_time": "2020-04-02T03:46:19.125552Z",
     "start_time": "2020-04-02T03:46:19.115549Z"
    }
   },
   "outputs": [],
   "source": [
    "stockTradingData.loc[stockTradingData['status'] == 'Partner', 'status'] = 'st_partner'\n",
    "stockTradingData.loc[stockTradingData['status'] == 'Single/Never Married', 'status'] = 'st_singleNm'\n",
    "stockTradingData.loc[stockTradingData['status'] == 'Divorced/Separated', 'status'] = 'st_divSep'"
   ]
  },
  {
   "cell_type": "code",
   "execution_count": 71,
   "metadata": {
    "ExecuteTime": {
     "end_time": "2020-04-02T03:46:19.132504Z",
     "start_time": "2020-04-02T03:46:19.126552Z"
    }
   },
   "outputs": [
    {
     "data": {
      "text/plain": [
       "st_partner     7709\n",
       "st_singleNm    1101\n",
       "st_divSep       679\n",
       "Widowed         618\n",
       "Unknown          48\n",
       "Name: status, dtype: int64"
      ]
     },
     "execution_count": 71,
     "metadata": {},
     "output_type": "execute_result"
    }
   ],
   "source": [
    "stockTradingData['status'].value_counts()"
   ]
  },
  {
   "cell_type": "code",
   "execution_count": 72,
   "metadata": {
    "ExecuteTime": {
     "end_time": "2020-04-02T03:46:19.140483Z",
     "start_time": "2020-04-02T03:46:19.133519Z"
    }
   },
   "outputs": [],
   "source": [
    "statusDummies = pd.get_dummies(stockTradingData['status'])"
   ]
  },
  {
   "cell_type": "code",
   "execution_count": 73,
   "metadata": {
    "ExecuteTime": {
     "end_time": "2020-04-02T03:46:19.148488Z",
     "start_time": "2020-04-02T03:46:19.141479Z"
    }
   },
   "outputs": [
    {
     "data": {
      "text/html": [
       "<div>\n",
       "<style scoped>\n",
       "    .dataframe tbody tr th:only-of-type {\n",
       "        vertical-align: middle;\n",
       "    }\n",
       "\n",
       "    .dataframe tbody tr th {\n",
       "        vertical-align: top;\n",
       "    }\n",
       "\n",
       "    .dataframe thead th {\n",
       "        text-align: right;\n",
       "    }\n",
       "</style>\n",
       "<table border=\"1\" class=\"dataframe\">\n",
       "  <thead>\n",
       "    <tr style=\"text-align: right;\">\n",
       "      <th></th>\n",
       "      <th>Unknown</th>\n",
       "      <th>Widowed</th>\n",
       "      <th>st_divSep</th>\n",
       "      <th>st_partner</th>\n",
       "      <th>st_singleNm</th>\n",
       "    </tr>\n",
       "  </thead>\n",
       "  <tbody>\n",
       "    <tr>\n",
       "      <th>0</th>\n",
       "      <td>0</td>\n",
       "      <td>0</td>\n",
       "      <td>0</td>\n",
       "      <td>1</td>\n",
       "      <td>0</td>\n",
       "    </tr>\n",
       "    <tr>\n",
       "      <th>1</th>\n",
       "      <td>0</td>\n",
       "      <td>0</td>\n",
       "      <td>0</td>\n",
       "      <td>0</td>\n",
       "      <td>1</td>\n",
       "    </tr>\n",
       "    <tr>\n",
       "      <th>2</th>\n",
       "      <td>0</td>\n",
       "      <td>0</td>\n",
       "      <td>0</td>\n",
       "      <td>0</td>\n",
       "      <td>1</td>\n",
       "    </tr>\n",
       "    <tr>\n",
       "      <th>3</th>\n",
       "      <td>0</td>\n",
       "      <td>0</td>\n",
       "      <td>0</td>\n",
       "      <td>0</td>\n",
       "      <td>1</td>\n",
       "    </tr>\n",
       "    <tr>\n",
       "      <th>4</th>\n",
       "      <td>0</td>\n",
       "      <td>0</td>\n",
       "      <td>0</td>\n",
       "      <td>1</td>\n",
       "      <td>0</td>\n",
       "    </tr>\n",
       "  </tbody>\n",
       "</table>\n",
       "</div>"
      ],
      "text/plain": [
       "   Unknown  Widowed  st_divSep  st_partner  st_singleNm\n",
       "0        0        0          0           1            0\n",
       "1        0        0          0           0            1\n",
       "2        0        0          0           0            1\n",
       "3        0        0          0           0            1\n",
       "4        0        0          0           1            0"
      ]
     },
     "execution_count": 73,
     "metadata": {},
     "output_type": "execute_result"
    }
   ],
   "source": [
    "statusDummies.head()"
   ]
  },
  {
   "cell_type": "code",
   "execution_count": 74,
   "metadata": {
    "ExecuteTime": {
     "end_time": "2020-04-02T03:46:19.159472Z",
     "start_time": "2020-04-02T03:46:19.149459Z"
    }
   },
   "outputs": [],
   "source": [
    "stockTradingData = stockTradingData.join(statusDummies)"
   ]
  },
  {
   "cell_type": "code",
   "execution_count": 75,
   "metadata": {
    "ExecuteTime": {
     "end_time": "2020-04-02T03:46:19.189352Z",
     "start_time": "2020-04-02T03:46:19.160429Z"
    }
   },
   "outputs": [
    {
     "data": {
      "text/html": [
       "<div>\n",
       "<style scoped>\n",
       "    .dataframe tbody tr th:only-of-type {\n",
       "        vertical-align: middle;\n",
       "    }\n",
       "\n",
       "    .dataframe tbody tr th {\n",
       "        vertical-align: top;\n",
       "    }\n",
       "\n",
       "    .dataframe thead th {\n",
       "        text-align: right;\n",
       "    }\n",
       "</style>\n",
       "<table border=\"1\" class=\"dataframe\">\n",
       "  <thead>\n",
       "    <tr style=\"text-align: right;\">\n",
       "      <th></th>\n",
       "      <th>REF_NO</th>\n",
       "      <th>children</th>\n",
       "      <th>status</th>\n",
       "      <th>home_status</th>\n",
       "      <th>year_last_moved</th>\n",
       "      <th>TVarea</th>\n",
       "      <th>post_code</th>\n",
       "      <th>post_area</th>\n",
       "      <th>Average Credit Card Transaction</th>\n",
       "      <th>Balance Transfer</th>\n",
       "      <th>...</th>\n",
       "      <th>partOcc_11</th>\n",
       "      <th>partOcc_12</th>\n",
       "      <th>fi</th>\n",
       "      <th>selfEmployedYes</th>\n",
       "      <th>selfEmployedPartnerYes</th>\n",
       "      <th>Unknown</th>\n",
       "      <th>Widowed</th>\n",
       "      <th>st_divSep</th>\n",
       "      <th>st_partner</th>\n",
       "      <th>st_singleNm</th>\n",
       "    </tr>\n",
       "  </thead>\n",
       "  <tbody>\n",
       "    <tr>\n",
       "      <th>0</th>\n",
       "      <td>1</td>\n",
       "      <td>0</td>\n",
       "      <td>st_partner</td>\n",
       "      <td>Own Home</td>\n",
       "      <td>1972</td>\n",
       "      <td>HTV</td>\n",
       "      <td>NP4 9HS</td>\n",
       "      <td>NP4</td>\n",
       "      <td>148.44</td>\n",
       "      <td>142.95</td>\n",
       "      <td>...</td>\n",
       "      <td>0</td>\n",
       "      <td>1</td>\n",
       "      <td>16.25</td>\n",
       "      <td>0</td>\n",
       "      <td>0</td>\n",
       "      <td>0</td>\n",
       "      <td>0</td>\n",
       "      <td>0</td>\n",
       "      <td>1</td>\n",
       "      <td>0</td>\n",
       "    </tr>\n",
       "    <tr>\n",
       "      <th>1</th>\n",
       "      <td>2</td>\n",
       "      <td>0</td>\n",
       "      <td>st_singleNm</td>\n",
       "      <td>Own Home</td>\n",
       "      <td>1998</td>\n",
       "      <td>Granada</td>\n",
       "      <td>M41 0QH</td>\n",
       "      <td>M41</td>\n",
       "      <td>0.00</td>\n",
       "      <td>74.98</td>\n",
       "      <td>...</td>\n",
       "      <td>0</td>\n",
       "      <td>0</td>\n",
       "      <td>26.25</td>\n",
       "      <td>0</td>\n",
       "      <td>0</td>\n",
       "      <td>0</td>\n",
       "      <td>0</td>\n",
       "      <td>0</td>\n",
       "      <td>0</td>\n",
       "      <td>1</td>\n",
       "    </tr>\n",
       "    <tr>\n",
       "      <th>2</th>\n",
       "      <td>3</td>\n",
       "      <td>0</td>\n",
       "      <td>st_singleNm</td>\n",
       "      <td>Own Home</td>\n",
       "      <td>1996</td>\n",
       "      <td>Tyne Tees</td>\n",
       "      <td>NE30 1JZ</td>\n",
       "      <td>NE30</td>\n",
       "      <td>0.00</td>\n",
       "      <td>166.44</td>\n",
       "      <td>...</td>\n",
       "      <td>0</td>\n",
       "      <td>0</td>\n",
       "      <td>28.75</td>\n",
       "      <td>1</td>\n",
       "      <td>0</td>\n",
       "      <td>0</td>\n",
       "      <td>0</td>\n",
       "      <td>0</td>\n",
       "      <td>0</td>\n",
       "      <td>1</td>\n",
       "    </tr>\n",
       "    <tr>\n",
       "      <th>3</th>\n",
       "      <td>5</td>\n",
       "      <td>0</td>\n",
       "      <td>st_singleNm</td>\n",
       "      <td>Own Home</td>\n",
       "      <td>1997</td>\n",
       "      <td>Central</td>\n",
       "      <td>HR9 7RJ</td>\n",
       "      <td>HR9</td>\n",
       "      <td>0.00</td>\n",
       "      <td>0.00</td>\n",
       "      <td>...</td>\n",
       "      <td>1</td>\n",
       "      <td>0</td>\n",
       "      <td>13.75</td>\n",
       "      <td>0</td>\n",
       "      <td>0</td>\n",
       "      <td>0</td>\n",
       "      <td>0</td>\n",
       "      <td>0</td>\n",
       "      <td>0</td>\n",
       "      <td>1</td>\n",
       "    </tr>\n",
       "    <tr>\n",
       "      <th>4</th>\n",
       "      <td>6</td>\n",
       "      <td>0</td>\n",
       "      <td>st_partner</td>\n",
       "      <td>Own Home</td>\n",
       "      <td>1995</td>\n",
       "      <td>Scottish TV</td>\n",
       "      <td>KA10 7LS</td>\n",
       "      <td>KA10</td>\n",
       "      <td>73.45</td>\n",
       "      <td>57.96</td>\n",
       "      <td>...</td>\n",
       "      <td>0</td>\n",
       "      <td>0</td>\n",
       "      <td>28.75</td>\n",
       "      <td>0</td>\n",
       "      <td>0</td>\n",
       "      <td>0</td>\n",
       "      <td>0</td>\n",
       "      <td>0</td>\n",
       "      <td>1</td>\n",
       "      <td>0</td>\n",
       "    </tr>\n",
       "    <tr>\n",
       "      <th>...</th>\n",
       "      <td>...</td>\n",
       "      <td>...</td>\n",
       "      <td>...</td>\n",
       "      <td>...</td>\n",
       "      <td>...</td>\n",
       "      <td>...</td>\n",
       "      <td>...</td>\n",
       "      <td>...</td>\n",
       "      <td>...</td>\n",
       "      <td>...</td>\n",
       "      <td>...</td>\n",
       "      <td>...</td>\n",
       "      <td>...</td>\n",
       "      <td>...</td>\n",
       "      <td>...</td>\n",
       "      <td>...</td>\n",
       "      <td>...</td>\n",
       "      <td>...</td>\n",
       "      <td>...</td>\n",
       "      <td>...</td>\n",
       "      <td>...</td>\n",
       "    </tr>\n",
       "    <tr>\n",
       "      <th>10150</th>\n",
       "      <td>11512</td>\n",
       "      <td>1</td>\n",
       "      <td>st_partner</td>\n",
       "      <td>Own Home</td>\n",
       "      <td>1972</td>\n",
       "      <td>Carlton</td>\n",
       "      <td>SM4 5RF</td>\n",
       "      <td>SM4</td>\n",
       "      <td>0.00</td>\n",
       "      <td>0.00</td>\n",
       "      <td>...</td>\n",
       "      <td>1</td>\n",
       "      <td>0</td>\n",
       "      <td>28.75</td>\n",
       "      <td>0</td>\n",
       "      <td>0</td>\n",
       "      <td>0</td>\n",
       "      <td>0</td>\n",
       "      <td>0</td>\n",
       "      <td>1</td>\n",
       "      <td>0</td>\n",
       "    </tr>\n",
       "    <tr>\n",
       "      <th>10151</th>\n",
       "      <td>11513</td>\n",
       "      <td>0</td>\n",
       "      <td>st_partner</td>\n",
       "      <td>Rent from Council/HA</td>\n",
       "      <td>1988</td>\n",
       "      <td>Meridian</td>\n",
       "      <td>RG14 7PA</td>\n",
       "      <td>RG14</td>\n",
       "      <td>0.00</td>\n",
       "      <td>110.95</td>\n",
       "      <td>...</td>\n",
       "      <td>1</td>\n",
       "      <td>0</td>\n",
       "      <td>23.75</td>\n",
       "      <td>0</td>\n",
       "      <td>0</td>\n",
       "      <td>0</td>\n",
       "      <td>0</td>\n",
       "      <td>0</td>\n",
       "      <td>1</td>\n",
       "      <td>0</td>\n",
       "    </tr>\n",
       "    <tr>\n",
       "      <th>10152</th>\n",
       "      <td>11514</td>\n",
       "      <td>2</td>\n",
       "      <td>st_partner</td>\n",
       "      <td>Own Home</td>\n",
       "      <td>1992</td>\n",
       "      <td>Central</td>\n",
       "      <td>OX15 0PU</td>\n",
       "      <td>OX15</td>\n",
       "      <td>124.93</td>\n",
       "      <td>0.00</td>\n",
       "      <td>...</td>\n",
       "      <td>1</td>\n",
       "      <td>0</td>\n",
       "      <td>4.00</td>\n",
       "      <td>0</td>\n",
       "      <td>0</td>\n",
       "      <td>0</td>\n",
       "      <td>0</td>\n",
       "      <td>0</td>\n",
       "      <td>1</td>\n",
       "      <td>0</td>\n",
       "    </tr>\n",
       "    <tr>\n",
       "      <th>10153</th>\n",
       "      <td>11516</td>\n",
       "      <td>0</td>\n",
       "      <td>st_partner</td>\n",
       "      <td>Own Home</td>\n",
       "      <td>1970</td>\n",
       "      <td>Carlton</td>\n",
       "      <td>CM15 0LU</td>\n",
       "      <td>CM15</td>\n",
       "      <td>0.00</td>\n",
       "      <td>35.98</td>\n",
       "      <td>...</td>\n",
       "      <td>1</td>\n",
       "      <td>0</td>\n",
       "      <td>9.00</td>\n",
       "      <td>0</td>\n",
       "      <td>1</td>\n",
       "      <td>0</td>\n",
       "      <td>0</td>\n",
       "      <td>0</td>\n",
       "      <td>1</td>\n",
       "      <td>0</td>\n",
       "    </tr>\n",
       "    <tr>\n",
       "      <th>10154</th>\n",
       "      <td>11518</td>\n",
       "      <td>1</td>\n",
       "      <td>st_partner</td>\n",
       "      <td>Own Home</td>\n",
       "      <td>1996</td>\n",
       "      <td>HTV</td>\n",
       "      <td>SA70 7LW</td>\n",
       "      <td>SA70</td>\n",
       "      <td>0.00</td>\n",
       "      <td>40.46</td>\n",
       "      <td>...</td>\n",
       "      <td>1</td>\n",
       "      <td>0</td>\n",
       "      <td>26.25</td>\n",
       "      <td>0</td>\n",
       "      <td>0</td>\n",
       "      <td>0</td>\n",
       "      <td>0</td>\n",
       "      <td>0</td>\n",
       "      <td>1</td>\n",
       "      <td>0</td>\n",
       "    </tr>\n",
       "  </tbody>\n",
       "</table>\n",
       "<p>10155 rows × 45 columns</p>\n",
       "</div>"
      ],
      "text/plain": [
       "       REF_NO  children       status           home_status  year_last_moved  \\\n",
       "0           1         0   st_partner              Own Home             1972   \n",
       "1           2         0  st_singleNm              Own Home             1998   \n",
       "2           3         0  st_singleNm              Own Home             1996   \n",
       "3           5         0  st_singleNm              Own Home             1997   \n",
       "4           6         0   st_partner              Own Home             1995   \n",
       "...       ...       ...          ...                   ...              ...   \n",
       "10150   11512         1   st_partner              Own Home             1972   \n",
       "10151   11513         0   st_partner  Rent from Council/HA             1988   \n",
       "10152   11514         2   st_partner              Own Home             1992   \n",
       "10153   11516         0   st_partner              Own Home             1970   \n",
       "10154   11518         1   st_partner              Own Home             1996   \n",
       "\n",
       "            TVarea post_code post_area  Average Credit Card Transaction  \\\n",
       "0              HTV   NP4 9HS       NP4                           148.44   \n",
       "1          Granada   M41 0QH       M41                             0.00   \n",
       "2        Tyne Tees  NE30 1JZ      NE30                             0.00   \n",
       "3          Central   HR9 7RJ       HR9                             0.00   \n",
       "4      Scottish TV  KA10 7LS      KA10                            73.45   \n",
       "...            ...       ...       ...                              ...   \n",
       "10150      Carlton   SM4 5RF       SM4                             0.00   \n",
       "10151     Meridian  RG14 7PA      RG14                             0.00   \n",
       "10152      Central  OX15 0PU      OX15                           124.93   \n",
       "10153      Carlton  CM15 0LU      CM15                             0.00   \n",
       "10154          HTV  SA70 7LW      SA70                             0.00   \n",
       "\n",
       "       Balance Transfer  ...  partOcc_11  partOcc_12     fi  selfEmployedYes  \\\n",
       "0                142.95  ...           0           1  16.25                0   \n",
       "1                 74.98  ...           0           0  26.25                0   \n",
       "2                166.44  ...           0           0  28.75                1   \n",
       "3                  0.00  ...           1           0  13.75                0   \n",
       "4                 57.96  ...           0           0  28.75                0   \n",
       "...                 ...  ...         ...         ...    ...              ...   \n",
       "10150              0.00  ...           1           0  28.75                0   \n",
       "10151            110.95  ...           1           0  23.75                0   \n",
       "10152              0.00  ...           1           0   4.00                0   \n",
       "10153             35.98  ...           1           0   9.00                0   \n",
       "10154             40.46  ...           1           0  26.25                0   \n",
       "\n",
       "       selfEmployedPartnerYes  Unknown  Widowed  st_divSep  st_partner  \\\n",
       "0                           0        0        0          0           1   \n",
       "1                           0        0        0          0           0   \n",
       "2                           0        0        0          0           0   \n",
       "3                           0        0        0          0           0   \n",
       "4                           0        0        0          0           1   \n",
       "...                       ...      ...      ...        ...         ...   \n",
       "10150                       0        0        0          0           1   \n",
       "10151                       0        0        0          0           1   \n",
       "10152                       0        0        0          0           1   \n",
       "10153                       1        0        0          0           1   \n",
       "10154                       0        0        0          0           1   \n",
       "\n",
       "      st_singleNm  \n",
       "0               0  \n",
       "1               1  \n",
       "2               1  \n",
       "3               1  \n",
       "4               0  \n",
       "...           ...  \n",
       "10150           0  \n",
       "10151           0  \n",
       "10152           0  \n",
       "10153           0  \n",
       "10154           0  \n",
       "\n",
       "[10155 rows x 45 columns]"
      ]
     },
     "execution_count": 75,
     "metadata": {},
     "output_type": "execute_result"
    }
   ],
   "source": [
    "stockTradingData"
   ]
  },
  {
   "cell_type": "code",
   "execution_count": 76,
   "metadata": {
    "ExecuteTime": {
     "end_time": "2020-04-02T03:46:19.200323Z",
     "start_time": "2020-04-02T03:46:19.190351Z"
    }
   },
   "outputs": [],
   "source": [
    "stockTradingData.drop(['status','Unknown','Widowed'], axis=1, inplace=True)"
   ]
  },
  {
   "cell_type": "code",
   "execution_count": 77,
   "metadata": {
    "ExecuteTime": {
     "end_time": "2020-04-02T03:46:19.208303Z",
     "start_time": "2020-04-02T03:46:19.201322Z"
    },
    "scrolled": true
   },
   "outputs": [
    {
     "name": "stdout",
     "output_type": "stream",
     "text": [
      "home_status\n",
      "TVarea\n",
      "post_code\n",
      "post_area\n",
      "gender\n",
      "region\n"
     ]
    }
   ],
   "source": [
    "printObjectDatatypeColumn(stockTradingData)"
   ]
  },
  {
   "cell_type": "markdown",
   "metadata": {},
   "source": [
    "### Converting 'home_status' variable into int"
   ]
  },
  {
   "cell_type": "code",
   "execution_count": 78,
   "metadata": {
    "ExecuteTime": {
     "end_time": "2020-04-02T03:46:19.217310Z",
     "start_time": "2020-04-02T03:46:19.209300Z"
    }
   },
   "outputs": [
    {
     "data": {
      "text/plain": [
       "Own Home                9413\n",
       "Rent from Council/HA     322\n",
       "Rent Privately           261\n",
       "Live in Parental Hom     109\n",
       "Unclassified              50\n",
       "Name: home_status, dtype: int64"
      ]
     },
     "execution_count": 78,
     "metadata": {},
     "output_type": "execute_result"
    }
   ],
   "source": [
    "stockTradingData['home_status'].value_counts()"
   ]
  },
  {
   "cell_type": "code",
   "execution_count": 79,
   "metadata": {
    "ExecuteTime": {
     "end_time": "2020-04-02T03:46:19.225255Z",
     "start_time": "2020-04-02T03:46:19.218275Z"
    }
   },
   "outputs": [],
   "source": [
    "stockTradingData['hs_own']=0\n",
    "stockTradingData['hs_rent']=0"
   ]
  },
  {
   "cell_type": "code",
   "execution_count": 80,
   "metadata": {
    "ExecuteTime": {
     "end_time": "2020-04-02T03:46:19.234232Z",
     "start_time": "2020-04-02T03:46:19.226253Z"
    }
   },
   "outputs": [],
   "source": [
    "stockTradingData['hs_own'] = np.where(stockTradingData['home_status'] == 'Own Home',1,0)\n",
    "stockTradingData['hs_rent'] = np.where(stockTradingData['home_status'] == 'Rent from Council/HA',1,0)\n",
    "stockTradingData['hs_rent'] = np.where(stockTradingData['home_status'] == 'Rent Privately',1,0)"
   ]
  },
  {
   "cell_type": "code",
   "execution_count": 81,
   "metadata": {
    "ExecuteTime": {
     "end_time": "2020-04-02T03:46:19.243208Z",
     "start_time": "2020-04-02T03:46:19.235230Z"
    }
   },
   "outputs": [],
   "source": [
    "stockTradingData.drop(['home_status'], axis=1, inplace=True)"
   ]
  },
  {
   "cell_type": "code",
   "execution_count": 82,
   "metadata": {
    "ExecuteTime": {
     "end_time": "2020-04-02T03:46:19.251186Z",
     "start_time": "2020-04-02T03:46:19.244205Z"
    }
   },
   "outputs": [
    {
     "name": "stdout",
     "output_type": "stream",
     "text": [
      "TVarea\n",
      "post_code\n",
      "post_area\n",
      "gender\n",
      "region\n"
     ]
    }
   ],
   "source": [
    "printObjectDatatypeColumn(stockTradingData)"
   ]
  },
  {
   "cell_type": "markdown",
   "metadata": {},
   "source": [
    "### Converting 'gender' variable into int"
   ]
  },
  {
   "cell_type": "code",
   "execution_count": 83,
   "metadata": {
    "ExecuteTime": {
     "end_time": "2020-04-02T03:46:19.259165Z",
     "start_time": "2020-04-02T03:46:19.252185Z"
    }
   },
   "outputs": [
    {
     "data": {
      "text/plain": [
       "Female     7634\n",
       "Male       2486\n",
       "Unknown      35\n",
       "Name: gender, dtype: int64"
      ]
     },
     "execution_count": 83,
     "metadata": {},
     "output_type": "execute_result"
    }
   ],
   "source": [
    "stockTradingData['gender'].value_counts()"
   ]
  },
  {
   "cell_type": "code",
   "execution_count": 84,
   "metadata": {
    "ExecuteTime": {
     "end_time": "2020-04-02T03:46:19.265181Z",
     "start_time": "2020-04-02T03:46:19.260162Z"
    }
   },
   "outputs": [],
   "source": [
    "stockTradingData['gender_f'] = np.where(stockTradingData['gender']=='Female',1,0)"
   ]
  },
  {
   "cell_type": "code",
   "execution_count": 85,
   "metadata": {
    "ExecuteTime": {
     "end_time": "2020-04-02T03:46:19.273128Z",
     "start_time": "2020-04-02T03:46:19.266163Z"
    }
   },
   "outputs": [],
   "source": [
    "stockTradingData.drop(['gender'], axis=1, inplace=True)"
   ]
  },
  {
   "cell_type": "code",
   "execution_count": 86,
   "metadata": {
    "ExecuteTime": {
     "end_time": "2020-04-02T03:46:19.281108Z",
     "start_time": "2020-04-02T03:46:19.274125Z"
    }
   },
   "outputs": [
    {
     "name": "stdout",
     "output_type": "stream",
     "text": [
      "TVarea\n",
      "post_code\n",
      "post_area\n",
      "region\n"
     ]
    }
   ],
   "source": [
    "printObjectDatatypeColumn(stockTradingData)"
   ]
  },
  {
   "cell_type": "markdown",
   "metadata": {},
   "source": [
    "For now, I'll stop with this and drop the four variables 'TVarea', 'post_code','post_area','region' and proceed with modelling. "
   ]
  },
  {
   "cell_type": "code",
   "execution_count": 87,
   "metadata": {
    "ExecuteTime": {
     "end_time": "2020-04-02T03:46:19.290082Z",
     "start_time": "2020-04-02T03:46:19.282143Z"
    }
   },
   "outputs": [],
   "source": [
    "stockTradingData.drop(['TVarea','post_code','post_area','region'], axis=1, inplace=True)"
   ]
  },
  {
   "cell_type": "code",
   "execution_count": 88,
   "metadata": {
    "ExecuteTime": {
     "end_time": "2020-04-02T03:46:19.297095Z",
     "start_time": "2020-04-02T03:46:19.291079Z"
    }
   },
   "outputs": [],
   "source": [
    "printObjectDatatypeColumn(stockTradingData)"
   ]
  },
  {
   "cell_type": "markdown",
   "metadata": {},
   "source": [
    "Now, there are no columns with 'object' datatype. Let's see what the datatype of the other columns are. "
   ]
  },
  {
   "cell_type": "code",
   "execution_count": 89,
   "metadata": {
    "ExecuteTime": {
     "end_time": "2020-04-02T03:46:19.305066Z",
     "start_time": "2020-04-02T03:46:19.298085Z"
    },
    "scrolled": true
   },
   "outputs": [
    {
     "data": {
      "text/plain": [
       "REF_NO                               int64\n",
       "children                             int64\n",
       "year_last_moved                      int64\n",
       "Average Credit Card Transaction    float64\n",
       "Balance Transfer                   float64\n",
       "Term Deposit                       float64\n",
       "Life Insurance                     float64\n",
       "Medical Insurance                  float64\n",
       "Average A/C Balance                float64\n",
       "Personal Loan                      float64\n",
       "Investment in Mutual Fund          float64\n",
       "Investment Tax Saving Bond         float64\n",
       "Home Loan                          float64\n",
       "Online Purchase Amount             float64\n",
       "Investment in Commudity            float64\n",
       "Investment in Equity               float64\n",
       "Investment in Derivative           float64\n",
       "Portfolio Balance                  float64\n",
       "y                                    int32\n",
       "ab_10                                uint8\n",
       "ab_11                                uint8\n",
       "ab_13                                uint8\n",
       "ab_17                                uint8\n",
       "ab_9                                 uint8\n",
       "ocup_10                              uint8\n",
       "ocup_11                              uint8\n",
       "ocup_12                              uint8\n",
       "partOcc_10                           uint8\n",
       "partOcc_11                           uint8\n",
       "partOcc_12                           uint8\n",
       "fi                                 float64\n",
       "selfEmployedYes                      int32\n",
       "selfEmployedPartnerYes               int32\n",
       "st_divSep                            uint8\n",
       "st_partner                           uint8\n",
       "st_singleNm                          uint8\n",
       "hs_own                               int32\n",
       "hs_rent                              int32\n",
       "gender_f                             int32\n",
       "dtype: object"
      ]
     },
     "execution_count": 89,
     "metadata": {},
     "output_type": "execute_result"
    }
   ],
   "source": [
    "stockTradingData.dtypes"
   ]
  },
  {
   "cell_type": "markdown",
   "metadata": {},
   "source": [
    "### Detecting Missing and Null values"
   ]
  },
  {
   "cell_type": "code",
   "execution_count": 90,
   "metadata": {
    "ExecuteTime": {
     "end_time": "2020-04-02T03:46:19.314043Z",
     "start_time": "2020-04-02T03:46:19.306041Z"
    },
    "scrolled": true
   },
   "outputs": [
    {
     "data": {
      "text/plain": [
       "REF_NO                             0\n",
       "children                           0\n",
       "year_last_moved                    0\n",
       "Average Credit Card Transaction    0\n",
       "Balance Transfer                   0\n",
       "Term Deposit                       0\n",
       "Life Insurance                     0\n",
       "Medical Insurance                  0\n",
       "Average A/C Balance                0\n",
       "Personal Loan                      0\n",
       "Investment in Mutual Fund          0\n",
       "Investment Tax Saving Bond         0\n",
       "Home Loan                          0\n",
       "Online Purchase Amount             0\n",
       "Investment in Commudity            0\n",
       "Investment in Equity               0\n",
       "Investment in Derivative           0\n",
       "Portfolio Balance                  0\n",
       "y                                  0\n",
       "ab_10                              0\n",
       "ab_11                              0\n",
       "ab_13                              0\n",
       "ab_17                              0\n",
       "ab_9                               0\n",
       "ocup_10                            0\n",
       "ocup_11                            0\n",
       "ocup_12                            0\n",
       "partOcc_10                         0\n",
       "partOcc_11                         0\n",
       "partOcc_12                         0\n",
       "fi                                 0\n",
       "selfEmployedYes                    0\n",
       "selfEmployedPartnerYes             0\n",
       "st_divSep                          0\n",
       "st_partner                         0\n",
       "st_singleNm                        0\n",
       "hs_own                             0\n",
       "hs_rent                            0\n",
       "gender_f                           0\n",
       "dtype: int64"
      ]
     },
     "execution_count": 90,
     "metadata": {},
     "output_type": "execute_result"
    }
   ],
   "source": [
    "stockTradingData.isna().sum()"
   ]
  },
  {
   "cell_type": "code",
   "execution_count": 91,
   "metadata": {
    "ExecuteTime": {
     "end_time": "2020-04-02T03:46:19.321997Z",
     "start_time": "2020-04-02T03:46:19.315015Z"
    },
    "scrolled": true
   },
   "outputs": [
    {
     "data": {
      "text/plain": [
       "REF_NO                             0\n",
       "children                           0\n",
       "year_last_moved                    0\n",
       "Average Credit Card Transaction    0\n",
       "Balance Transfer                   0\n",
       "Term Deposit                       0\n",
       "Life Insurance                     0\n",
       "Medical Insurance                  0\n",
       "Average A/C Balance                0\n",
       "Personal Loan                      0\n",
       "Investment in Mutual Fund          0\n",
       "Investment Tax Saving Bond         0\n",
       "Home Loan                          0\n",
       "Online Purchase Amount             0\n",
       "Investment in Commudity            0\n",
       "Investment in Equity               0\n",
       "Investment in Derivative           0\n",
       "Portfolio Balance                  0\n",
       "y                                  0\n",
       "ab_10                              0\n",
       "ab_11                              0\n",
       "ab_13                              0\n",
       "ab_17                              0\n",
       "ab_9                               0\n",
       "ocup_10                            0\n",
       "ocup_11                            0\n",
       "ocup_12                            0\n",
       "partOcc_10                         0\n",
       "partOcc_11                         0\n",
       "partOcc_12                         0\n",
       "fi                                 0\n",
       "selfEmployedYes                    0\n",
       "selfEmployedPartnerYes             0\n",
       "st_divSep                          0\n",
       "st_partner                         0\n",
       "st_singleNm                        0\n",
       "hs_own                             0\n",
       "hs_rent                            0\n",
       "gender_f                           0\n",
       "dtype: int64"
      ]
     },
     "execution_count": 91,
     "metadata": {},
     "output_type": "execute_result"
    }
   ],
   "source": [
    "stockTradingData.isnull().sum()"
   ]
  },
  {
   "cell_type": "code",
   "execution_count": 92,
   "metadata": {
    "ExecuteTime": {
     "end_time": "2020-04-02T03:46:19.338952Z",
     "start_time": "2020-04-02T03:46:19.324020Z"
    },
    "scrolled": true
   },
   "outputs": [
    {
     "data": {
      "text/html": [
       "<div>\n",
       "<style scoped>\n",
       "    .dataframe tbody tr th:only-of-type {\n",
       "        vertical-align: middle;\n",
       "    }\n",
       "\n",
       "    .dataframe tbody tr th {\n",
       "        vertical-align: top;\n",
       "    }\n",
       "\n",
       "    .dataframe thead th {\n",
       "        text-align: right;\n",
       "    }\n",
       "</style>\n",
       "<table border=\"1\" class=\"dataframe\">\n",
       "  <thead>\n",
       "    <tr style=\"text-align: right;\">\n",
       "      <th></th>\n",
       "      <th>REF_NO</th>\n",
       "      <th>children</th>\n",
       "      <th>year_last_moved</th>\n",
       "      <th>Average Credit Card Transaction</th>\n",
       "      <th>Balance Transfer</th>\n",
       "      <th>Term Deposit</th>\n",
       "      <th>Life Insurance</th>\n",
       "      <th>Medical Insurance</th>\n",
       "      <th>Average A/C Balance</th>\n",
       "      <th>Personal Loan</th>\n",
       "      <th>...</th>\n",
       "      <th>partOcc_12</th>\n",
       "      <th>fi</th>\n",
       "      <th>selfEmployedYes</th>\n",
       "      <th>selfEmployedPartnerYes</th>\n",
       "      <th>st_divSep</th>\n",
       "      <th>st_partner</th>\n",
       "      <th>st_singleNm</th>\n",
       "      <th>hs_own</th>\n",
       "      <th>hs_rent</th>\n",
       "      <th>gender_f</th>\n",
       "    </tr>\n",
       "  </thead>\n",
       "  <tbody>\n",
       "    <tr>\n",
       "      <th>0</th>\n",
       "      <td>1</td>\n",
       "      <td>0</td>\n",
       "      <td>1972</td>\n",
       "      <td>148.44</td>\n",
       "      <td>142.95</td>\n",
       "      <td>0.00</td>\n",
       "      <td>81.96</td>\n",
       "      <td>0.00</td>\n",
       "      <td>29.99</td>\n",
       "      <td>0.00</td>\n",
       "      <td>...</td>\n",
       "      <td>1</td>\n",
       "      <td>16.25</td>\n",
       "      <td>0</td>\n",
       "      <td>0</td>\n",
       "      <td>0</td>\n",
       "      <td>1</td>\n",
       "      <td>0</td>\n",
       "      <td>1</td>\n",
       "      <td>0</td>\n",
       "      <td>1</td>\n",
       "    </tr>\n",
       "    <tr>\n",
       "      <th>1</th>\n",
       "      <td>2</td>\n",
       "      <td>0</td>\n",
       "      <td>1998</td>\n",
       "      <td>0.00</td>\n",
       "      <td>74.98</td>\n",
       "      <td>0.00</td>\n",
       "      <td>25.99</td>\n",
       "      <td>0.00</td>\n",
       "      <td>0.00</td>\n",
       "      <td>0.00</td>\n",
       "      <td>...</td>\n",
       "      <td>0</td>\n",
       "      <td>26.25</td>\n",
       "      <td>0</td>\n",
       "      <td>0</td>\n",
       "      <td>0</td>\n",
       "      <td>0</td>\n",
       "      <td>1</td>\n",
       "      <td>1</td>\n",
       "      <td>0</td>\n",
       "      <td>1</td>\n",
       "    </tr>\n",
       "    <tr>\n",
       "      <th>2</th>\n",
       "      <td>3</td>\n",
       "      <td>0</td>\n",
       "      <td>1996</td>\n",
       "      <td>0.00</td>\n",
       "      <td>166.44</td>\n",
       "      <td>20.99</td>\n",
       "      <td>291.37</td>\n",
       "      <td>11.48</td>\n",
       "      <td>166.94</td>\n",
       "      <td>0.00</td>\n",
       "      <td>...</td>\n",
       "      <td>0</td>\n",
       "      <td>28.75</td>\n",
       "      <td>1</td>\n",
       "      <td>0</td>\n",
       "      <td>0</td>\n",
       "      <td>0</td>\n",
       "      <td>1</td>\n",
       "      <td>1</td>\n",
       "      <td>0</td>\n",
       "      <td>0</td>\n",
       "    </tr>\n",
       "    <tr>\n",
       "      <th>3</th>\n",
       "      <td>5</td>\n",
       "      <td>0</td>\n",
       "      <td>1997</td>\n",
       "      <td>0.00</td>\n",
       "      <td>0.00</td>\n",
       "      <td>0.00</td>\n",
       "      <td>20.49</td>\n",
       "      <td>0.00</td>\n",
       "      <td>39.46</td>\n",
       "      <td>0.00</td>\n",
       "      <td>...</td>\n",
       "      <td>0</td>\n",
       "      <td>13.75</td>\n",
       "      <td>0</td>\n",
       "      <td>0</td>\n",
       "      <td>0</td>\n",
       "      <td>0</td>\n",
       "      <td>1</td>\n",
       "      <td>1</td>\n",
       "      <td>0</td>\n",
       "      <td>1</td>\n",
       "    </tr>\n",
       "    <tr>\n",
       "      <th>4</th>\n",
       "      <td>6</td>\n",
       "      <td>0</td>\n",
       "      <td>1995</td>\n",
       "      <td>73.45</td>\n",
       "      <td>57.96</td>\n",
       "      <td>0.00</td>\n",
       "      <td>177.42</td>\n",
       "      <td>41.95</td>\n",
       "      <td>39.47</td>\n",
       "      <td>10.97</td>\n",
       "      <td>...</td>\n",
       "      <td>0</td>\n",
       "      <td>28.75</td>\n",
       "      <td>0</td>\n",
       "      <td>0</td>\n",
       "      <td>0</td>\n",
       "      <td>1</td>\n",
       "      <td>0</td>\n",
       "      <td>1</td>\n",
       "      <td>0</td>\n",
       "      <td>1</td>\n",
       "    </tr>\n",
       "  </tbody>\n",
       "</table>\n",
       "<p>5 rows × 39 columns</p>\n",
       "</div>"
      ],
      "text/plain": [
       "   REF_NO  children  year_last_moved  Average Credit Card Transaction  \\\n",
       "0       1         0             1972                           148.44   \n",
       "1       2         0             1998                             0.00   \n",
       "2       3         0             1996                             0.00   \n",
       "3       5         0             1997                             0.00   \n",
       "4       6         0             1995                            73.45   \n",
       "\n",
       "   Balance Transfer  Term Deposit  Life Insurance  Medical Insurance  \\\n",
       "0            142.95          0.00           81.96               0.00   \n",
       "1             74.98          0.00           25.99               0.00   \n",
       "2            166.44         20.99          291.37              11.48   \n",
       "3              0.00          0.00           20.49               0.00   \n",
       "4             57.96          0.00          177.42              41.95   \n",
       "\n",
       "   Average A/C Balance  Personal Loan  ...  partOcc_12     fi  \\\n",
       "0                29.99           0.00  ...           1  16.25   \n",
       "1                 0.00           0.00  ...           0  26.25   \n",
       "2               166.94           0.00  ...           0  28.75   \n",
       "3                39.46           0.00  ...           0  13.75   \n",
       "4                39.47          10.97  ...           0  28.75   \n",
       "\n",
       "   selfEmployedYes  selfEmployedPartnerYes  st_divSep  st_partner  \\\n",
       "0                0                       0          0           1   \n",
       "1                0                       0          0           0   \n",
       "2                1                       0          0           0   \n",
       "3                0                       0          0           0   \n",
       "4                0                       0          0           1   \n",
       "\n",
       "   st_singleNm  hs_own  hs_rent  gender_f  \n",
       "0            0       1        0         1  \n",
       "1            1       1        0         1  \n",
       "2            1       1        0         0  \n",
       "3            1       1        0         1  \n",
       "4            0       1        0         1  \n",
       "\n",
       "[5 rows x 39 columns]"
      ]
     },
     "execution_count": 92,
     "metadata": {},
     "output_type": "execute_result"
    }
   ],
   "source": [
    "stockTradingData.head()"
   ]
  },
  {
   "cell_type": "markdown",
   "metadata": {},
   "source": [
    "There are no null or missing values,so let's proceed with the modelling."
   ]
  },
  {
   "cell_type": "markdown",
   "metadata": {},
   "source": [
    "# Modelling"
   ]
  },
  {
   "cell_type": "markdown",
   "metadata": {},
   "source": [
    "## Data splitting for training and testing"
   ]
  },
  {
   "cell_type": "code",
   "execution_count": 93,
   "metadata": {
    "ExecuteTime": {
     "end_time": "2020-04-02T03:46:19.349947Z",
     "start_time": "2020-04-02T03:46:19.340948Z"
    }
   },
   "outputs": [],
   "source": [
    "trainData, testData = train_test_split(stockTradingData, test_size = 0.2, random_state = 1)"
   ]
  },
  {
   "cell_type": "code",
   "execution_count": 94,
   "metadata": {
    "ExecuteTime": {
     "end_time": "2020-04-02T03:46:19.356903Z",
     "start_time": "2020-04-02T03:46:19.350944Z"
    }
   },
   "outputs": [],
   "source": [
    "xTrain = trainData.drop(['y','REF_NO'], axis=1)"
   ]
  },
  {
   "cell_type": "code",
   "execution_count": 95,
   "metadata": {
    "ExecuteTime": {
     "end_time": "2020-04-02T03:46:19.362887Z",
     "start_time": "2020-04-02T03:46:19.357902Z"
    }
   },
   "outputs": [],
   "source": [
    "yTrain = trainData['y']"
   ]
  },
  {
   "cell_type": "code",
   "execution_count": 96,
   "metadata": {
    "ExecuteTime": {
     "end_time": "2020-04-02T03:46:19.368872Z",
     "start_time": "2020-04-02T03:46:19.363885Z"
    }
   },
   "outputs": [],
   "source": [
    "xTest = testData.drop(['y','REF_NO'],axis=1)"
   ]
  },
  {
   "cell_type": "code",
   "execution_count": 97,
   "metadata": {
    "ExecuteTime": {
     "end_time": "2020-04-02T03:46:19.375852Z",
     "start_time": "2020-04-02T03:46:19.369894Z"
    }
   },
   "outputs": [],
   "source": [
    "yTest = testData['y']"
   ]
  },
  {
   "cell_type": "markdown",
   "metadata": {},
   "source": [
    "## Training a Logistic Regression Model"
   ]
  },
  {
   "cell_type": "code",
   "execution_count": 98,
   "metadata": {
    "ExecuteTime": {
     "end_time": "2020-04-02T03:46:19.380839Z",
     "start_time": "2020-04-02T03:46:19.376850Z"
    }
   },
   "outputs": [],
   "source": [
    "logReg = LogisticRegression(penalty='l1',solver='liblinear',class_weight='balanced',random_state=1)"
   ]
  },
  {
   "cell_type": "code",
   "execution_count": 99,
   "metadata": {
    "ExecuteTime": {
     "end_time": "2020-04-02T03:46:20.167828Z",
     "start_time": "2020-04-02T03:46:19.381837Z"
    }
   },
   "outputs": [
    {
     "data": {
      "text/plain": [
       "LogisticRegression(C=1.0, class_weight='balanced', dual=False,\n",
       "                   fit_intercept=True, intercept_scaling=1, l1_ratio=None,\n",
       "                   max_iter=100, multi_class='auto', n_jobs=None, penalty='l1',\n",
       "                   random_state=1, solver='liblinear', tol=0.0001, verbose=0,\n",
       "                   warm_start=False)"
      ]
     },
     "execution_count": 99,
     "metadata": {},
     "output_type": "execute_result"
    }
   ],
   "source": [
    "logReg.fit(xTrain,yTrain)"
   ]
  },
  {
   "cell_type": "code",
   "execution_count": 100,
   "metadata": {
    "ExecuteTime": {
     "end_time": "2020-04-02T03:46:20.188584Z",
     "start_time": "2020-04-02T03:46:20.168731Z"
    }
   },
   "outputs": [],
   "source": [
    "\"\"\" Predicting classes \"\"\"\n",
    "classPredictions = logReg.predict(xTest)"
   ]
  },
  {
   "cell_type": "markdown",
   "metadata": {},
   "source": [
    "**Note: In the predicted classes, first column is for '0' and second one is for '1'"
   ]
  },
  {
   "cell_type": "code",
   "execution_count": 101,
   "metadata": {
    "ExecuteTime": {
     "end_time": "2020-04-02T03:46:20.198556Z",
     "start_time": "2020-04-02T03:46:20.189581Z"
    }
   },
   "outputs": [],
   "source": [
    "\"\"\"predicting probabilities for only the  positive classes\"\"\"\n",
    "\n",
    "probabilityPredictions = logReg.predict_proba(xTest)[:,1]"
   ]
  },
  {
   "cell_type": "code",
   "execution_count": 102,
   "metadata": {
    "ExecuteTime": {
     "end_time": "2020-04-02T03:46:20.210524Z",
     "start_time": "2020-04-02T03:46:20.200551Z"
    }
   },
   "outputs": [],
   "source": [
    "rocAucScore = roc_auc_score(yTest, logReg.predict(xTest))"
   ]
  },
  {
   "cell_type": "code",
   "execution_count": 103,
   "metadata": {
    "ExecuteTime": {
     "end_time": "2020-04-02T03:46:20.217505Z",
     "start_time": "2020-04-02T03:46:20.212519Z"
    }
   },
   "outputs": [
    {
     "data": {
      "text/plain": [
       "0.891566768041211"
      ]
     },
     "execution_count": 103,
     "metadata": {},
     "output_type": "execute_result"
    }
   ],
   "source": [
    "rocAucScore"
   ]
  },
  {
   "cell_type": "code",
   "execution_count": 104,
   "metadata": {
    "ExecuteTime": {
     "end_time": "2020-04-02T03:46:20.224500Z",
     "start_time": "2020-04-02T03:46:20.218503Z"
    }
   },
   "outputs": [],
   "source": [
    "fpr, tpr, _ = roc_curve(yTest, probabilityPredictions)"
   ]
  },
  {
   "cell_type": "code",
   "execution_count": 105,
   "metadata": {
    "ExecuteTime": {
     "end_time": "2020-04-02T03:46:20.359127Z",
     "start_time": "2020-04-02T03:46:20.226482Z"
    },
    "scrolled": false
   },
   "outputs": [
    {
     "data": {
      "image/png": "[encoded data removed]",
      "text/plain": [
       "<Figure size 432x288 with 1 Axes>"
      ]
     },
     "metadata": {
      "needs_background": "light"
     },
     "output_type": "display_data"
    }
   ],
   "source": [
    "%matplotlib inline\n",
    "plt.plot(fpr,tpr)\n",
    "plt.xlabel('False Positive Rate')\n",
    "plt.ylabel('True Positive Rate')\n",
    "plt.figtext(0.4, 0.4,'auc='+str(rocAucScore), color='red')\n",
    "plt.show()"
   ]
  },
  {
   "cell_type": "markdown",
   "metadata": {},
   "source": [
    "# Model Evaluation"
   ]
  },
  {
   "cell_type": "markdown",
   "metadata": {},
   "source": [
    "## Accuracy, Sensitivity, Specificity, Precision and Recall"
   ]
  },
  {
   "cell_type": "markdown",
   "metadata": {
    "ExecuteTime": {
     "end_time": "2020-03-27T07:54:55.915795Z",
     "start_time": "2020-03-27T07:54:55.884546Z"
    }
   },
   "source": [
    "*Confusion Matrix*\n",
    "\n",
    "![](CM.jpg)"
   ]
  },
  {
   "cell_type": "markdown",
   "metadata": {},
   "source": [
    "*Total Positives*\n",
    "\n",
    "$$ P = TP + FN $$"
   ]
  },
  {
   "cell_type": "markdown",
   "metadata": {},
   "source": [
    "*Total Negatives*\n",
    "\n",
    "$$ N = FP + TN $$"
   ]
  },
  {
   "cell_type": "markdown",
   "metadata": {},
   "source": [
    " "
   ]
  },
  {
   "cell_type": "markdown",
   "metadata": {
    "ExecuteTime": {
     "end_time": "2020-03-27T10:44:24.597483Z",
     "start_time": "2020-03-27T10:44:24.581743Z"
    }
   },
   "source": [
    "*Accuracy: measures how correct our model's predictions are.*\n",
    "\n",
    "$$ Accuracy = \\dfrac{TP + TN }{P + N} $$"
   ]
  },
  {
   "cell_type": "markdown",
   "metadata": {},
   "source": [
    " "
   ]
  },
  {
   "cell_type": "markdown",
   "metadata": {},
   "source": [
    "*Precision: Measures out of all the examples predicted as 'Positive' by the model, how many are actualy 'Positive'*\n",
    "\n",
    "$$ Precision = \\dfrac {TP}{TP+FP} $$"
   ]
  },
  {
   "cell_type": "markdown",
   "metadata": {},
   "source": [
    " "
   ]
  },
  {
   "cell_type": "markdown",
   "metadata": {
    "ExecuteTime": {
     "end_time": "2020-03-27T10:47:06.926730Z",
     "start_time": "2020-03-27T10:47:06.911096Z"
    }
   },
   "source": [
    "*Sensitivity: Measures out of all the real 'Positive' examples how many can out model predict as 'Positive'.*\n",
    "\n",
    "$$ Sensitivity = \\dfrac {TP} {TP + FN} $$"
   ]
  },
  {
   "cell_type": "markdown",
   "metadata": {},
   "source": [
    " **Sensitivity is also known as Recall**"
   ]
  },
  {
   "cell_type": "markdown",
   "metadata": {},
   "source": [
    " "
   ]
  },
  {
   "cell_type": "markdown",
   "metadata": {},
   "source": [
    "*Specificity: Measures out of all the real 'Negative' samples how many can the model predict as 'Negative' *\n",
    "\n",
    "$$ Specificity = \\dfrac{TN} {TN + FP} $$"
   ]
  },
  {
   "cell_type": "markdown",
   "metadata": {},
   "source": [
    " "
   ]
  },
  {
   "cell_type": "markdown",
   "metadata": {},
   "source": [
    "Now that we have created 100 cut-off points between 0 and 1. For each of these points, we will detarmine the **True Positive (TP), False Positive(FP), True Negative (TN) and False Negative (FN)** \n",
    "\n",
    "Using these for values we calculated, we will calculate the **KS** and then choose the best cutoff as the one having the highest KS"
   ]
  },
  {
   "cell_type": "markdown",
   "metadata": {},
   "source": [
    "## Determining Cut-off probability to predict two classes"
   ]
  },
  {
   "cell_type": "markdown",
   "metadata": {
    "ExecuteTime": {
     "end_time": "2020-04-02T04:32:06.077021Z",
     "start_time": "2020-04-02T04:32:06.071037Z"
    }
   },
   "source": [
    "There are two methods to determine cut-off values for our models. \n",
    "1. Kolmogorov-Smirnoff (KS) test score \n",
    "2. F-Beta Score\n"
   ]
  },
  {
   "cell_type": "markdown",
   "metadata": {},
   "source": [
    "### Determining cut-off using Kolmogorov-Smirnoff (KS) "
   ]
  },
  {
   "cell_type": "markdown",
   "metadata": {},
   "source": [
    "*KS Statistic or Kolmogorov-Smirnov statistic is the maximum difference between the cumulative true positive and cumulative false positive rate. It is often used as the deciding metric to judge the efficacy of models in credit scoring.*"
   ]
  },
  {
   "cell_type": "markdown",
   "metadata": {
    "ExecuteTime": {
     "end_time": "2020-04-02T05:54:37.604330Z",
     "start_time": "2020-04-02T05:54:37.598347Z"
    }
   },
   "source": [
    "$$ KS = TPR - FPR $$\n",
    "\n",
    "$$ TPR = \\dfrac {TP} {P} $$\n",
    "\n",
    "$$ FPR = \\dfrac {FP} {N} $$\n",
    "\n",
    "$$ KS = \\dfrac {TP} {TP+FN} - \\dfrac {FP} {TN+FP} $$"
   ]
  },
  {
   "cell_type": "markdown",
   "metadata": {},
   "source": [
    "Let's take only the probabilities for class 1 and then set up a cut off on that"
   ]
  },
  {
   "cell_type": "markdown",
   "metadata": {},
   "source": [
    "#### Extracting only the probability score for the positive class"
   ]
  },
  {
   "cell_type": "code",
   "execution_count": 106,
   "metadata": {
    "ExecuteTime": {
     "end_time": "2020-04-02T03:46:20.370097Z",
     "start_time": "2020-04-02T03:46:20.360123Z"
    }
   },
   "outputs": [],
   "source": [
    "probScore = pd.Series(list(logReg.predict_proba(xTrain)[:,1]))"
   ]
  },
  {
   "cell_type": "markdown",
   "metadata": {},
   "source": [
    "On these scores, we will consider many cutoffs between 0 and 1"
   ]
  },
  {
   "cell_type": "markdown",
   "metadata": {},
   "source": [
    "#### Creating 100 cutoff points between 0 and 1"
   ]
  },
  {
   "cell_type": "code",
   "execution_count": 119,
   "metadata": {
    "ExecuteTime": {
     "end_time": "2020-04-02T03:57:37.415247Z",
     "start_time": "2020-04-02T03:57:37.411290Z"
    }
   },
   "outputs": [],
   "source": [
    "cutoffs = np.linspace(0,1,100)"
   ]
  },
  {
   "cell_type": "markdown",
   "metadata": {},
   "source": [
    "#### Determining cutoffs"
   ]
  },
  {
   "cell_type": "code",
   "execution_count": 126,
   "metadata": {
    "ExecuteTime": {
     "end_time": "2020-04-02T03:59:55.462879Z",
     "start_time": "2020-04-02T03:59:54.300354Z"
    }
   },
   "outputs": [
    {
     "name": "stdout",
     "output_type": "stream",
     "text": [
      "49    0.494949\n",
      "Name: Cutoff, dtype: float64\n"
     ]
    }
   ],
   "source": [
    "KS_CUT = []\n",
    "TPR_list = []\n",
    "FPR_list = []\n",
    "\n",
    "for cutoff in cutoffs:\n",
    "    predicted = pd.Series([0 for val in range(len(yTrain))])\n",
    "    predicted[probScore>cutoff] = 1\n",
    "    realPred = pd.DataFrame(list(zip(yTrain,predicted)), columns=['Real','Predicted'])\n",
    "    \n",
    "    TP = len(realPred[(realPred['Real']==1) & (realPred['Predicted']==1)])\n",
    "    FP = len(realPred[(realPred['Real']==0) & (realPred['Predicted']==1)])\n",
    "    TN = len(realPred[(realPred['Real']==0) & (realPred['Predicted']==0)])\n",
    "    FN = len(realPred[(realPred['Real']==1) & (realPred['Predicted']==0)])\n",
    "    \n",
    "    P = TP+FN\n",
    "    N = TN+FP\n",
    "    \n",
    "    TPR = TP/P\n",
    "    TPR_list.append(TPR)\n",
    "    FPR = FP/N\n",
    "    FPR_list.append(FPR)\n",
    "    \n",
    "    KS = (TP/P)-(FP/N)\n",
    "    KS_CUT.append(KS)\n",
    "    \n",
    "cutoffData = pd.DataFrame(list(zip(cutoffs,KS_CUT)), columns=['Cutoff','KS'])\n",
    "KS_cutoff = cutoffData[cutoffData['KS']== cutoffData['KS'].max()]['Cutoff']\n",
    "\n",
    "print(KS_cutoff)"
   ]
  },
  {
   "cell_type": "markdown",
   "metadata": {},
   "source": [
    "#### Plotting TPR, FPR and TPR-FPR to visualize the best cutoff rate"
   ]
  },
  {
   "cell_type": "code",
   "execution_count": 179,
   "metadata": {
    "ExecuteTime": {
     "end_time": "2020-04-02T06:49:13.892679Z",
     "start_time": "2020-04-02T06:49:13.747070Z"
    }
   },
   "outputs": [
    {
     "data": {
      "text/plain": [
       "<matplotlib.legend.Legend at 0x22a82a38f08>"
      ]
     },
     "execution_count": 179,
     "metadata": {},
     "output_type": "execute_result"
    },
    {
     "data": {
      "image/png": "[encoded data removed]",
      "text/plain": [
       "<Figure size 432x288 with 1 Axes>"
      ]
     },
     "metadata": {
      "needs_background": "light"
     },
     "output_type": "display_data"
    }
   ],
   "source": [
    "\"\"\" Plotting TRP, FPR and the TPR-FPR \"\"\"\n",
    "\n",
    "%matplotlib inline\n",
    "plt.figure()\n",
    "plt.plot(cutoffs,TPR_list, label='TPR')\n",
    "plt.plot(cutoffs,FPR_list, label='FPR')\n",
    "plt.plot(cutoffs, np.subtract(TPR_list, FPR_list), label='Diff b/w TPR and FPR')\n",
    "plt.axvline(x=KS_cutoff.values, c='red', label = 'Max TPR-FPR')\n",
    "plt.xlabel('Cutoff Probability', fontdict={'size':10} )\n",
    "plt.ylabel('TRR,FPR and Diff b/w TPR and FPR ',fontdict={'size':10})\n",
    "plt.legend(loc=1, fontsize = 'small')"
   ]
  },
  {
   "cell_type": "markdown",
   "metadata": {},
   "source": [
    "#### Performace of cut-off value predicted using KS score on test data"
   ]
  },
  {
   "cell_type": "markdown",
   "metadata": {},
   "source": [
    "The optimal cutoff determined on the traning data using KS method is 0.4949. Let's see how this cutoff works on test data"
   ]
  },
  {
   "cell_type": "code",
   "execution_count": 109,
   "metadata": {
    "ExecuteTime": {
     "end_time": "2020-04-02T03:46:21.605309Z",
     "start_time": "2020-04-02T03:46:21.575391Z"
    }
   },
   "outputs": [],
   "source": [
    "testDataProbScore=pd.Series(list(logReg.predict_proba(xTest)[:,1]))\n",
    "testDataPredicted = pd.Series([0 for val in range(len(yTest))])\n",
    "testDataPredicted[testDataProbScore>float(KS_cutoff)] = 1\n",
    "testRealPred=pd.DataFrame(list(zip(yTest,testDataPredicted)), columns=['Real','Predicted'])\n",
    "confusionMatrix = pd.crosstab(testRealPred['Real'], testRealPred['Predicted'])"
   ]
  },
  {
   "cell_type": "code",
   "execution_count": 110,
   "metadata": {
    "ExecuteTime": {
     "end_time": "2020-04-02T03:46:21.612292Z",
     "start_time": "2020-04-02T03:46:21.606306Z"
    }
   },
   "outputs": [
    {
     "name": "stdout",
     "output_type": "stream",
     "text": [
      "Predicted     0    1\n",
      "Real                \n",
      "0          1653  160\n",
      "1            29  189\n"
     ]
    }
   ],
   "source": [
    "print(confusionMatrix)"
   ]
  },
  {
   "cell_type": "code",
   "execution_count": 111,
   "metadata": {
    "ExecuteTime": {
     "end_time": "2020-04-02T03:46:21.622264Z",
     "start_time": "2020-04-02T03:46:21.614286Z"
    }
   },
   "outputs": [],
   "source": [
    "TN_test = confusionMatrix.iloc[0,0]\n",
    "TP_test = confusionMatrix.iloc[1,1]\n",
    "FP_test = confusionMatrix.iloc[0,1]\n",
    "FN_test = confusionMatrix.iloc[1,0]\n",
    "\n",
    "P_test = FN_test+TP_test\n",
    "N_test = TN_test + FP_test \n",
    "\n",
    "accuraccy = (TP_test + TN_test) / (P_test + N_test)\n",
    "Sensitivity = TP_test/P_test\n",
    "Specificity = TN_test/N_test"
   ]
  },
  {
   "cell_type": "code",
   "execution_count": 112,
   "metadata": {
    "ExecuteTime": {
     "end_time": "2020-04-02T03:46:21.628248Z",
     "start_time": "2020-04-02T03:46:21.623261Z"
    }
   },
   "outputs": [
    {
     "name": "stdout",
     "output_type": "stream",
     "text": [
      "0.9069423929098966\n"
     ]
    }
   ],
   "source": [
    "print(accuraccy)"
   ]
  },
  {
   "cell_type": "code",
   "execution_count": 113,
   "metadata": {
    "ExecuteTime": {
     "end_time": "2020-04-02T03:46:21.633239Z",
     "start_time": "2020-04-02T03:46:21.630243Z"
    }
   },
   "outputs": [
    {
     "name": "stdout",
     "output_type": "stream",
     "text": [
      "0.8669724770642202\n"
     ]
    }
   ],
   "source": [
    "print(Sensitivity)"
   ]
  },
  {
   "cell_type": "code",
   "execution_count": 114,
   "metadata": {
    "ExecuteTime": {
     "end_time": "2020-04-02T03:46:21.642210Z",
     "start_time": "2020-04-02T03:46:21.635230Z"
    }
   },
   "outputs": [
    {
     "name": "stdout",
     "output_type": "stream",
     "text": [
      "0.9117484831770546\n"
     ]
    }
   ],
   "source": [
    "print(Specificity)"
   ]
  },
  {
   "cell_type": "markdown",
   "metadata": {},
   "source": [
    "## Determining cutoff using F-Beta Score"
   ]
  },
  {
   "cell_type": "code",
   "execution_count": null,
   "metadata": {},
   "outputs": [],
   "source": []
  }
 ],
 "metadata": {
  "kernelspec": {
   "display_name": "Python 3",
   "language": "python",
   "name": "python3"
  },
  "language_info": {
   "codemirror_mode": {
    "name": "ipython",
    "version": 3
   },
   "file_extension": ".py",
   "mimetype": "text/x-python",
   "name": "python",
   "nbconvert_exporter": "python",
   "pygments_lexer": "ipython3",
   "version": "3.7.4"
  },
  "pycharm": {
   "stem_cell": {
    "cell_type": "raw",
    "metadata": {
     "collapsed": false
    },
    "source": []
   }
  },
  "toc": {
   "base_numbering": 1,
   "nav_menu": {},
   "number_sections": true,
   "sideBar": true,
   "skip_h1_title": false,
   "title_cell": "Table of Contents",
   "title_sidebar": "Contents",
   "toc_cell": false,
   "toc_position": {
    "height": "786px",
    "left": "1594px",
    "top": "111.133px",
    "width": "283px"
   },
   "toc_section_display": true,
   "toc_window_display": true
  }
 },
 "nbformat": 4,
 "nbformat_minor": 4
}
