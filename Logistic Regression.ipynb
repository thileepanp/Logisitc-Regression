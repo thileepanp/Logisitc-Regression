{
 "cells": [
  {
   "cell_type": "markdown",
   "metadata": {},
   "source": [
    "# Logistic Regression #\n",
    "\n",
    "\n",
    "A retail bank wants to identitify to which of their existing stock trading customers can they offer a 10% discount on transaction commissions."
   ]
  },
  {
   "cell_type": "markdown",
   "metadata": {},
   "source": [
    "# Importing Libraries"
   ]
  },
  {
   "cell_type": "code",
   "execution_count": 47,
   "metadata": {
    "ExecuteTime": {
     "end_time": "2020-03-11T02:32:13.060375Z",
     "start_time": "2020-03-11T02:32:13.044753Z"
    }
   },
   "outputs": [],
   "source": [
    "from sklearn.linear_model import LogisticRegression\n",
    "from sklearn.metrics import roc_auc_score\n",
    "import pandas as pd\n",
    "import numpy as np"
   ]
  },
  {
   "cell_type": "markdown",
   "metadata": {},
   "source": [
    "# Reading Data"
   ]
  },
  {
   "cell_type": "code",
   "execution_count": 48,
   "metadata": {
    "ExecuteTime": {
     "end_time": "2020-03-11T02:32:13.122826Z",
     "start_time": "2020-03-11T02:32:13.060375Z"
    }
   },
   "outputs": [],
   "source": [
    "stockTradingData = pd.read_csv('Retail_Bank_Stock_trading_data.csv')"
   ]
  },
  {
   "cell_type": "markdown",
   "metadata": {},
   "source": [
    "# Data Cleaning and Pre-Processing"
   ]
  },
  {
   "cell_type": "code",
   "execution_count": 49,
   "metadata": {
    "ExecuteTime": {
     "end_time": "2020-03-11T02:32:13.154107Z",
     "start_time": "2020-03-11T02:32:13.122826Z"
    }
   },
   "outputs": [
    {
     "data": {
      "text/html": [
       "<div>\n",
       "<style scoped>\n",
       "    .dataframe tbody tr th:only-of-type {\n",
       "        vertical-align: middle;\n",
       "    }\n",
       "\n",
       "    .dataframe tbody tr th {\n",
       "        vertical-align: top;\n",
       "    }\n",
       "\n",
       "    .dataframe thead th {\n",
       "        text-align: right;\n",
       "    }\n",
       "</style>\n",
       "<table border=\"1\" class=\"dataframe\">\n",
       "  <thead>\n",
       "    <tr style=\"text-align: right;\">\n",
       "      <th></th>\n",
       "      <th>REF_NO</th>\n",
       "      <th>children</th>\n",
       "      <th>age_band</th>\n",
       "      <th>status</th>\n",
       "      <th>occupation</th>\n",
       "      <th>occupation_partner</th>\n",
       "      <th>home_status</th>\n",
       "      <th>family_income</th>\n",
       "      <th>self_employed</th>\n",
       "      <th>self_employed_partner</th>\n",
       "      <th>...</th>\n",
       "      <th>Investment Tax Saving Bond</th>\n",
       "      <th>Home Loan</th>\n",
       "      <th>Online Purchase Amount</th>\n",
       "      <th>Revenue Grid</th>\n",
       "      <th>gender</th>\n",
       "      <th>region</th>\n",
       "      <th>Investment in Commudity</th>\n",
       "      <th>Investment in Equity</th>\n",
       "      <th>Investment in Derivative</th>\n",
       "      <th>Portfolio Balance</th>\n",
       "    </tr>\n",
       "  </thead>\n",
       "  <tbody>\n",
       "    <tr>\n",
       "      <th>0</th>\n",
       "      <td>1</td>\n",
       "      <td>Zero</td>\n",
       "      <td>51-55</td>\n",
       "      <td>Partner</td>\n",
       "      <td>Manual Worker</td>\n",
       "      <td>Secretarial/Admin</td>\n",
       "      <td>Own Home</td>\n",
       "      <td>&lt;17,500, &gt;=15,000</td>\n",
       "      <td>No</td>\n",
       "      <td>No</td>\n",
       "      <td>...</td>\n",
       "      <td>19.99</td>\n",
       "      <td>0.00</td>\n",
       "      <td>0.00</td>\n",
       "      <td>1</td>\n",
       "      <td>Female</td>\n",
       "      <td>Wales</td>\n",
       "      <td>74.67</td>\n",
       "      <td>18.66</td>\n",
       "      <td>32.32</td>\n",
       "      <td>89.43</td>\n",
       "    </tr>\n",
       "    <tr>\n",
       "      <th>1</th>\n",
       "      <td>2</td>\n",
       "      <td>Zero</td>\n",
       "      <td>55-60</td>\n",
       "      <td>Single/Never Married</td>\n",
       "      <td>Retired</td>\n",
       "      <td>Retired</td>\n",
       "      <td>Own Home</td>\n",
       "      <td>&lt;27,500, &gt;=25,000</td>\n",
       "      <td>No</td>\n",
       "      <td>No</td>\n",
       "      <td>...</td>\n",
       "      <td>0.00</td>\n",
       "      <td>0.00</td>\n",
       "      <td>0.00</td>\n",
       "      <td>2</td>\n",
       "      <td>Female</td>\n",
       "      <td>North West</td>\n",
       "      <td>20.19</td>\n",
       "      <td>0.00</td>\n",
       "      <td>4.33</td>\n",
       "      <td>22.78</td>\n",
       "    </tr>\n",
       "    <tr>\n",
       "      <th>2</th>\n",
       "      <td>3</td>\n",
       "      <td>Zero</td>\n",
       "      <td>26-30</td>\n",
       "      <td>Single/Never Married</td>\n",
       "      <td>Professional</td>\n",
       "      <td>Other</td>\n",
       "      <td>Own Home</td>\n",
       "      <td>&lt;30,000, &gt;=27,500</td>\n",
       "      <td>Yes</td>\n",
       "      <td>No</td>\n",
       "      <td>...</td>\n",
       "      <td>0.00</td>\n",
       "      <td>3.49</td>\n",
       "      <td>0.00</td>\n",
       "      <td>2</td>\n",
       "      <td>Male</td>\n",
       "      <td>North</td>\n",
       "      <td>98.06</td>\n",
       "      <td>31.07</td>\n",
       "      <td>80.96</td>\n",
       "      <td>171.78</td>\n",
       "    </tr>\n",
       "    <tr>\n",
       "      <th>3</th>\n",
       "      <td>5</td>\n",
       "      <td>Zero</td>\n",
       "      <td>18-21</td>\n",
       "      <td>Single/Never Married</td>\n",
       "      <td>Professional</td>\n",
       "      <td>Manual Worker</td>\n",
       "      <td>Own Home</td>\n",
       "      <td>&lt;15,000, &gt;=12,500</td>\n",
       "      <td>No</td>\n",
       "      <td>No</td>\n",
       "      <td>...</td>\n",
       "      <td>0.00</td>\n",
       "      <td>0.00</td>\n",
       "      <td>0.00</td>\n",
       "      <td>2</td>\n",
       "      <td>Female</td>\n",
       "      <td>West Midlands</td>\n",
       "      <td>4.10</td>\n",
       "      <td>14.15</td>\n",
       "      <td>17.57</td>\n",
       "      <td>-41.70</td>\n",
       "    </tr>\n",
       "    <tr>\n",
       "      <th>4</th>\n",
       "      <td>6</td>\n",
       "      <td>Zero</td>\n",
       "      <td>45-50</td>\n",
       "      <td>Partner</td>\n",
       "      <td>Business Manager</td>\n",
       "      <td>Unknown</td>\n",
       "      <td>Own Home</td>\n",
       "      <td>&lt;30,000, &gt;=27,500</td>\n",
       "      <td>No</td>\n",
       "      <td>No</td>\n",
       "      <td>...</td>\n",
       "      <td>0.00</td>\n",
       "      <td>45.91</td>\n",
       "      <td>25.98</td>\n",
       "      <td>2</td>\n",
       "      <td>Female</td>\n",
       "      <td>Scotland</td>\n",
       "      <td>70.16</td>\n",
       "      <td>55.86</td>\n",
       "      <td>80.44</td>\n",
       "      <td>235.02</td>\n",
       "    </tr>\n",
       "  </tbody>\n",
       "</table>\n",
       "<p>5 rows × 32 columns</p>\n",
       "</div>"
      ],
      "text/plain": [
       "   REF_NO children age_band                status        occupation  \\\n",
       "0       1     Zero    51-55               Partner     Manual Worker   \n",
       "1       2     Zero    55-60  Single/Never Married           Retired   \n",
       "2       3     Zero    26-30  Single/Never Married      Professional   \n",
       "3       5     Zero    18-21  Single/Never Married      Professional   \n",
       "4       6     Zero    45-50               Partner  Business Manager   \n",
       "\n",
       "  occupation_partner home_status      family_income self_employed  \\\n",
       "0  Secretarial/Admin    Own Home  <17,500, >=15,000            No   \n",
       "1            Retired    Own Home  <27,500, >=25,000            No   \n",
       "2              Other    Own Home  <30,000, >=27,500           Yes   \n",
       "3      Manual Worker    Own Home  <15,000, >=12,500            No   \n",
       "4            Unknown    Own Home  <30,000, >=27,500            No   \n",
       "\n",
       "  self_employed_partner  ...  Investment Tax Saving Bond Home Loan  \\\n",
       "0                    No  ...                       19.99      0.00   \n",
       "1                    No  ...                        0.00      0.00   \n",
       "2                    No  ...                        0.00      3.49   \n",
       "3                    No  ...                        0.00      0.00   \n",
       "4                    No  ...                        0.00     45.91   \n",
       "\n",
       "  Online Purchase Amount Revenue Grid  gender         region  \\\n",
       "0                   0.00            1  Female          Wales   \n",
       "1                   0.00            2  Female     North West   \n",
       "2                   0.00            2    Male          North   \n",
       "3                   0.00            2  Female  West Midlands   \n",
       "4                  25.98            2  Female       Scotland   \n",
       "\n",
       "   Investment in Commudity  Investment in Equity  Investment in Derivative  \\\n",
       "0                    74.67                 18.66                     32.32   \n",
       "1                    20.19                  0.00                      4.33   \n",
       "2                    98.06                 31.07                     80.96   \n",
       "3                     4.10                 14.15                     17.57   \n",
       "4                    70.16                 55.86                     80.44   \n",
       "\n",
       "   Portfolio Balance  \n",
       "0              89.43  \n",
       "1              22.78  \n",
       "2             171.78  \n",
       "3             -41.70  \n",
       "4             235.02  \n",
       "\n",
       "[5 rows x 32 columns]"
      ]
     },
     "execution_count": 49,
     "metadata": {},
     "output_type": "execute_result"
    }
   ],
   "source": [
    "stockTradingData.head()"
   ]
  },
  {
   "cell_type": "markdown",
   "metadata": {},
   "source": [
    "## Finding the datatype of each column"
   ]
  },
  {
   "cell_type": "code",
   "execution_count": 50,
   "metadata": {
    "ExecuteTime": {
     "end_time": "2020-03-11T02:32:13.169717Z",
     "start_time": "2020-03-11T02:32:13.154107Z"
    }
   },
   "outputs": [
    {
     "data": {
      "text/plain": [
       "REF_NO                               int64\n",
       "children                            object\n",
       "age_band                            object\n",
       "status                              object\n",
       "occupation                          object\n",
       "occupation_partner                  object\n",
       "home_status                         object\n",
       "family_income                       object\n",
       "self_employed                       object\n",
       "self_employed_partner               object\n",
       "year_last_moved                      int64\n",
       "TVarea                              object\n",
       "post_code                           object\n",
       "post_area                           object\n",
       "Average Credit Card Transaction    float64\n",
       "Balance Transfer                   float64\n",
       "Term Deposit                       float64\n",
       "Life Insurance                     float64\n",
       "Medical Insurance                  float64\n",
       "Average A/C Balance                float64\n",
       "Personal Loan                      float64\n",
       "Investment in Mutual Fund          float64\n",
       "Investment Tax Saving Bond         float64\n",
       "Home Loan                          float64\n",
       "Online Purchase Amount             float64\n",
       "Revenue Grid                         int64\n",
       "gender                              object\n",
       "region                              object\n",
       "Investment in Commudity            float64\n",
       "Investment in Equity               float64\n",
       "Investment in Derivative           float64\n",
       "Portfolio Balance                  float64\n",
       "dtype: object"
      ]
     },
     "execution_count": 50,
     "metadata": {},
     "output_type": "execute_result"
    }
   ],
   "source": [
    "stockTradingData.dtypes"
   ]
  },
  {
   "cell_type": "code",
   "execution_count": 51,
   "metadata": {
    "ExecuteTime": {
     "end_time": "2020-03-11T02:32:13.185347Z",
     "start_time": "2020-03-11T02:32:13.169717Z"
    }
   },
   "outputs": [],
   "source": [
    "\"\"\" Function to find the no of columns under each datatype \"\"\"\n",
    "\n",
    "def printDataType(df):\n",
    "    dataTypes = ['object','int64','float64','bool','datetime64','timedelta[ns]','category']\n",
    "    for dt in dataTypes:\n",
    "        if np.sum(df.dtypes==dt) >0:\n",
    "                print('Total number of columns with {} datatype '.format(dt), np.sum(df.dtypes == dt))"
   ]
  },
  {
   "cell_type": "code",
   "execution_count": 52,
   "metadata": {
    "ExecuteTime": {
     "end_time": "2020-03-11T02:32:13.200933Z",
     "start_time": "2020-03-11T02:32:13.185347Z"
    }
   },
   "outputs": [
    {
     "name": "stdout",
     "output_type": "stream",
     "text": [
      "Total number of columns with object datatype  14\n",
      "Total number of columns with int64 datatype  3\n",
      "Total number of columns with float64 datatype  15\n"
     ]
    }
   ],
   "source": [
    "printDataType(stockTradingData)"
   ]
  },
  {
   "cell_type": "markdown",
   "metadata": {},
   "source": [
    "## Converting all the object datatype to Int or Float"
   ]
  },
  {
   "cell_type": "code",
   "execution_count": 53,
   "metadata": {
    "ExecuteTime": {
     "end_time": "2020-03-11T02:32:13.216720Z",
     "start_time": "2020-03-11T02:32:13.200933Z"
    },
    "pycharm": {
     "name": "#%%\n"
    }
   },
   "outputs": [],
   "source": [
    "\"\"\" Function to find which columns are of 'object' datatype \"\"\"\n",
    "\n",
    "def printObjectDatatypeColumn(df):\n",
    "    for name in df.columns:\n",
    "        if df.loc[:,name].dtype == 'object':\n",
    "            print(name)"
   ]
  },
  {
   "cell_type": "code",
   "execution_count": null,
   "metadata": {},
   "outputs": [],
   "source": []
  },
  {
   "cell_type": "code",
   "execution_count": 54,
   "metadata": {
    "ExecuteTime": {
     "end_time": "2020-03-11T02:32:13.232176Z",
     "start_time": "2020-03-11T02:32:13.216720Z"
    }
   },
   "outputs": [
    {
     "name": "stdout",
     "output_type": "stream",
     "text": [
      "children\n",
      "age_band\n",
      "status\n",
      "occupation\n",
      "occupation_partner\n",
      "home_status\n",
      "family_income\n",
      "self_employed\n",
      "self_employed_partner\n",
      "TVarea\n",
      "post_code\n",
      "post_area\n",
      "gender\n",
      "region\n"
     ]
    }
   ],
   "source": [
    "printObjectDatatypeColumn(stockTradingData)"
   ]
  },
  {
   "cell_type": "markdown",
   "metadata": {},
   "source": [
    "## Converting all the object datatype to Int or Float"
   ]
  },
  {
   "cell_type": "markdown",
   "metadata": {},
   "source": [
    "### Convert the Output variable 'Revenue Grid' to either 0 or 1. "
   ]
  },
  {
   "cell_type": "code",
   "execution_count": 55,
   "metadata": {
    "ExecuteTime": {
     "end_time": "2020-03-11T02:32:13.247953Z",
     "start_time": "2020-03-11T02:32:13.232176Z"
    },
    "scrolled": true
   },
   "outputs": [
    {
     "data": {
      "text/plain": [
       "0    1\n",
       "1    2\n",
       "2    2\n",
       "3    2\n",
       "4    2\n",
       "Name: Revenue Grid, dtype: int64"
      ]
     },
     "execution_count": 55,
     "metadata": {},
     "output_type": "execute_result"
    }
   ],
   "source": [
    "stockTradingData['Revenue Grid'].head()"
   ]
  },
  {
   "cell_type": "markdown",
   "metadata": {},
   "source": [
    "* In the 'Revenue Grid' column 1 means the customer is doing enough stock trading that, the bank would profit even after offerring a 10% discount on commission to that customer.\n",
    "* 2 Means the customer is **not** doing enough stock trading that, the bank would **not** profit after offerring a 10% discount on commission to that customer.\n",
    "* So, let's group the profitable customer's labelled as 1 into the a new label 1 and the not so profitable customer labelled as 1 into a new label 0. \n",
    "* Let's put the new labels '0' and '1' into a new column 'y'.\n",
    "* This will help us classify the customers as 0 - Not eligible for discount, and 1 - eligible for 10% discount on commission.\n",
    "* Finally, we'll drop the original column 'Revenue Grid' from the dataframe."
   ]
  },
  {
   "cell_type": "code",
   "execution_count": 56,
   "metadata": {
    "ExecuteTime": {
     "end_time": "2020-03-11T02:32:13.263583Z",
     "start_time": "2020-03-11T02:32:13.247953Z"
    }
   },
   "outputs": [],
   "source": [
    "stockTradingData['y'] = np.where(stockTradingData['Revenue Grid']==2, 0, 1)"
   ]
  },
  {
   "cell_type": "code",
   "execution_count": 57,
   "metadata": {
    "ExecuteTime": {
     "end_time": "2020-03-11T02:32:13.279072Z",
     "start_time": "2020-03-11T02:32:13.263583Z"
    }
   },
   "outputs": [],
   "source": [
    "stockTradingData.drop(['Revenue Grid'], 1, inplace=True)"
   ]
  },
  {
   "cell_type": "markdown",
   "metadata": {},
   "source": [
    "### Converting the column 'children'"
   ]
  },
  {
   "cell_type": "code",
   "execution_count": 58,
   "metadata": {
    "ExecuteTime": {
     "end_time": "2020-03-11T02:32:13.294687Z",
     "start_time": "2020-03-11T02:32:13.279072Z"
    }
   },
   "outputs": [
    {
     "data": {
      "text/plain": [
       "Zero    6208\n",
       "1       1848\n",
       "2       1607\n",
       "3        473\n",
       "4+        19\n",
       "Name: children, dtype: int64"
      ]
     },
     "execution_count": 58,
     "metadata": {},
     "output_type": "execute_result"
    }
   ],
   "source": [
    "stockTradingData['children'].value_counts()"
   ]
  },
  {
   "cell_type": "code",
   "execution_count": 59,
   "metadata": {
    "ExecuteTime": {
     "end_time": "2020-03-11T02:32:13.310316Z",
     "start_time": "2020-03-11T02:32:13.294687Z"
    }
   },
   "outputs": [],
   "source": [
    "\"\"\" converting 'zero' and '4+' to 0 and 4 respectively\"\"\"\n",
    "\n",
    "stockTradingData.loc[stockTradingData['children'] == 'Zero','children'] =0\n",
    "stockTradingData.loc[stockTradingData['children'] =='4+', 'children'] = 4"
   ]
  },
  {
   "cell_type": "code",
   "execution_count": 60,
   "metadata": {
    "ExecuteTime": {
     "end_time": "2020-03-11T02:32:13.325937Z",
     "start_time": "2020-03-11T02:32:13.310316Z"
    }
   },
   "outputs": [
    {
     "data": {
      "text/plain": [
       "dtype('O')"
      ]
     },
     "execution_count": 60,
     "metadata": {},
     "output_type": "execute_result"
    }
   ],
   "source": [
    "stockTradingData['children'].dtype"
   ]
  },
  {
   "cell_type": "code",
   "execution_count": 61,
   "metadata": {
    "ExecuteTime": {
     "end_time": "2020-03-11T02:32:13.341549Z",
     "start_time": "2020-03-11T02:32:13.325937Z"
    }
   },
   "outputs": [],
   "source": [
    "\"\"\"After converting the 'zero' and '4+' to 0 and 4 we have now converted all\n",
    "the strings in the column 'children' to integer. But still the datatype of \n",
    "that column remains as 'object'. \n",
    "So, we have to convert that column into an integer column \"\"\"\n",
    "\n",
    "stockTradingData['children'] = pd.to_numeric(stockTradingData['children'], errors='coerce')"
   ]
  },
  {
   "cell_type": "code",
   "execution_count": 62,
   "metadata": {
    "ExecuteTime": {
     "end_time": "2020-03-11T02:32:13.357177Z",
     "start_time": "2020-03-11T02:32:13.341549Z"
    }
   },
   "outputs": [
    {
     "name": "stdout",
     "output_type": "stream",
     "text": [
      "age_band\n",
      "status\n",
      "occupation\n",
      "occupation_partner\n",
      "home_status\n",
      "family_income\n",
      "self_employed\n",
      "self_employed_partner\n",
      "TVarea\n",
      "post_code\n",
      "post_area\n",
      "gender\n",
      "region\n"
     ]
    }
   ],
   "source": [
    "printObjectDatatypeColumn(stockTradingData)"
   ]
  },
  {
   "cell_type": "markdown",
   "metadata": {},
   "source": [
    "### Converting the column 'age_band' to several dummy variables"
   ]
  },
  {
   "cell_type": "code",
   "execution_count": 63,
   "metadata": {
    "ExecuteTime": {
     "end_time": "2020-03-11T02:32:13.372768Z",
     "start_time": "2020-03-11T02:32:13.357177Z"
    }
   },
   "outputs": [
    {
     "data": {
      "text/plain": [
       "45-50      1359\n",
       "36-40      1134\n",
       "41-45      1112\n",
       "31-35      1061\n",
       "51-55      1052\n",
       "55-60      1047\n",
       "26-30       927\n",
       "61-65       881\n",
       "65-70       598\n",
       "22-25       456\n",
       "71+         410\n",
       "18-21        63\n",
       "Unknown      55\n",
       "Name: age_band, dtype: int64"
      ]
     },
     "execution_count": 63,
     "metadata": {},
     "output_type": "execute_result"
    }
   ],
   "source": [
    "stockTradingData['age_band'].value_counts()"
   ]
  },
  {
   "cell_type": "markdown",
   "metadata": {},
   "source": [
    "There are 13 different age bands. If we create dummy columns for \n",
    "each band then we will have to create 12 dummy columns. In order \n",
    "to reduce the number of dummy columns, let's group them together \n",
    "first with the output variable and then create dummies according\n",
    "to the grouping"
   ]
  },
  {
   "cell_type": "code",
   "execution_count": 64,
   "metadata": {
    "ExecuteTime": {
     "end_time": "2020-03-11T02:32:13.388389Z",
     "start_time": "2020-03-11T02:32:13.372768Z"
    }
   },
   "outputs": [
    {
     "data": {
      "text/plain": [
       "age_band\n",
       "18-21      0.17\n",
       "22-25      0.11\n",
       "26-30      0.11\n",
       "31-35      0.11\n",
       "36-40      0.13\n",
       "41-45      0.11\n",
       "45-50      0.10\n",
       "51-55      0.10\n",
       "55-60      0.11\n",
       "61-65      0.09\n",
       "65-70      0.10\n",
       "71+        0.10\n",
       "Unknown    0.05\n",
       "Name: y, dtype: float64"
      ]
     },
     "execution_count": 64,
     "metadata": {},
     "output_type": "execute_result"
    }
   ],
   "source": [
    "round((stockTradingData.groupby('age_band')['y']).mean(),2)"
   ]
  },
  {
   "cell_type": "markdown",
   "metadata": {},
   "source": [
    "* Now, we have 6 groups[0.05,0.09,0.10,0.11,0.13,0.17] grouped according to their frequency of occurrence\n",
    "\n",
    "* Let's keep the group 'Unknown' just like that. \n",
    "\n",
    "* Let's club the remaining age bands with the same mean value into the same group and create a new columns column for each group.\n"
   ]
  },
  {
   "cell_type": "code",
   "execution_count": 65,
   "metadata": {
    "ExecuteTime": {
     "end_time": "2020-03-11T02:32:13.404034Z",
     "start_time": "2020-03-11T02:32:13.388389Z"
    }
   },
   "outputs": [],
   "source": [
    "\"\"\" Grouping age_band with same frequencies into the same \n",
    "list and creating a corresponding string for each list. \n",
    "\n",
    "If the particular column we are working with contains values\n",
    "in from one of the lists then those locations in the column\n",
    "will be relaced with the corresponding strings we create for\n",
    "each list \"\"\"\n",
    "\n",
    "\n",
    "firstBand = ['22-25','26-30','31-35','41-45','55-60']\n",
    "firstBandGroup = 'ab_11'\n",
    "\n",
    "secondBand = ['45-50','51-55','65-70','71+']\n",
    "secondBandGroup = 'ab_10'\n",
    "\n",
    "thirdBand = ['61-65']\n",
    "thirdBandGroup = 'ab_9'\n",
    "\n",
    "fourthBand = ['36-40']\n",
    "fourthBandGroup = 'ab_13'\n",
    "\n",
    "fifthBand = ['18-21']\n",
    "fifthBandGroup= 'ab_17'"
   ]
  },
  {
   "cell_type": "code",
   "execution_count": 66,
   "metadata": {
    "ExecuteTime": {
     "end_time": "2020-03-11T02:32:13.419804Z",
     "start_time": "2020-03-11T02:32:13.404034Z"
    }
   },
   "outputs": [],
   "source": [
    "\"\"\" Creating two list of lists for ease of argument passing.\"\"\"\n",
    "\n",
    "bandListAgeBand = [firstBand,secondBand,thirdBand,fourthBand,fifthBand]\n",
    "groupListAgeBand= [firstBandGroup, secondBandGroup, thirdBandGroup, fourthBandGroup, fifthBandGroup]"
   ]
  },
  {
   "cell_type": "code",
   "execution_count": 67,
   "metadata": {
    "ExecuteTime": {
     "end_time": "2020-03-11T02:32:13.435252Z",
     "start_time": "2020-03-11T02:32:13.419804Z"
    }
   },
   "outputs": [],
   "source": [
    "\"\"\" \n",
    "Function to replace values in a column with a string. \n",
    "The values in a column with the same frequency of occurrence \n",
    "were already grouped into lists. \n",
    "\n",
    "For each list we have also created a string. \n",
    "\n",
    "This function will find all positions in a column which has values \n",
    "contained in the list and will replace those values with the string\n",
    "we already created corresponding to each list. \n",
    "\"\"\"\n",
    "\n",
    "def groupDataByFrequency(df,columnName, bandList, groupList):\n",
    "    for i in range(len(stockTradingData)):\n",
    "        for j in range(len(bandList)):\n",
    "            if stockTradingData.loc[i,columnName] in bandList[j]:\n",
    "                stockTradingData.loc[i,columnName] = groupList[j]\n",
    "            if stockTradingData.loc[i,columnName] in bandList[j]:\n",
    "                stockTradingData.loc[i,columnName] = groupList[j]\n",
    "            if stockTradingData.loc[i,columnName] in bandList[j]:\n",
    "                stockTradingData.loc[i,columnName] = groupList[j]\n",
    "            if stockTradingData.loc[i,columnName] in bandList[j]:\n",
    "                stockTradingData.loc[i,columnName] = groupList[j]\n",
    "            if stockTradingData.loc[i,columnName] in bandList[j]:\n",
    "                stockTradingData.loc[i,columnName] = groupList[j]"
   ]
  },
  {
   "cell_type": "code",
   "execution_count": 68,
   "metadata": {
    "ExecuteTime": {
     "end_time": "2020-03-11T02:32:19.294974Z",
     "start_time": "2020-03-11T02:32:13.435252Z"
    }
   },
   "outputs": [],
   "source": [
    "groupDataByFrequency(stockTradingData, columnName= 'age_band', bandList=bandListAgeBand, groupList=groupListAgeBand)"
   ]
  },
  {
   "cell_type": "code",
   "execution_count": 69,
   "metadata": {
    "ExecuteTime": {
     "end_time": "2020-03-11T02:32:19.310444Z",
     "start_time": "2020-03-11T02:32:19.294974Z"
    }
   },
   "outputs": [
    {
     "data": {
      "text/plain": [
       "ab_11      4603\n",
       "ab_10      3419\n",
       "ab_13      1134\n",
       "ab_9        881\n",
       "ab_17        63\n",
       "Unknown      55\n",
       "Name: age_band, dtype: int64"
      ]
     },
     "execution_count": 69,
     "metadata": {},
     "output_type": "execute_result"
    }
   ],
   "source": [
    "stockTradingData['age_band'].value_counts()"
   ]
  },
  {
   "cell_type": "code",
   "execution_count": 70,
   "metadata": {
    "ExecuteTime": {
     "end_time": "2020-03-11T02:32:19.326074Z",
     "start_time": "2020-03-11T02:32:19.310444Z"
    }
   },
   "outputs": [
    {
     "data": {
      "text/html": [
       "<div>\n",
       "<style scoped>\n",
       "    .dataframe tbody tr th:only-of-type {\n",
       "        vertical-align: middle;\n",
       "    }\n",
       "\n",
       "    .dataframe tbody tr th {\n",
       "        vertical-align: top;\n",
       "    }\n",
       "\n",
       "    .dataframe thead th {\n",
       "        text-align: right;\n",
       "    }\n",
       "</style>\n",
       "<table border=\"1\" class=\"dataframe\">\n",
       "  <thead>\n",
       "    <tr style=\"text-align: right;\">\n",
       "      <th></th>\n",
       "      <th>Unknown</th>\n",
       "      <th>ab_10</th>\n",
       "      <th>ab_11</th>\n",
       "      <th>ab_13</th>\n",
       "      <th>ab_17</th>\n",
       "      <th>ab_9</th>\n",
       "    </tr>\n",
       "  </thead>\n",
       "  <tbody>\n",
       "    <tr>\n",
       "      <th>0</th>\n",
       "      <td>0</td>\n",
       "      <td>1</td>\n",
       "      <td>0</td>\n",
       "      <td>0</td>\n",
       "      <td>0</td>\n",
       "      <td>0</td>\n",
       "    </tr>\n",
       "    <tr>\n",
       "      <th>1</th>\n",
       "      <td>0</td>\n",
       "      <td>0</td>\n",
       "      <td>1</td>\n",
       "      <td>0</td>\n",
       "      <td>0</td>\n",
       "      <td>0</td>\n",
       "    </tr>\n",
       "    <tr>\n",
       "      <th>2</th>\n",
       "      <td>0</td>\n",
       "      <td>0</td>\n",
       "      <td>1</td>\n",
       "      <td>0</td>\n",
       "      <td>0</td>\n",
       "      <td>0</td>\n",
       "    </tr>\n",
       "    <tr>\n",
       "      <th>3</th>\n",
       "      <td>0</td>\n",
       "      <td>0</td>\n",
       "      <td>0</td>\n",
       "      <td>0</td>\n",
       "      <td>1</td>\n",
       "      <td>0</td>\n",
       "    </tr>\n",
       "    <tr>\n",
       "      <th>4</th>\n",
       "      <td>0</td>\n",
       "      <td>1</td>\n",
       "      <td>0</td>\n",
       "      <td>0</td>\n",
       "      <td>0</td>\n",
       "      <td>0</td>\n",
       "    </tr>\n",
       "  </tbody>\n",
       "</table>\n",
       "</div>"
      ],
      "text/plain": [
       "   Unknown  ab_10  ab_11  ab_13  ab_17  ab_9\n",
       "0        0      1      0      0      0     0\n",
       "1        0      0      1      0      0     0\n",
       "2        0      0      1      0      0     0\n",
       "3        0      0      0      0      1     0\n",
       "4        0      1      0      0      0     0"
      ]
     },
     "execution_count": 70,
     "metadata": {},
     "output_type": "execute_result"
    }
   ],
   "source": [
    "\"\"\" Now that we have reduced the groups in the data we can now create dummy variables\"\"\"\n",
    "\n",
    "ageBandDummies = pd.get_dummies(stockTradingData['age_band'])\n",
    "ageBandDummies.head()"
   ]
  },
  {
   "cell_type": "code",
   "execution_count": 71,
   "metadata": {
    "ExecuteTime": {
     "end_time": "2020-03-11T02:32:19.341689Z",
     "start_time": "2020-03-11T02:32:19.326074Z"
    }
   },
   "outputs": [],
   "source": [
    "\"\"\" \n",
    "We can drop the column 'Unknown' from the ageBandDummies dataframe. \n",
    "It occurs only 55 times out of all the 10K+ values.\"\"\"\n",
    "\n",
    "ageBandDummies.drop(['Unknown'],axis=1,inplace=True)"
   ]
  },
  {
   "cell_type": "code",
   "execution_count": 72,
   "metadata": {
    "ExecuteTime": {
     "end_time": "2020-03-11T02:32:19.357286Z",
     "start_time": "2020-03-11T02:32:19.341689Z"
    }
   },
   "outputs": [
    {
     "data": {
      "text/html": [
       "<div>\n",
       "<style scoped>\n",
       "    .dataframe tbody tr th:only-of-type {\n",
       "        vertical-align: middle;\n",
       "    }\n",
       "\n",
       "    .dataframe tbody tr th {\n",
       "        vertical-align: top;\n",
       "    }\n",
       "\n",
       "    .dataframe thead th {\n",
       "        text-align: right;\n",
       "    }\n",
       "</style>\n",
       "<table border=\"1\" class=\"dataframe\">\n",
       "  <thead>\n",
       "    <tr style=\"text-align: right;\">\n",
       "      <th></th>\n",
       "      <th>ab_10</th>\n",
       "      <th>ab_11</th>\n",
       "      <th>ab_13</th>\n",
       "      <th>ab_17</th>\n",
       "      <th>ab_9</th>\n",
       "    </tr>\n",
       "  </thead>\n",
       "  <tbody>\n",
       "    <tr>\n",
       "      <th>0</th>\n",
       "      <td>1</td>\n",
       "      <td>0</td>\n",
       "      <td>0</td>\n",
       "      <td>0</td>\n",
       "      <td>0</td>\n",
       "    </tr>\n",
       "    <tr>\n",
       "      <th>1</th>\n",
       "      <td>0</td>\n",
       "      <td>1</td>\n",
       "      <td>0</td>\n",
       "      <td>0</td>\n",
       "      <td>0</td>\n",
       "    </tr>\n",
       "    <tr>\n",
       "      <th>2</th>\n",
       "      <td>0</td>\n",
       "      <td>1</td>\n",
       "      <td>0</td>\n",
       "      <td>0</td>\n",
       "      <td>0</td>\n",
       "    </tr>\n",
       "    <tr>\n",
       "      <th>3</th>\n",
       "      <td>0</td>\n",
       "      <td>0</td>\n",
       "      <td>0</td>\n",
       "      <td>1</td>\n",
       "      <td>0</td>\n",
       "    </tr>\n",
       "    <tr>\n",
       "      <th>4</th>\n",
       "      <td>1</td>\n",
       "      <td>0</td>\n",
       "      <td>0</td>\n",
       "      <td>0</td>\n",
       "      <td>0</td>\n",
       "    </tr>\n",
       "    <tr>\n",
       "      <th>...</th>\n",
       "      <td>...</td>\n",
       "      <td>...</td>\n",
       "      <td>...</td>\n",
       "      <td>...</td>\n",
       "      <td>...</td>\n",
       "    </tr>\n",
       "    <tr>\n",
       "      <th>10150</th>\n",
       "      <td>1</td>\n",
       "      <td>0</td>\n",
       "      <td>0</td>\n",
       "      <td>0</td>\n",
       "      <td>0</td>\n",
       "    </tr>\n",
       "    <tr>\n",
       "      <th>10151</th>\n",
       "      <td>1</td>\n",
       "      <td>0</td>\n",
       "      <td>0</td>\n",
       "      <td>0</td>\n",
       "      <td>0</td>\n",
       "    </tr>\n",
       "    <tr>\n",
       "      <th>10152</th>\n",
       "      <td>0</td>\n",
       "      <td>1</td>\n",
       "      <td>0</td>\n",
       "      <td>0</td>\n",
       "      <td>0</td>\n",
       "    </tr>\n",
       "    <tr>\n",
       "      <th>10153</th>\n",
       "      <td>1</td>\n",
       "      <td>0</td>\n",
       "      <td>0</td>\n",
       "      <td>0</td>\n",
       "      <td>0</td>\n",
       "    </tr>\n",
       "    <tr>\n",
       "      <th>10154</th>\n",
       "      <td>0</td>\n",
       "      <td>1</td>\n",
       "      <td>0</td>\n",
       "      <td>0</td>\n",
       "      <td>0</td>\n",
       "    </tr>\n",
       "  </tbody>\n",
       "</table>\n",
       "<p>10155 rows × 5 columns</p>\n",
       "</div>"
      ],
      "text/plain": [
       "       ab_10  ab_11  ab_13  ab_17  ab_9\n",
       "0          1      0      0      0     0\n",
       "1          0      1      0      0     0\n",
       "2          0      1      0      0     0\n",
       "3          0      0      0      1     0\n",
       "4          1      0      0      0     0\n",
       "...      ...    ...    ...    ...   ...\n",
       "10150      1      0      0      0     0\n",
       "10151      1      0      0      0     0\n",
       "10152      0      1      0      0     0\n",
       "10153      1      0      0      0     0\n",
       "10154      0      1      0      0     0\n",
       "\n",
       "[10155 rows x 5 columns]"
      ]
     },
     "execution_count": 72,
     "metadata": {},
     "output_type": "execute_result"
    }
   ],
   "source": [
    "ageBandDummies"
   ]
  },
  {
   "cell_type": "code",
   "execution_count": 73,
   "metadata": {
    "ExecuteTime": {
     "end_time": "2020-03-11T02:32:19.372909Z",
     "start_time": "2020-03-11T02:32:19.357286Z"
    }
   },
   "outputs": [],
   "source": [
    "\"\"\" Now, let's add this ageBandDummies dataframe back into the original dataframe\"\"\"\n",
    "\n",
    "stockTradingData = stockTradingData.join(ageBandDummies)"
   ]
  },
  {
   "cell_type": "code",
   "execution_count": 74,
   "metadata": {
    "ExecuteTime": {
     "end_time": "2020-03-11T02:32:19.388587Z",
     "start_time": "2020-03-11T02:32:19.372909Z"
    }
   },
   "outputs": [],
   "source": [
    "\"\"\" Let's also drop the column 'age_band' from the stockTradingData dataframe\"\"\"\n",
    "\n",
    "stockTradingData.drop(['age_band'], axis=1, inplace=True)"
   ]
  },
  {
   "cell_type": "code",
   "execution_count": 75,
   "metadata": {
    "ExecuteTime": {
     "end_time": "2020-03-11T02:32:19.404418Z",
     "start_time": "2020-03-11T02:32:19.388587Z"
    },
    "scrolled": true
   },
   "outputs": [
    {
     "name": "stdout",
     "output_type": "stream",
     "text": [
      "status\n",
      "occupation\n",
      "occupation_partner\n",
      "home_status\n",
      "family_income\n",
      "self_employed\n",
      "self_employed_partner\n",
      "TVarea\n",
      "post_code\n",
      "post_area\n",
      "gender\n",
      "region\n"
     ]
    }
   ],
   "source": [
    "printObjectDatatypeColumn(stockTradingData)"
   ]
  },
  {
   "cell_type": "markdown",
   "metadata": {},
   "source": [
    "### Converting the column 'occupation' to several dummy variables"
   ]
  },
  {
   "cell_type": "code",
   "execution_count": 76,
   "metadata": {
    "ExecuteTime": {
     "end_time": "2020-03-11T02:32:19.419784Z",
     "start_time": "2020-03-11T02:32:19.404418Z"
    }
   },
   "outputs": [
    {
     "data": {
      "text/plain": [
       "Professional         2449\n",
       "Retired              2206\n",
       "Secretarial/Admin    1797\n",
       "Housewife            1255\n",
       "Business Manager      732\n",
       "Unknown               567\n",
       "Manual Worker         556\n",
       "Other                 537\n",
       "Student                56\n",
       "Name: occupation, dtype: int64"
      ]
     },
     "execution_count": 76,
     "metadata": {},
     "output_type": "execute_result"
    }
   ],
   "source": [
    "stockTradingData['occupation'].value_counts()"
   ]
  },
  {
   "cell_type": "code",
   "execution_count": 77,
   "metadata": {
    "ExecuteTime": {
     "end_time": "2020-03-11T02:32:19.435429Z",
     "start_time": "2020-03-11T02:32:19.419784Z"
    }
   },
   "outputs": [
    {
     "data": {
      "text/plain": [
       "occupation\n",
       "Business Manager     0.12\n",
       "Housewife            0.09\n",
       "Manual Worker        0.11\n",
       "Other                0.11\n",
       "Professional         0.12\n",
       "Retired              0.10\n",
       "Secretarial/Admin    0.11\n",
       "Student              0.11\n",
       "Unknown              0.11\n",
       "Name: y, dtype: float64"
      ]
     },
     "execution_count": 77,
     "metadata": {},
     "output_type": "execute_result"
    }
   ],
   "source": [
    "round(stockTradingData.groupby('occupation')['y'].mean(),2)"
   ]
  },
  {
   "cell_type": "code",
   "execution_count": 78,
   "metadata": {
    "ExecuteTime": {
     "end_time": "2020-03-11T02:32:19.451044Z",
     "start_time": "2020-03-11T02:32:19.435429Z"
    }
   },
   "outputs": [],
   "source": [
    "occFirstBand = ['Retired']\n",
    "occFirstBandGroup = 'ocup_10'\n",
    "\n",
    "occSecondBand = ['Manual Worker','Other','Secretarial/Admin','Student','Unknown']\n",
    "occSecondBandGroup = 'ocup_11'\n",
    "\n",
    "occThirdBand = ['Business Manager','Professional']\n",
    "occThirdBandGroup = 'ocup_12'"
   ]
  },
  {
   "cell_type": "code",
   "execution_count": 79,
   "metadata": {
    "ExecuteTime": {
     "end_time": "2020-03-11T02:32:19.466660Z",
     "start_time": "2020-03-11T02:32:19.451044Z"
    }
   },
   "outputs": [],
   "source": [
    "occBand = [occFirstBand,occSecondBand,occThirdBand]\n",
    "occGroup = [occFirstBandGroup,occSecondBandGroup,occThirdBandGroup]"
   ]
  },
  {
   "cell_type": "code",
   "execution_count": 80,
   "metadata": {
    "ExecuteTime": {
     "end_time": "2020-03-11T02:32:24.233618Z",
     "start_time": "2020-03-11T02:32:19.466660Z"
    }
   },
   "outputs": [],
   "source": [
    "groupDataByFrequency(stockTradingData,columnName='occupation', bandList=occBand, groupList=occGroup)"
   ]
  },
  {
   "cell_type": "code",
   "execution_count": 81,
   "metadata": {
    "ExecuteTime": {
     "end_time": "2020-03-11T02:32:24.249131Z",
     "start_time": "2020-03-11T02:32:24.233618Z"
    }
   },
   "outputs": [],
   "source": [
    "occDummies = pd.get_dummies(stockTradingData['occupation'])"
   ]
  },
  {
   "cell_type": "code",
   "execution_count": 82,
   "metadata": {
    "ExecuteTime": {
     "end_time": "2020-03-11T02:32:24.264688Z",
     "start_time": "2020-03-11T02:32:24.249131Z"
    }
   },
   "outputs": [],
   "source": [
    "stockTradingData=stockTradingData.join(occDummies)"
   ]
  },
  {
   "cell_type": "code",
   "execution_count": 83,
   "metadata": {
    "ExecuteTime": {
     "end_time": "2020-03-11T02:32:24.280472Z",
     "start_time": "2020-03-11T02:32:24.264688Z"
    }
   },
   "outputs": [],
   "source": [
    "stockTradingData.drop(['occupation','Housewife'], axis=1, inplace=True)"
   ]
  },
  {
   "cell_type": "code",
   "execution_count": 84,
   "metadata": {
    "ExecuteTime": {
     "end_time": "2020-03-11T02:32:24.296099Z",
     "start_time": "2020-03-11T02:32:24.280472Z"
    }
   },
   "outputs": [
    {
     "name": "stdout",
     "output_type": "stream",
     "text": [
      "status\n",
      "occupation_partner\n",
      "home_status\n",
      "family_income\n",
      "self_employed\n",
      "self_employed_partner\n",
      "TVarea\n",
      "post_code\n",
      "post_area\n",
      "gender\n",
      "region\n"
     ]
    }
   ],
   "source": [
    "printObjectDatatypeColumn(stockTradingData)"
   ]
  },
  {
   "cell_type": "markdown",
   "metadata": {},
   "source": [
    "### Converting the column 'occupation_partner' into several dummy variables"
   ]
  },
  {
   "cell_type": "code",
   "execution_count": 85,
   "metadata": {
    "ExecuteTime": {
     "end_time": "2020-03-11T02:32:59.820364Z",
     "start_time": "2020-03-11T02:32:59.804770Z"
    }
   },
   "outputs": [
    {
     "data": {
      "text/plain": [
       "Unknown              2394\n",
       "Professional         2051\n",
       "Retired              1936\n",
       "Manual Worker        1508\n",
       "Business Manager      737\n",
       "Secretarial/Admin     662\n",
       "Housewife             527\n",
       "Other                 324\n",
       "Student                16\n",
       "Name: occupation_partner, dtype: int64"
      ]
     },
     "execution_count": 85,
     "metadata": {},
     "output_type": "execute_result"
    }
   ],
   "source": [
    "stockTradingData['occupation_partner'].value_counts()"
   ]
  },
  {
   "cell_type": "code",
   "execution_count": 86,
   "metadata": {
    "ExecuteTime": {
     "end_time": "2020-03-11T02:33:01.179416Z",
     "start_time": "2020-03-11T02:33:01.163826Z"
    }
   },
   "outputs": [
    {
     "data": {
      "text/plain": [
       "occupation_partner\n",
       "Business Manager     0.11\n",
       "Housewife            0.11\n",
       "Manual Worker        0.11\n",
       "Other                0.10\n",
       "Professional         0.11\n",
       "Retired              0.10\n",
       "Secretarial/Admin    0.12\n",
       "Student              0.12\n",
       "Unknown              0.10\n",
       "Name: y, dtype: float64"
      ]
     },
     "execution_count": 86,
     "metadata": {},
     "output_type": "execute_result"
    }
   ],
   "source": [
    "round(stockTradingData.groupby('occupation_partner')['y'].mean(),2)"
   ]
  },
  {
   "cell_type": "code",
   "execution_count": 87,
   "metadata": {
    "ExecuteTime": {
     "end_time": "2020-03-11T02:33:04.900733Z",
     "start_time": "2020-03-11T02:33:04.885111Z"
    }
   },
   "outputs": [],
   "source": [
    "partOccFirstBand = ['Other','Retired','Unknown']\n",
    "partOccFirstBandGroup = 'partOcc_10'\n",
    "\n",
    "partOccSecondBand = ['Business Manager','Housewife','Manual Worker','Professional']\n",
    "partOccSecondBandGroup = 'partOcc_11'\n",
    "\n",
    "partOccThirdBand = ['Secretarial/Admin','Student']\n",
    "partOccThirdBandGroup = 'partOcc_12'"
   ]
  },
  {
   "cell_type": "code",
   "execution_count": 88,
   "metadata": {
    "ExecuteTime": {
     "end_time": "2020-03-11T02:33:05.447483Z",
     "start_time": "2020-03-11T02:33:05.431832Z"
    }
   },
   "outputs": [],
   "source": [
    "partOccBand = [partOccFirstBand,partOccSecondBand,partOccThirdBand]\n",
    "partOccGroup = [partOccFirstBandGroup, partOccSecondBandGroup,partOccThirdBandGroup]"
   ]
  },
  {
   "cell_type": "code",
   "execution_count": 89,
   "metadata": {
    "ExecuteTime": {
     "end_time": "2020-03-11T02:33:12.261967Z",
     "start_time": "2020-03-11T02:33:07.090146Z"
    }
   },
   "outputs": [],
   "source": [
    "groupDataByFrequency(stockTradingData, columnName='occupation_partner', bandList=partOccBand, groupList=partOccGroup)"
   ]
  },
  {
   "cell_type": "code",
   "execution_count": 90,
   "metadata": {
    "ExecuteTime": {
     "end_time": "2020-03-11T02:33:14.573909Z",
     "start_time": "2020-03-11T02:33:14.558559Z"
    }
   },
   "outputs": [
    {
     "data": {
      "text/plain": [
       "occupation_partner\n",
       "partOcc_10    0.10\n",
       "partOcc_11    0.11\n",
       "partOcc_12    0.12\n",
       "Name: y, dtype: float64"
      ]
     },
     "execution_count": 90,
     "metadata": {},
     "output_type": "execute_result"
    }
   ],
   "source": [
    "round(stockTradingData.groupby('occupation_partner')['y'].mean(),2)"
   ]
  },
  {
   "cell_type": "code",
   "execution_count": 92,
   "metadata": {
    "ExecuteTime": {
     "end_time": "2020-03-11T02:34:30.083844Z",
     "start_time": "2020-03-11T02:34:30.052625Z"
    }
   },
   "outputs": [],
   "source": [
    "stockTradingData.drop(['occupation_partner'], axis=1, inplace=True)"
   ]
  },
  {
   "cell_type": "code",
   "execution_count": 93,
   "metadata": {
    "ExecuteTime": {
     "end_time": "2020-03-11T02:34:52.636670Z",
     "start_time": "2020-03-11T02:34:52.621542Z"
    },
    "scrolled": true
   },
   "outputs": [
    {
     "name": "stdout",
     "output_type": "stream",
     "text": [
      "status\n",
      "home_status\n",
      "family_income\n",
      "self_employed\n",
      "self_employed_partner\n",
      "TVarea\n",
      "post_code\n",
      "post_area\n",
      "gender\n",
      "region\n"
     ]
    }
   ],
   "source": [
    "printObjectDatatypeColumn(stockTradingData)"
   ]
  },
  {
   "cell_type": "markdown",
   "metadata": {},
   "source": [
    "### Converting 'family_income'variable into mean family income"
   ]
  },
  {
   "cell_type": "code",
   "execution_count": 96,
   "metadata": {
    "ExecuteTime": {
     "end_time": "2020-03-11T03:01:35.991558Z",
     "start_time": "2020-03-11T03:01:35.975939Z"
    }
   },
   "outputs": [
    {
     "data": {
      "text/plain": [
       ">=35,000             2517\n",
       "<27,500, >=25,000    1227\n",
       "<30,000, >=27,500     994\n",
       "<25,000, >=22,500     833\n",
       "<20,000, >=17,500     683\n",
       "<12,500, >=10,000     677\n",
       "<17,500, >=15,000     634\n",
       "<15,000, >=12,500     629\n",
       "<22,500, >=20,000     590\n",
       "<10,000, >= 8,000     563\n",
       "< 8,000, >= 4,000     402\n",
       "< 4,000               278\n",
       "Unknown               128\n",
       "Name: family_income, dtype: int64"
      ]
     },
     "execution_count": 96,
     "metadata": {},
     "output_type": "execute_result"
    }
   ],
   "source": [
    "stockTradingData['family_income'].value_counts()"
   ]
  },
  {
   "cell_type": "code",
   "execution_count": 102,
   "metadata": {
    "ExecuteTime": {
     "end_time": "2020-03-11T03:17:45.211521Z",
     "start_time": "2020-03-11T03:17:45.195855Z"
    }
   },
   "outputs": [
    {
     "data": {
      "text/plain": [
       "family_income\n",
       "< 4,000              0.08\n",
       "< 8,000, >= 4,000    0.08\n",
       "<10,000, >= 8,000    0.11\n",
       "<12,500, >=10,000    0.10\n",
       "<15,000, >=12,500    0.11\n",
       "<17,500, >=15,000    0.12\n",
       "<20,000, >=17,500    0.11\n",
       "<22,500, >=20,000    0.12\n",
       "<25,000, >=22,500    0.10\n",
       "<27,500, >=25,000    0.10\n",
       "<30,000, >=27,500    0.12\n",
       ">=35,000             0.11\n",
       "Unknown              0.07\n",
       "Name: y, dtype: float64"
      ]
     },
     "execution_count": 102,
     "metadata": {},
     "output_type": "execute_result"
    }
   ],
   "source": [
    "round(stockTradingData.groupby('family_income')['y'].mean(),2)"
   ]
  },
  {
   "cell_type": "markdown",
   "metadata": {},
   "source": [
    "Since this is a currency related numeric variable, let's convert each band into the mean of the income band"
   ]
  },
  {
   "cell_type": "markdown",
   "metadata": {},
   "source": [
    "Here we have three bands, '< 4,000', '>=35,000', and 'Unknown' instead of removing them we can just club them all together. \n",
    "An easy way to club it is to create a new variable called 'fi' with a default value of 4 At every location where the 'family_income' variable has a band, this new variable will have the average value of that band. Every other location will have a default value of 4. "
   ]
  },
  {
   "cell_type": "code",
   "execution_count": 103,
   "metadata": {
    "ExecuteTime": {
     "end_time": "2020-03-11T03:26:07.976059Z",
     "start_time": "2020-03-11T03:26:07.960459Z"
    }
   },
   "outputs": [],
   "source": [
    "stockTradingData['fi'] = 4"
   ]
  },
  {
   "cell_type": "code",
   "execution_count": 109,
   "metadata": {
    "ExecuteTime": {
     "end_time": "2020-03-11T03:37:10.865363Z",
     "start_time": "2020-03-11T03:37:10.818544Z"
    }
   },
   "outputs": [],
   "source": [
    "stockTradingData.loc[stockTradingData['family_income'] == '< 8,000, >= 4,000', 'fi'] = (8+4)/2\n",
    "stockTradingData.loc[stockTradingData['family_income'] == '<10,000, >= 8,000', 'fi'] = (10+8)/2\n",
    "stockTradingData.loc[stockTradingData['family_income'] == '<12,500, >=10,000', 'fi'] = (12.5+10)/2\n",
    "stockTradingData.loc[stockTradingData['family_income'] == '<15,000, >=12,500', 'fi'] = (15+12.5)/2\n",
    "stockTradingData.loc[stockTradingData['family_income'] == '<17,500, >=15,000', 'fi'] = (17.5+15)/2\n",
    "stockTradingData.loc[stockTradingData['family_income'] == '<20,000, >=17,500', 'fi'] = (20+17.5)/2\n",
    "stockTradingData.loc[stockTradingData['family_income'] == '<22,500, >=20,000', 'fi'] = (22.5+20)/2\n",
    "stockTradingData.loc[stockTradingData['family_income'] == '<25,000, >=22,500', 'fi'] = (25+22.5)/2\n",
    "stockTradingData.loc[stockTradingData['family_income'] == '<27,500, >=25,000', 'fi'] = (27.5+25)/2\n",
    "stockTradingData.loc[stockTradingData['family_income'] == '<30,000, >=27,500', 'fi'] = (30+27.5)/2"
   ]
  },
  {
   "cell_type": "code",
   "execution_count": 110,
   "metadata": {
    "ExecuteTime": {
     "end_time": "2020-03-11T03:37:15.648653Z",
     "start_time": "2020-03-11T03:37:15.633039Z"
    }
   },
   "outputs": [
    {
     "data": {
      "text/plain": [
       "0        16.25\n",
       "1        26.25\n",
       "2        28.75\n",
       "3        13.75\n",
       "4        28.75\n",
       "         ...  \n",
       "10150    28.75\n",
       "10151    23.75\n",
       "10152     4.00\n",
       "10153     9.00\n",
       "10154    26.25\n",
       "Name: fi, Length: 10155, dtype: float64"
      ]
     },
     "execution_count": 110,
     "metadata": {},
     "output_type": "execute_result"
    }
   ],
   "source": [
    "stockTradingData['fi']"
   ]
  },
  {
   "cell_type": "code",
   "execution_count": 112,
   "metadata": {
    "ExecuteTime": {
     "end_time": "2020-03-11T03:38:25.726492Z",
     "start_time": "2020-03-11T03:38:25.710838Z"
    }
   },
   "outputs": [
    {
     "data": {
      "text/plain": [
       "4.00     2923\n",
       "26.25    1227\n",
       "28.75     994\n",
       "23.75     833\n",
       "18.75     683\n",
       "11.25     677\n",
       "16.25     634\n",
       "13.75     629\n",
       "21.25     590\n",
       "9.00      563\n",
       "6.00      402\n",
       "Name: fi, dtype: int64"
      ]
     },
     "execution_count": 112,
     "metadata": {},
     "output_type": "execute_result"
    }
   ],
   "source": [
    "stockTradingData['fi'].value_counts()"
   ]
  },
  {
   "cell_type": "code",
   "execution_count": 114,
   "metadata": {
    "ExecuteTime": {
     "end_time": "2020-03-11T03:39:55.889559Z",
     "start_time": "2020-03-11T03:39:55.873944Z"
    }
   },
   "outputs": [],
   "source": [
    "stockTradingData.drop(['family_income'], axis=1, inplace=True)"
   ]
  },
  {
   "cell_type": "code",
   "execution_count": 115,
   "metadata": {
    "ExecuteTime": {
     "end_time": "2020-03-11T03:40:06.985408Z",
     "start_time": "2020-03-11T03:40:06.954552Z"
    }
   },
   "outputs": [
    {
     "name": "stdout",
     "output_type": "stream",
     "text": [
      "status\n",
      "home_status\n",
      "self_employed\n",
      "self_employed_partner\n",
      "TVarea\n",
      "post_code\n",
      "post_area\n",
      "gender\n",
      "region\n"
     ]
    }
   ],
   "source": [
    "printObjectDatatypeColumn(stockTradingData)"
   ]
  },
  {
   "cell_type": "code",
   "execution_count": null,
   "metadata": {},
   "outputs": [],
   "source": []
  }
 ],
 "metadata": {
  "kernelspec": {
   "display_name": "Python 3",
   "language": "python",
   "name": "python3"
  },
  "language_info": {
   "codemirror_mode": {
    "name": "ipython",
    "version": 3
   },
   "file_extension": ".py",
   "mimetype": "text/x-python",
   "name": "python",
   "nbconvert_exporter": "python",
   "pygments_lexer": "ipython3",
   "version": "3.7.4"
  },
  "pycharm": {
   "stem_cell": {
    "cell_type": "raw",
    "metadata": {
     "collapsed": false
    },
    "source": []
   }
  },
  "toc": {
   "base_numbering": 1,
   "nav_menu": {},
   "number_sections": true,
   "sideBar": true,
   "skip_h1_title": false,
   "title_cell": "Table of Contents",
   "title_sidebar": "Contents",
   "toc_cell": false,
   "toc_position": {},
   "toc_section_display": true,
   "toc_window_display": false
  }
 },
 "nbformat": 4,
 "nbformat_minor": 4
}
