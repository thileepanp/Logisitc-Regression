{
 "cells": [
  {
   "cell_type": "markdown",
   "metadata": {},
   "source": [
    "# Logistic Regression #\n",
    "\n",
    "\n",
    "A retail bank wants to identitify to which of their existing stock trading customers can they offer a 10% discount on transaction commissions."
   ]
  },
  {
   "cell_type": "markdown",
   "metadata": {},
   "source": [
    "# Importing Libraries"
   ]
  },
  {
   "cell_type": "code",
   "execution_count": 116,
   "metadata": {
    "ExecuteTime": {
     "end_time": "2020-03-11T17:09:30.424606Z",
     "start_time": "2020-03-11T17:09:30.404098Z"
    }
   },
   "outputs": [],
   "source": [
    "from sklearn.linear_model import LogisticRegression\n",
    "from sklearn.metrics import roc_auc_score\n",
    "import pandas as pd\n",
    "import numpy as np"
   ]
  },
  {
   "cell_type": "markdown",
   "metadata": {},
   "source": [
    "# Reading Data"
   ]
  },
  {
   "cell_type": "code",
   "execution_count": 117,
   "metadata": {
    "ExecuteTime": {
     "end_time": "2020-03-11T17:09:30.551507Z",
     "start_time": "2020-03-11T17:09:30.430836Z"
    }
   },
   "outputs": [],
   "source": [
    "stockTradingData = pd.read_csv('Retail_Bank_Stock_trading_data.csv')"
   ]
  },
  {
   "cell_type": "markdown",
   "metadata": {},
   "source": [
    "# Data Cleaning and Pre-Processing"
   ]
  },
  {
   "cell_type": "code",
   "execution_count": 118,
   "metadata": {
    "ExecuteTime": {
     "end_time": "2020-03-11T17:09:30.582996Z",
     "start_time": "2020-03-11T17:09:30.554084Z"
    }
   },
   "outputs": [
    {
     "data": {
      "text/html": [
       "<div>\n",
       "<style scoped>\n",
       "    .dataframe tbody tr th:only-of-type {\n",
       "        vertical-align: middle;\n",
       "    }\n",
       "\n",
       "    .dataframe tbody tr th {\n",
       "        vertical-align: top;\n",
       "    }\n",
       "\n",
       "    .dataframe thead th {\n",
       "        text-align: right;\n",
       "    }\n",
       "</style>\n",
       "<table border=\"1\" class=\"dataframe\">\n",
       "  <thead>\n",
       "    <tr style=\"text-align: right;\">\n",
       "      <th></th>\n",
       "      <th>REF_NO</th>\n",
       "      <th>children</th>\n",
       "      <th>age_band</th>\n",
       "      <th>status</th>\n",
       "      <th>occupation</th>\n",
       "      <th>occupation_partner</th>\n",
       "      <th>home_status</th>\n",
       "      <th>family_income</th>\n",
       "      <th>self_employed</th>\n",
       "      <th>self_employed_partner</th>\n",
       "      <th>...</th>\n",
       "      <th>Investment Tax Saving Bond</th>\n",
       "      <th>Home Loan</th>\n",
       "      <th>Online Purchase Amount</th>\n",
       "      <th>Revenue Grid</th>\n",
       "      <th>gender</th>\n",
       "      <th>region</th>\n",
       "      <th>Investment in Commudity</th>\n",
       "      <th>Investment in Equity</th>\n",
       "      <th>Investment in Derivative</th>\n",
       "      <th>Portfolio Balance</th>\n",
       "    </tr>\n",
       "  </thead>\n",
       "  <tbody>\n",
       "    <tr>\n",
       "      <th>0</th>\n",
       "      <td>1</td>\n",
       "      <td>Zero</td>\n",
       "      <td>51-55</td>\n",
       "      <td>Partner</td>\n",
       "      <td>Manual Worker</td>\n",
       "      <td>Secretarial/Admin</td>\n",
       "      <td>Own Home</td>\n",
       "      <td>&lt;17,500, &gt;=15,000</td>\n",
       "      <td>No</td>\n",
       "      <td>No</td>\n",
       "      <td>...</td>\n",
       "      <td>19.99</td>\n",
       "      <td>0.00</td>\n",
       "      <td>0.00</td>\n",
       "      <td>1</td>\n",
       "      <td>Female</td>\n",
       "      <td>Wales</td>\n",
       "      <td>74.67</td>\n",
       "      <td>18.66</td>\n",
       "      <td>32.32</td>\n",
       "      <td>89.43</td>\n",
       "    </tr>\n",
       "    <tr>\n",
       "      <th>1</th>\n",
       "      <td>2</td>\n",
       "      <td>Zero</td>\n",
       "      <td>55-60</td>\n",
       "      <td>Single/Never Married</td>\n",
       "      <td>Retired</td>\n",
       "      <td>Retired</td>\n",
       "      <td>Own Home</td>\n",
       "      <td>&lt;27,500, &gt;=25,000</td>\n",
       "      <td>No</td>\n",
       "      <td>No</td>\n",
       "      <td>...</td>\n",
       "      <td>0.00</td>\n",
       "      <td>0.00</td>\n",
       "      <td>0.00</td>\n",
       "      <td>2</td>\n",
       "      <td>Female</td>\n",
       "      <td>North West</td>\n",
       "      <td>20.19</td>\n",
       "      <td>0.00</td>\n",
       "      <td>4.33</td>\n",
       "      <td>22.78</td>\n",
       "    </tr>\n",
       "    <tr>\n",
       "      <th>2</th>\n",
       "      <td>3</td>\n",
       "      <td>Zero</td>\n",
       "      <td>26-30</td>\n",
       "      <td>Single/Never Married</td>\n",
       "      <td>Professional</td>\n",
       "      <td>Other</td>\n",
       "      <td>Own Home</td>\n",
       "      <td>&lt;30,000, &gt;=27,500</td>\n",
       "      <td>Yes</td>\n",
       "      <td>No</td>\n",
       "      <td>...</td>\n",
       "      <td>0.00</td>\n",
       "      <td>3.49</td>\n",
       "      <td>0.00</td>\n",
       "      <td>2</td>\n",
       "      <td>Male</td>\n",
       "      <td>North</td>\n",
       "      <td>98.06</td>\n",
       "      <td>31.07</td>\n",
       "      <td>80.96</td>\n",
       "      <td>171.78</td>\n",
       "    </tr>\n",
       "    <tr>\n",
       "      <th>3</th>\n",
       "      <td>5</td>\n",
       "      <td>Zero</td>\n",
       "      <td>18-21</td>\n",
       "      <td>Single/Never Married</td>\n",
       "      <td>Professional</td>\n",
       "      <td>Manual Worker</td>\n",
       "      <td>Own Home</td>\n",
       "      <td>&lt;15,000, &gt;=12,500</td>\n",
       "      <td>No</td>\n",
       "      <td>No</td>\n",
       "      <td>...</td>\n",
       "      <td>0.00</td>\n",
       "      <td>0.00</td>\n",
       "      <td>0.00</td>\n",
       "      <td>2</td>\n",
       "      <td>Female</td>\n",
       "      <td>West Midlands</td>\n",
       "      <td>4.10</td>\n",
       "      <td>14.15</td>\n",
       "      <td>17.57</td>\n",
       "      <td>-41.70</td>\n",
       "    </tr>\n",
       "    <tr>\n",
       "      <th>4</th>\n",
       "      <td>6</td>\n",
       "      <td>Zero</td>\n",
       "      <td>45-50</td>\n",
       "      <td>Partner</td>\n",
       "      <td>Business Manager</td>\n",
       "      <td>Unknown</td>\n",
       "      <td>Own Home</td>\n",
       "      <td>&lt;30,000, &gt;=27,500</td>\n",
       "      <td>No</td>\n",
       "      <td>No</td>\n",
       "      <td>...</td>\n",
       "      <td>0.00</td>\n",
       "      <td>45.91</td>\n",
       "      <td>25.98</td>\n",
       "      <td>2</td>\n",
       "      <td>Female</td>\n",
       "      <td>Scotland</td>\n",
       "      <td>70.16</td>\n",
       "      <td>55.86</td>\n",
       "      <td>80.44</td>\n",
       "      <td>235.02</td>\n",
       "    </tr>\n",
       "  </tbody>\n",
       "</table>\n",
       "<p>5 rows × 32 columns</p>\n",
       "</div>"
      ],
      "text/plain": [
       "   REF_NO children age_band                status        occupation  \\\n",
       "0       1     Zero    51-55               Partner     Manual Worker   \n",
       "1       2     Zero    55-60  Single/Never Married           Retired   \n",
       "2       3     Zero    26-30  Single/Never Married      Professional   \n",
       "3       5     Zero    18-21  Single/Never Married      Professional   \n",
       "4       6     Zero    45-50               Partner  Business Manager   \n",
       "\n",
       "  occupation_partner home_status      family_income self_employed  \\\n",
       "0  Secretarial/Admin    Own Home  <17,500, >=15,000            No   \n",
       "1            Retired    Own Home  <27,500, >=25,000            No   \n",
       "2              Other    Own Home  <30,000, >=27,500           Yes   \n",
       "3      Manual Worker    Own Home  <15,000, >=12,500            No   \n",
       "4            Unknown    Own Home  <30,000, >=27,500            No   \n",
       "\n",
       "  self_employed_partner  ...  Investment Tax Saving Bond Home Loan  \\\n",
       "0                    No  ...                       19.99      0.00   \n",
       "1                    No  ...                        0.00      0.00   \n",
       "2                    No  ...                        0.00      3.49   \n",
       "3                    No  ...                        0.00      0.00   \n",
       "4                    No  ...                        0.00     45.91   \n",
       "\n",
       "  Online Purchase Amount Revenue Grid  gender         region  \\\n",
       "0                   0.00            1  Female          Wales   \n",
       "1                   0.00            2  Female     North West   \n",
       "2                   0.00            2    Male          North   \n",
       "3                   0.00            2  Female  West Midlands   \n",
       "4                  25.98            2  Female       Scotland   \n",
       "\n",
       "   Investment in Commudity  Investment in Equity  Investment in Derivative  \\\n",
       "0                    74.67                 18.66                     32.32   \n",
       "1                    20.19                  0.00                      4.33   \n",
       "2                    98.06                 31.07                     80.96   \n",
       "3                     4.10                 14.15                     17.57   \n",
       "4                    70.16                 55.86                     80.44   \n",
       "\n",
       "   Portfolio Balance  \n",
       "0              89.43  \n",
       "1              22.78  \n",
       "2             171.78  \n",
       "3             -41.70  \n",
       "4             235.02  \n",
       "\n",
       "[5 rows x 32 columns]"
      ]
     },
     "execution_count": 118,
     "metadata": {},
     "output_type": "execute_result"
    }
   ],
   "source": [
    "stockTradingData.head()"
   ]
  },
  {
   "cell_type": "markdown",
   "metadata": {},
   "source": [
    "## Finding the datatype of each column"
   ]
  },
  {
   "cell_type": "code",
   "execution_count": 119,
   "metadata": {
    "ExecuteTime": {
     "end_time": "2020-03-11T17:09:30.598176Z",
     "start_time": "2020-03-11T17:09:30.584990Z"
    }
   },
   "outputs": [
    {
     "data": {
      "text/plain": [
       "REF_NO                               int64\n",
       "children                            object\n",
       "age_band                            object\n",
       "status                              object\n",
       "occupation                          object\n",
       "occupation_partner                  object\n",
       "home_status                         object\n",
       "family_income                       object\n",
       "self_employed                       object\n",
       "self_employed_partner               object\n",
       "year_last_moved                      int64\n",
       "TVarea                              object\n",
       "post_code                           object\n",
       "post_area                           object\n",
       "Average Credit Card Transaction    float64\n",
       "Balance Transfer                   float64\n",
       "Term Deposit                       float64\n",
       "Life Insurance                     float64\n",
       "Medical Insurance                  float64\n",
       "Average A/C Balance                float64\n",
       "Personal Loan                      float64\n",
       "Investment in Mutual Fund          float64\n",
       "Investment Tax Saving Bond         float64\n",
       "Home Loan                          float64\n",
       "Online Purchase Amount             float64\n",
       "Revenue Grid                         int64\n",
       "gender                              object\n",
       "region                              object\n",
       "Investment in Commudity            float64\n",
       "Investment in Equity               float64\n",
       "Investment in Derivative           float64\n",
       "Portfolio Balance                  float64\n",
       "dtype: object"
      ]
     },
     "execution_count": 119,
     "metadata": {},
     "output_type": "execute_result"
    }
   ],
   "source": [
    "stockTradingData.dtypes"
   ]
  },
  {
   "cell_type": "code",
   "execution_count": 120,
   "metadata": {
    "ExecuteTime": {
     "end_time": "2020-03-11T17:09:30.613902Z",
     "start_time": "2020-03-11T17:09:30.600168Z"
    }
   },
   "outputs": [],
   "source": [
    "\"\"\" Function to find the no of columns under each datatype \"\"\"\n",
    "\n",
    "def printDataType(df):\n",
    "    dataTypes = ['object','int64','float64','bool','datetime64','timedelta[ns]','category']\n",
    "    for dt in dataTypes:\n",
    "        if np.sum(df.dtypes==dt) >0:\n",
    "                print('Total number of columns with {} datatype '.format(dt), np.sum(df.dtypes == dt))"
   ]
  },
  {
   "cell_type": "code",
   "execution_count": 121,
   "metadata": {
    "ExecuteTime": {
     "end_time": "2020-03-11T17:09:30.629707Z",
     "start_time": "2020-03-11T17:09:30.615158Z"
    }
   },
   "outputs": [
    {
     "name": "stdout",
     "output_type": "stream",
     "text": [
      "Total number of columns with object datatype  14\n",
      "Total number of columns with int64 datatype  3\n",
      "Total number of columns with float64 datatype  15\n"
     ]
    }
   ],
   "source": [
    "printDataType(stockTradingData)"
   ]
  },
  {
   "cell_type": "markdown",
   "metadata": {},
   "source": [
    "## Converting all the object datatype to Int or Float"
   ]
  },
  {
   "cell_type": "code",
   "execution_count": 122,
   "metadata": {
    "ExecuteTime": {
     "end_time": "2020-03-11T17:09:30.649104Z",
     "start_time": "2020-03-11T17:09:30.633537Z"
    },
    "pycharm": {
     "name": "#%%\n"
    }
   },
   "outputs": [],
   "source": [
    "\"\"\" Function to find which columns are of 'object' datatype \"\"\"\n",
    "\n",
    "def printObjectDatatypeColumn(df):\n",
    "    for name in df.columns:\n",
    "        if df.loc[:,name].dtype == 'object':\n",
    "            print(name)"
   ]
  },
  {
   "cell_type": "code",
   "execution_count": null,
   "metadata": {},
   "outputs": [],
   "source": []
  },
  {
   "cell_type": "code",
   "execution_count": 123,
   "metadata": {
    "ExecuteTime": {
     "end_time": "2020-03-11T17:09:30.665118Z",
     "start_time": "2020-03-11T17:09:30.652750Z"
    }
   },
   "outputs": [
    {
     "name": "stdout",
     "output_type": "stream",
     "text": [
      "children\n",
      "age_band\n",
      "status\n",
      "occupation\n",
      "occupation_partner\n",
      "home_status\n",
      "family_income\n",
      "self_employed\n",
      "self_employed_partner\n",
      "TVarea\n",
      "post_code\n",
      "post_area\n",
      "gender\n",
      "region\n"
     ]
    }
   ],
   "source": [
    "printObjectDatatypeColumn(stockTradingData)"
   ]
  },
  {
   "cell_type": "markdown",
   "metadata": {},
   "source": [
    "## Converting all the object datatype to Int or Float"
   ]
  },
  {
   "cell_type": "markdown",
   "metadata": {},
   "source": [
    "### Convert the Output variable 'Revenue Grid' to either 0 or 1. "
   ]
  },
  {
   "cell_type": "code",
   "execution_count": 124,
   "metadata": {
    "ExecuteTime": {
     "end_time": "2020-03-11T17:09:30.680674Z",
     "start_time": "2020-03-11T17:09:30.668238Z"
    },
    "scrolled": true
   },
   "outputs": [
    {
     "data": {
      "text/plain": [
       "0    1\n",
       "1    2\n",
       "2    2\n",
       "3    2\n",
       "4    2\n",
       "Name: Revenue Grid, dtype: int64"
      ]
     },
     "execution_count": 124,
     "metadata": {},
     "output_type": "execute_result"
    }
   ],
   "source": [
    "stockTradingData['Revenue Grid'].head()"
   ]
  },
  {
   "cell_type": "markdown",
   "metadata": {},
   "source": [
    "* In the 'Revenue Grid' column 1 means the customer is doing enough stock trading that, the bank would profit even after offerring a 10% discount on commission to that customer.\n",
    "* 2 Means the customer is **not** doing enough stock trading that, the bank would **not** profit after offerring a 10% discount on commission to that customer.\n",
    "* So, let's group the profitable customer's labelled as 1 into the a new label 1 and the not so profitable customer labelled as 1 into a new label 0. \n",
    "* Let's put the new labels '0' and '1' into a new column 'y'.\n",
    "* This will help us classify the customers as 0 - Not eligible for discount, and 1 - eligible for 10% discount on commission.\n",
    "* Finally, we'll drop the original column 'Revenue Grid' from the dataframe."
   ]
  },
  {
   "cell_type": "code",
   "execution_count": 125,
   "metadata": {
    "ExecuteTime": {
     "end_time": "2020-03-11T17:09:30.695816Z",
     "start_time": "2020-03-11T17:09:30.684319Z"
    }
   },
   "outputs": [],
   "source": [
    "stockTradingData['y'] = np.where(stockTradingData['Revenue Grid']==2, 0, 1)"
   ]
  },
  {
   "cell_type": "code",
   "execution_count": 126,
   "metadata": {
    "ExecuteTime": {
     "end_time": "2020-03-11T17:09:30.711359Z",
     "start_time": "2020-03-11T17:09:30.699278Z"
    }
   },
   "outputs": [],
   "source": [
    "stockTradingData.drop(['Revenue Grid'], 1, inplace=True)"
   ]
  },
  {
   "cell_type": "markdown",
   "metadata": {},
   "source": [
    "### Converting the column 'children'"
   ]
  },
  {
   "cell_type": "code",
   "execution_count": 127,
   "metadata": {
    "ExecuteTime": {
     "end_time": "2020-03-11T17:09:30.742645Z",
     "start_time": "2020-03-11T17:09:30.714384Z"
    }
   },
   "outputs": [
    {
     "data": {
      "text/plain": [
       "Zero    6208\n",
       "1       1848\n",
       "2       1607\n",
       "3        473\n",
       "4+        19\n",
       "Name: children, dtype: int64"
      ]
     },
     "execution_count": 127,
     "metadata": {},
     "output_type": "execute_result"
    }
   ],
   "source": [
    "stockTradingData['children'].value_counts()"
   ]
  },
  {
   "cell_type": "code",
   "execution_count": 128,
   "metadata": {
    "ExecuteTime": {
     "end_time": "2020-03-11T17:09:30.774579Z",
     "start_time": "2020-03-11T17:09:30.744380Z"
    }
   },
   "outputs": [],
   "source": [
    "\"\"\" converting 'zero' and '4+' to 0 and 4 respectively\"\"\"\n",
    "\n",
    "stockTradingData.loc[stockTradingData['children'] == 'Zero','children'] =0\n",
    "stockTradingData.loc[stockTradingData['children'] =='4+', 'children'] = 4"
   ]
  },
  {
   "cell_type": "code",
   "execution_count": 129,
   "metadata": {
    "ExecuteTime": {
     "end_time": "2020-03-11T17:09:30.790279Z",
     "start_time": "2020-03-11T17:09:30.778092Z"
    }
   },
   "outputs": [
    {
     "data": {
      "text/plain": [
       "dtype('O')"
      ]
     },
     "execution_count": 129,
     "metadata": {},
     "output_type": "execute_result"
    }
   ],
   "source": [
    "stockTradingData['children'].dtype"
   ]
  },
  {
   "cell_type": "code",
   "execution_count": 130,
   "metadata": {
    "ExecuteTime": {
     "end_time": "2020-03-11T17:09:30.806959Z",
     "start_time": "2020-03-11T17:09:30.793456Z"
    }
   },
   "outputs": [],
   "source": [
    "\"\"\"After converting the 'zero' and '4+' to 0 and 4 we have now converted all\n",
    "the strings in the column 'children' to integer. But still the datatype of \n",
    "that column remains as 'object'. \n",
    "So, we have to convert that column into an integer column \"\"\"\n",
    "\n",
    "stockTradingData['children'] = pd.to_numeric(stockTradingData['children'], errors='coerce')"
   ]
  },
  {
   "cell_type": "code",
   "execution_count": 131,
   "metadata": {
    "ExecuteTime": {
     "end_time": "2020-03-11T17:09:30.822733Z",
     "start_time": "2020-03-11T17:09:30.809951Z"
    }
   },
   "outputs": [
    {
     "name": "stdout",
     "output_type": "stream",
     "text": [
      "age_band\n",
      "status\n",
      "occupation\n",
      "occupation_partner\n",
      "home_status\n",
      "family_income\n",
      "self_employed\n",
      "self_employed_partner\n",
      "TVarea\n",
      "post_code\n",
      "post_area\n",
      "gender\n",
      "region\n"
     ]
    }
   ],
   "source": [
    "printObjectDatatypeColumn(stockTradingData)"
   ]
  },
  {
   "cell_type": "markdown",
   "metadata": {},
   "source": [
    "### Converting the column 'age_band' to several dummy variables"
   ]
  },
  {
   "cell_type": "code",
   "execution_count": 132,
   "metadata": {
    "ExecuteTime": {
     "end_time": "2020-03-11T17:09:30.853833Z",
     "start_time": "2020-03-11T17:09:30.829220Z"
    }
   },
   "outputs": [
    {
     "data": {
      "text/plain": [
       "45-50      1359\n",
       "36-40      1134\n",
       "41-45      1112\n",
       "31-35      1061\n",
       "51-55      1052\n",
       "55-60      1047\n",
       "26-30       927\n",
       "61-65       881\n",
       "65-70       598\n",
       "22-25       456\n",
       "71+         410\n",
       "18-21        63\n",
       "Unknown      55\n",
       "Name: age_band, dtype: int64"
      ]
     },
     "execution_count": 132,
     "metadata": {},
     "output_type": "execute_result"
    }
   ],
   "source": [
    "stockTradingData['age_band'].value_counts()"
   ]
  },
  {
   "cell_type": "markdown",
   "metadata": {},
   "source": [
    "There are 13 different age bands. If we create dummy columns for \n",
    "each band then we will have to create 12 dummy columns. In order \n",
    "to reduce the number of dummy columns, let's group them together \n",
    "first with the output variable and then create dummies according\n",
    "to the grouping"
   ]
  },
  {
   "cell_type": "code",
   "execution_count": 133,
   "metadata": {
    "ExecuteTime": {
     "end_time": "2020-03-11T17:09:30.884697Z",
     "start_time": "2020-03-11T17:09:30.857685Z"
    }
   },
   "outputs": [
    {
     "data": {
      "text/plain": [
       "age_band\n",
       "18-21      0.17\n",
       "22-25      0.11\n",
       "26-30      0.11\n",
       "31-35      0.11\n",
       "36-40      0.13\n",
       "41-45      0.11\n",
       "45-50      0.10\n",
       "51-55      0.10\n",
       "55-60      0.11\n",
       "61-65      0.09\n",
       "65-70      0.10\n",
       "71+        0.10\n",
       "Unknown    0.05\n",
       "Name: y, dtype: float64"
      ]
     },
     "execution_count": 133,
     "metadata": {},
     "output_type": "execute_result"
    }
   ],
   "source": [
    "round((stockTradingData.groupby('age_band')['y']).mean(),2)"
   ]
  },
  {
   "cell_type": "markdown",
   "metadata": {},
   "source": [
    "* Now, we have 6 groups[0.05,0.09,0.10,0.11,0.13,0.17] grouped according to their frequency of occurrence\n",
    "\n",
    "* Let's keep the group 'Unknown' just like that. \n",
    "\n",
    "* Let's club the remaining age bands with the same mean value into the same group and create a new columns column for each group.\n"
   ]
  },
  {
   "cell_type": "code",
   "execution_count": 134,
   "metadata": {
    "ExecuteTime": {
     "end_time": "2020-03-11T17:09:30.900739Z",
     "start_time": "2020-03-11T17:09:30.892190Z"
    }
   },
   "outputs": [],
   "source": [
    "\"\"\" Grouping age_band with same frequencies into the same \n",
    "list and creating a corresponding string for each list. \n",
    "\n",
    "If the particular column we are working with contains values\n",
    "in from one of the lists then those locations in the column\n",
    "will be relaced with the corresponding strings we create for\n",
    "each list \"\"\"\n",
    "\n",
    "\n",
    "firstBand = ['22-25','26-30','31-35','41-45','55-60']\n",
    "firstBandGroup = 'ab_11'\n",
    "\n",
    "secondBand = ['45-50','51-55','65-70','71+']\n",
    "secondBandGroup = 'ab_10'\n",
    "\n",
    "thirdBand = ['61-65']\n",
    "thirdBandGroup = 'ab_9'\n",
    "\n",
    "fourthBand = ['36-40']\n",
    "fourthBandGroup = 'ab_13'\n",
    "\n",
    "fifthBand = ['18-21']\n",
    "fifthBandGroup= 'ab_17'"
   ]
  },
  {
   "cell_type": "code",
   "execution_count": 135,
   "metadata": {
    "ExecuteTime": {
     "end_time": "2020-03-11T17:09:30.936228Z",
     "start_time": "2020-03-11T17:09:30.906875Z"
    }
   },
   "outputs": [],
   "source": [
    "\"\"\" Creating two list of lists for ease of argument passing.\"\"\"\n",
    "\n",
    "bandListAgeBand = [firstBand,secondBand,thirdBand,fourthBand,fifthBand]\n",
    "groupListAgeBand= [firstBandGroup, secondBandGroup, thirdBandGroup, fourthBandGroup, fifthBandGroup]"
   ]
  },
  {
   "cell_type": "code",
   "execution_count": 136,
   "metadata": {
    "ExecuteTime": {
     "end_time": "2020-03-11T17:09:30.970793Z",
     "start_time": "2020-03-11T17:09:30.938257Z"
    }
   },
   "outputs": [],
   "source": [
    "\"\"\" \n",
    "Function to replace values in a column with a string. \n",
    "The values in a column with the same frequency of occurrence \n",
    "were already grouped into lists. \n",
    "\n",
    "For each list we have also created a string. \n",
    "\n",
    "This function will find all positions in a column which has values \n",
    "contained in the list and will replace those values with the string\n",
    "we already created corresponding to each list. \n",
    "\"\"\"\n",
    "\n",
    "def groupDataByFrequency(df,columnName, bandList, groupList):\n",
    "    for i in range(len(stockTradingData)):\n",
    "        for j in range(len(bandList)):\n",
    "            if stockTradingData.loc[i,columnName] in bandList[j]:\n",
    "                stockTradingData.loc[i,columnName] = groupList[j]\n",
    "            if stockTradingData.loc[i,columnName] in bandList[j]:\n",
    "                stockTradingData.loc[i,columnName] = groupList[j]\n",
    "            if stockTradingData.loc[i,columnName] in bandList[j]:\n",
    "                stockTradingData.loc[i,columnName] = groupList[j]\n",
    "            if stockTradingData.loc[i,columnName] in bandList[j]:\n",
    "                stockTradingData.loc[i,columnName] = groupList[j]\n",
    "            if stockTradingData.loc[i,columnName] in bandList[j]:\n",
    "                stockTradingData.loc[i,columnName] = groupList[j]"
   ]
  },
  {
   "cell_type": "code",
   "execution_count": 137,
   "metadata": {
    "ExecuteTime": {
     "end_time": "2020-03-11T17:09:48.244753Z",
     "start_time": "2020-03-11T17:09:30.974121Z"
    }
   },
   "outputs": [],
   "source": [
    "groupDataByFrequency(stockTradingData, columnName= 'age_band', bandList=bandListAgeBand, groupList=groupListAgeBand)"
   ]
  },
  {
   "cell_type": "code",
   "execution_count": 138,
   "metadata": {
    "ExecuteTime": {
     "end_time": "2020-03-11T17:09:48.260352Z",
     "start_time": "2020-03-11T17:09:48.247288Z"
    }
   },
   "outputs": [
    {
     "data": {
      "text/plain": [
       "ab_11      4603\n",
       "ab_10      3419\n",
       "ab_13      1134\n",
       "ab_9        881\n",
       "ab_17        63\n",
       "Unknown      55\n",
       "Name: age_band, dtype: int64"
      ]
     },
     "execution_count": 138,
     "metadata": {},
     "output_type": "execute_result"
    }
   ],
   "source": [
    "stockTradingData['age_band'].value_counts()"
   ]
  },
  {
   "cell_type": "code",
   "execution_count": 139,
   "metadata": {
    "ExecuteTime": {
     "end_time": "2020-03-11T17:09:48.338662Z",
     "start_time": "2020-03-11T17:09:48.263140Z"
    }
   },
   "outputs": [
    {
     "data": {
      "text/html": [
       "<div>\n",
       "<style scoped>\n",
       "    .dataframe tbody tr th:only-of-type {\n",
       "        vertical-align: middle;\n",
       "    }\n",
       "\n",
       "    .dataframe tbody tr th {\n",
       "        vertical-align: top;\n",
       "    }\n",
       "\n",
       "    .dataframe thead th {\n",
       "        text-align: right;\n",
       "    }\n",
       "</style>\n",
       "<table border=\"1\" class=\"dataframe\">\n",
       "  <thead>\n",
       "    <tr style=\"text-align: right;\">\n",
       "      <th></th>\n",
       "      <th>Unknown</th>\n",
       "      <th>ab_10</th>\n",
       "      <th>ab_11</th>\n",
       "      <th>ab_13</th>\n",
       "      <th>ab_17</th>\n",
       "      <th>ab_9</th>\n",
       "    </tr>\n",
       "  </thead>\n",
       "  <tbody>\n",
       "    <tr>\n",
       "      <th>0</th>\n",
       "      <td>0</td>\n",
       "      <td>1</td>\n",
       "      <td>0</td>\n",
       "      <td>0</td>\n",
       "      <td>0</td>\n",
       "      <td>0</td>\n",
       "    </tr>\n",
       "    <tr>\n",
       "      <th>1</th>\n",
       "      <td>0</td>\n",
       "      <td>0</td>\n",
       "      <td>1</td>\n",
       "      <td>0</td>\n",
       "      <td>0</td>\n",
       "      <td>0</td>\n",
       "    </tr>\n",
       "    <tr>\n",
       "      <th>2</th>\n",
       "      <td>0</td>\n",
       "      <td>0</td>\n",
       "      <td>1</td>\n",
       "      <td>0</td>\n",
       "      <td>0</td>\n",
       "      <td>0</td>\n",
       "    </tr>\n",
       "    <tr>\n",
       "      <th>3</th>\n",
       "      <td>0</td>\n",
       "      <td>0</td>\n",
       "      <td>0</td>\n",
       "      <td>0</td>\n",
       "      <td>1</td>\n",
       "      <td>0</td>\n",
       "    </tr>\n",
       "    <tr>\n",
       "      <th>4</th>\n",
       "      <td>0</td>\n",
       "      <td>1</td>\n",
       "      <td>0</td>\n",
       "      <td>0</td>\n",
       "      <td>0</td>\n",
       "      <td>0</td>\n",
       "    </tr>\n",
       "  </tbody>\n",
       "</table>\n",
       "</div>"
      ],
      "text/plain": [
       "   Unknown  ab_10  ab_11  ab_13  ab_17  ab_9\n",
       "0        0      1      0      0      0     0\n",
       "1        0      0      1      0      0     0\n",
       "2        0      0      1      0      0     0\n",
       "3        0      0      0      0      1     0\n",
       "4        0      1      0      0      0     0"
      ]
     },
     "execution_count": 139,
     "metadata": {},
     "output_type": "execute_result"
    }
   ],
   "source": [
    "\"\"\" Now that we have reduced the groups in the data we can now create dummy variables\"\"\"\n",
    "\n",
    "ageBandDummies = pd.get_dummies(stockTradingData['age_band'])\n",
    "ageBandDummies.head()"
   ]
  },
  {
   "cell_type": "code",
   "execution_count": 140,
   "metadata": {
    "ExecuteTime": {
     "end_time": "2020-03-11T17:09:48.353865Z",
     "start_time": "2020-03-11T17:09:48.341655Z"
    }
   },
   "outputs": [],
   "source": [
    "\"\"\" \n",
    "We can drop the column 'Unknown' from the ageBandDummies dataframe. \n",
    "It occurs only 55 times out of all the 10K+ values.\"\"\"\n",
    "\n",
    "ageBandDummies.drop(['Unknown'],axis=1,inplace=True)"
   ]
  },
  {
   "cell_type": "code",
   "execution_count": 141,
   "metadata": {
    "ExecuteTime": {
     "end_time": "2020-03-11T17:09:48.385817Z",
     "start_time": "2020-03-11T17:09:48.358471Z"
    }
   },
   "outputs": [
    {
     "data": {
      "text/html": [
       "<div>\n",
       "<style scoped>\n",
       "    .dataframe tbody tr th:only-of-type {\n",
       "        vertical-align: middle;\n",
       "    }\n",
       "\n",
       "    .dataframe tbody tr th {\n",
       "        vertical-align: top;\n",
       "    }\n",
       "\n",
       "    .dataframe thead th {\n",
       "        text-align: right;\n",
       "    }\n",
       "</style>\n",
       "<table border=\"1\" class=\"dataframe\">\n",
       "  <thead>\n",
       "    <tr style=\"text-align: right;\">\n",
       "      <th></th>\n",
       "      <th>ab_10</th>\n",
       "      <th>ab_11</th>\n",
       "      <th>ab_13</th>\n",
       "      <th>ab_17</th>\n",
       "      <th>ab_9</th>\n",
       "    </tr>\n",
       "  </thead>\n",
       "  <tbody>\n",
       "    <tr>\n",
       "      <th>0</th>\n",
       "      <td>1</td>\n",
       "      <td>0</td>\n",
       "      <td>0</td>\n",
       "      <td>0</td>\n",
       "      <td>0</td>\n",
       "    </tr>\n",
       "    <tr>\n",
       "      <th>1</th>\n",
       "      <td>0</td>\n",
       "      <td>1</td>\n",
       "      <td>0</td>\n",
       "      <td>0</td>\n",
       "      <td>0</td>\n",
       "    </tr>\n",
       "    <tr>\n",
       "      <th>2</th>\n",
       "      <td>0</td>\n",
       "      <td>1</td>\n",
       "      <td>0</td>\n",
       "      <td>0</td>\n",
       "      <td>0</td>\n",
       "    </tr>\n",
       "    <tr>\n",
       "      <th>3</th>\n",
       "      <td>0</td>\n",
       "      <td>0</td>\n",
       "      <td>0</td>\n",
       "      <td>1</td>\n",
       "      <td>0</td>\n",
       "    </tr>\n",
       "    <tr>\n",
       "      <th>4</th>\n",
       "      <td>1</td>\n",
       "      <td>0</td>\n",
       "      <td>0</td>\n",
       "      <td>0</td>\n",
       "      <td>0</td>\n",
       "    </tr>\n",
       "    <tr>\n",
       "      <th>...</th>\n",
       "      <td>...</td>\n",
       "      <td>...</td>\n",
       "      <td>...</td>\n",
       "      <td>...</td>\n",
       "      <td>...</td>\n",
       "    </tr>\n",
       "    <tr>\n",
       "      <th>10150</th>\n",
       "      <td>1</td>\n",
       "      <td>0</td>\n",
       "      <td>0</td>\n",
       "      <td>0</td>\n",
       "      <td>0</td>\n",
       "    </tr>\n",
       "    <tr>\n",
       "      <th>10151</th>\n",
       "      <td>1</td>\n",
       "      <td>0</td>\n",
       "      <td>0</td>\n",
       "      <td>0</td>\n",
       "      <td>0</td>\n",
       "    </tr>\n",
       "    <tr>\n",
       "      <th>10152</th>\n",
       "      <td>0</td>\n",
       "      <td>1</td>\n",
       "      <td>0</td>\n",
       "      <td>0</td>\n",
       "      <td>0</td>\n",
       "    </tr>\n",
       "    <tr>\n",
       "      <th>10153</th>\n",
       "      <td>1</td>\n",
       "      <td>0</td>\n",
       "      <td>0</td>\n",
       "      <td>0</td>\n",
       "      <td>0</td>\n",
       "    </tr>\n",
       "    <tr>\n",
       "      <th>10154</th>\n",
       "      <td>0</td>\n",
       "      <td>1</td>\n",
       "      <td>0</td>\n",
       "      <td>0</td>\n",
       "      <td>0</td>\n",
       "    </tr>\n",
       "  </tbody>\n",
       "</table>\n",
       "<p>10155 rows × 5 columns</p>\n",
       "</div>"
      ],
      "text/plain": [
       "       ab_10  ab_11  ab_13  ab_17  ab_9\n",
       "0          1      0      0      0     0\n",
       "1          0      1      0      0     0\n",
       "2          0      1      0      0     0\n",
       "3          0      0      0      1     0\n",
       "4          1      0      0      0     0\n",
       "...      ...    ...    ...    ...   ...\n",
       "10150      1      0      0      0     0\n",
       "10151      1      0      0      0     0\n",
       "10152      0      1      0      0     0\n",
       "10153      1      0      0      0     0\n",
       "10154      0      1      0      0     0\n",
       "\n",
       "[10155 rows x 5 columns]"
      ]
     },
     "execution_count": 141,
     "metadata": {},
     "output_type": "execute_result"
    }
   ],
   "source": [
    "ageBandDummies"
   ]
  },
  {
   "cell_type": "code",
   "execution_count": 142,
   "metadata": {
    "ExecuteTime": {
     "end_time": "2020-03-11T17:09:48.417571Z",
     "start_time": "2020-03-11T17:09:48.389196Z"
    }
   },
   "outputs": [],
   "source": [
    "\"\"\" Now, let's add this ageBandDummies dataframe back into the original dataframe\"\"\"\n",
    "\n",
    "stockTradingData = stockTradingData.join(ageBandDummies)"
   ]
  },
  {
   "cell_type": "code",
   "execution_count": 143,
   "metadata": {
    "ExecuteTime": {
     "end_time": "2020-03-11T17:09:48.448881Z",
     "start_time": "2020-03-11T17:09:48.420551Z"
    }
   },
   "outputs": [],
   "source": [
    "\"\"\" Let's also drop the column 'age_band' from the stockTradingData dataframe\"\"\"\n",
    "\n",
    "stockTradingData.drop(['age_band'], axis=1, inplace=True)"
   ]
  },
  {
   "cell_type": "code",
   "execution_count": 144,
   "metadata": {
    "ExecuteTime": {
     "end_time": "2020-03-11T17:09:48.480597Z",
     "start_time": "2020-03-11T17:09:48.453375Z"
    },
    "scrolled": true
   },
   "outputs": [
    {
     "name": "stdout",
     "output_type": "stream",
     "text": [
      "status\n",
      "occupation\n",
      "occupation_partner\n",
      "home_status\n",
      "family_income\n",
      "self_employed\n",
      "self_employed_partner\n",
      "TVarea\n",
      "post_code\n",
      "post_area\n",
      "gender\n",
      "region\n"
     ]
    }
   ],
   "source": [
    "printObjectDatatypeColumn(stockTradingData)"
   ]
  },
  {
   "cell_type": "markdown",
   "metadata": {},
   "source": [
    "### Converting the column 'occupation' to several dummy variables"
   ]
  },
  {
   "cell_type": "code",
   "execution_count": 145,
   "metadata": {
    "ExecuteTime": {
     "end_time": "2020-03-11T17:09:48.512277Z",
     "start_time": "2020-03-11T17:09:48.484973Z"
    }
   },
   "outputs": [
    {
     "data": {
      "text/plain": [
       "Professional         2449\n",
       "Retired              2206\n",
       "Secretarial/Admin    1797\n",
       "Housewife            1255\n",
       "Business Manager      732\n",
       "Unknown               567\n",
       "Manual Worker         556\n",
       "Other                 537\n",
       "Student                56\n",
       "Name: occupation, dtype: int64"
      ]
     },
     "execution_count": 145,
     "metadata": {},
     "output_type": "execute_result"
    }
   ],
   "source": [
    "stockTradingData['occupation'].value_counts()"
   ]
  },
  {
   "cell_type": "code",
   "execution_count": 146,
   "metadata": {
    "ExecuteTime": {
     "end_time": "2020-03-11T17:09:48.546377Z",
     "start_time": "2020-03-11T17:09:48.517238Z"
    }
   },
   "outputs": [
    {
     "data": {
      "text/plain": [
       "occupation\n",
       "Business Manager     0.12\n",
       "Housewife            0.09\n",
       "Manual Worker        0.11\n",
       "Other                0.11\n",
       "Professional         0.12\n",
       "Retired              0.10\n",
       "Secretarial/Admin    0.11\n",
       "Student              0.11\n",
       "Unknown              0.11\n",
       "Name: y, dtype: float64"
      ]
     },
     "execution_count": 146,
     "metadata": {},
     "output_type": "execute_result"
    }
   ],
   "source": [
    "round(stockTradingData.groupby('occupation')['y'].mean(),2)"
   ]
  },
  {
   "cell_type": "code",
   "execution_count": 147,
   "metadata": {
    "ExecuteTime": {
     "end_time": "2020-03-11T17:09:48.561544Z",
     "start_time": "2020-03-11T17:09:48.551578Z"
    }
   },
   "outputs": [],
   "source": [
    "occFirstBand = ['Retired']\n",
    "occFirstBandGroup = 'ocup_10'\n",
    "\n",
    "occSecondBand = ['Manual Worker','Other','Secretarial/Admin','Student','Unknown']\n",
    "occSecondBandGroup = 'ocup_11'\n",
    "\n",
    "occThirdBand = ['Business Manager','Professional']\n",
    "occThirdBandGroup = 'ocup_12'"
   ]
  },
  {
   "cell_type": "code",
   "execution_count": 148,
   "metadata": {
    "ExecuteTime": {
     "end_time": "2020-03-11T17:09:48.577487Z",
     "start_time": "2020-03-11T17:09:48.569295Z"
    }
   },
   "outputs": [],
   "source": [
    "occBand = [occFirstBand,occSecondBand,occThirdBand]\n",
    "occGroup = [occFirstBandGroup,occSecondBandGroup,occThirdBandGroup]"
   ]
  },
  {
   "cell_type": "code",
   "execution_count": 149,
   "metadata": {
    "ExecuteTime": {
     "end_time": "2020-03-11T17:10:02.420389Z",
     "start_time": "2020-03-11T17:09:48.585258Z"
    }
   },
   "outputs": [],
   "source": [
    "groupDataByFrequency(stockTradingData,columnName='occupation', bandList=occBand, groupList=occGroup)"
   ]
  },
  {
   "cell_type": "code",
   "execution_count": 150,
   "metadata": {
    "ExecuteTime": {
     "end_time": "2020-03-11T17:10:02.435822Z",
     "start_time": "2020-03-11T17:10:02.422751Z"
    }
   },
   "outputs": [],
   "source": [
    "occDummies = pd.get_dummies(stockTradingData['occupation'])"
   ]
  },
  {
   "cell_type": "code",
   "execution_count": 151,
   "metadata": {
    "ExecuteTime": {
     "end_time": "2020-03-11T17:10:02.514729Z",
     "start_time": "2020-03-11T17:10:02.438185Z"
    }
   },
   "outputs": [],
   "source": [
    "stockTradingData=stockTradingData.join(occDummies)"
   ]
  },
  {
   "cell_type": "code",
   "execution_count": 152,
   "metadata": {
    "ExecuteTime": {
     "end_time": "2020-03-11T17:10:02.545158Z",
     "start_time": "2020-03-11T17:10:02.518542Z"
    }
   },
   "outputs": [],
   "source": [
    "stockTradingData.drop(['occupation','Housewife'], axis=1, inplace=True)"
   ]
  },
  {
   "cell_type": "code",
   "execution_count": 153,
   "metadata": {
    "ExecuteTime": {
     "end_time": "2020-03-11T17:10:02.576582Z",
     "start_time": "2020-03-11T17:10:02.548438Z"
    }
   },
   "outputs": [
    {
     "name": "stdout",
     "output_type": "stream",
     "text": [
      "status\n",
      "occupation_partner\n",
      "home_status\n",
      "family_income\n",
      "self_employed\n",
      "self_employed_partner\n",
      "TVarea\n",
      "post_code\n",
      "post_area\n",
      "gender\n",
      "region\n"
     ]
    }
   ],
   "source": [
    "printObjectDatatypeColumn(stockTradingData)"
   ]
  },
  {
   "cell_type": "markdown",
   "metadata": {},
   "source": [
    "### Converting the column 'occupation_partner' into several dummy variables"
   ]
  },
  {
   "cell_type": "code",
   "execution_count": 154,
   "metadata": {
    "ExecuteTime": {
     "end_time": "2020-03-11T17:10:02.608346Z",
     "start_time": "2020-03-11T17:10:02.580358Z"
    }
   },
   "outputs": [
    {
     "data": {
      "text/plain": [
       "Unknown              2394\n",
       "Professional         2051\n",
       "Retired              1936\n",
       "Manual Worker        1508\n",
       "Business Manager      737\n",
       "Secretarial/Admin     662\n",
       "Housewife             527\n",
       "Other                 324\n",
       "Student                16\n",
       "Name: occupation_partner, dtype: int64"
      ]
     },
     "execution_count": 154,
     "metadata": {},
     "output_type": "execute_result"
    }
   ],
   "source": [
    "stockTradingData['occupation_partner'].value_counts()"
   ]
  },
  {
   "cell_type": "code",
   "execution_count": 155,
   "metadata": {
    "ExecuteTime": {
     "end_time": "2020-03-11T17:10:02.638494Z",
     "start_time": "2020-03-11T17:10:02.610344Z"
    }
   },
   "outputs": [
    {
     "data": {
      "text/plain": [
       "occupation_partner\n",
       "Business Manager     0.11\n",
       "Housewife            0.11\n",
       "Manual Worker        0.11\n",
       "Other                0.10\n",
       "Professional         0.11\n",
       "Retired              0.10\n",
       "Secretarial/Admin    0.12\n",
       "Student              0.12\n",
       "Unknown              0.10\n",
       "Name: y, dtype: float64"
      ]
     },
     "execution_count": 155,
     "metadata": {},
     "output_type": "execute_result"
    }
   ],
   "source": [
    "round(stockTradingData.groupby('occupation_partner')['y'].mean(),2)"
   ]
  },
  {
   "cell_type": "code",
   "execution_count": 156,
   "metadata": {
    "ExecuteTime": {
     "end_time": "2020-03-11T17:10:02.654324Z",
     "start_time": "2020-03-11T17:10:02.642815Z"
    }
   },
   "outputs": [],
   "source": [
    "partOccFirstBand = ['Other','Retired','Unknown']\n",
    "partOccFirstBandGroup = 'partOcc_10'\n",
    "\n",
    "partOccSecondBand = ['Business Manager','Housewife','Manual Worker','Professional']\n",
    "partOccSecondBandGroup = 'partOcc_11'\n",
    "\n",
    "partOccThirdBand = ['Secretarial/Admin','Student']\n",
    "partOccThirdBandGroup = 'partOcc_12'"
   ]
  },
  {
   "cell_type": "code",
   "execution_count": 157,
   "metadata": {
    "ExecuteTime": {
     "end_time": "2020-03-11T17:10:02.669451Z",
     "start_time": "2020-03-11T17:10:02.659319Z"
    }
   },
   "outputs": [],
   "source": [
    "partOccBand = [partOccFirstBand,partOccSecondBand,partOccThirdBand]\n",
    "partOccGroup = [partOccFirstBandGroup, partOccSecondBandGroup,partOccThirdBandGroup]"
   ]
  },
  {
   "cell_type": "code",
   "execution_count": 158,
   "metadata": {
    "ExecuteTime": {
     "end_time": "2020-03-11T17:10:18.592231Z",
     "start_time": "2020-03-11T17:10:02.676642Z"
    }
   },
   "outputs": [],
   "source": [
    "groupDataByFrequency(stockTradingData, columnName='occupation_partner', bandList=partOccBand, groupList=partOccGroup)"
   ]
  },
  {
   "cell_type": "code",
   "execution_count": 159,
   "metadata": {
    "ExecuteTime": {
     "end_time": "2020-03-11T17:10:22.985561Z",
     "start_time": "2020-03-11T17:10:22.972763Z"
    }
   },
   "outputs": [
    {
     "data": {
      "text/plain": [
       "occupation_partner\n",
       "partOcc_10    0.10\n",
       "partOcc_11    0.11\n",
       "partOcc_12    0.12\n",
       "Name: y, dtype: float64"
      ]
     },
     "execution_count": 159,
     "metadata": {},
     "output_type": "execute_result"
    }
   ],
   "source": [
    "round(stockTradingData.groupby('occupation_partner')['y'].mean(),2)"
   ]
  },
  {
   "cell_type": "code",
   "execution_count": 161,
   "metadata": {
    "ExecuteTime": {
     "end_time": "2020-03-11T17:10:35.498353Z",
     "start_time": "2020-03-11T17:10:35.485567Z"
    }
   },
   "outputs": [],
   "source": [
    "partOccupation = pd.get_dummies(stockTradingData['occupation_partner'])"
   ]
  },
  {
   "cell_type": "code",
   "execution_count": 162,
   "metadata": {
    "ExecuteTime": {
     "end_time": "2020-03-11T17:10:37.981905Z",
     "start_time": "2020-03-11T17:10:37.957507Z"
    }
   },
   "outputs": [],
   "source": [
    "stockTradingData = stockTradingData.join(partOccupation)"
   ]
  },
  {
   "cell_type": "code",
   "execution_count": 163,
   "metadata": {
    "ExecuteTime": {
     "end_time": "2020-03-11T17:10:42.448446Z",
     "start_time": "2020-03-11T17:10:42.413419Z"
    }
   },
   "outputs": [],
   "source": [
    "stockTradingData.drop(['occupation_partner'], axis=1, inplace=True)"
   ]
  },
  {
   "cell_type": "code",
   "execution_count": 164,
   "metadata": {
    "ExecuteTime": {
     "end_time": "2020-03-11T17:10:46.391613Z",
     "start_time": "2020-03-11T17:10:46.384034Z"
    },
    "scrolled": true
   },
   "outputs": [
    {
     "name": "stdout",
     "output_type": "stream",
     "text": [
      "status\n",
      "home_status\n",
      "family_income\n",
      "self_employed\n",
      "self_employed_partner\n",
      "TVarea\n",
      "post_code\n",
      "post_area\n",
      "gender\n",
      "region\n"
     ]
    }
   ],
   "source": [
    "printObjectDatatypeColumn(stockTradingData)"
   ]
  },
  {
   "cell_type": "markdown",
   "metadata": {},
   "source": [
    "### Converting 'family_income'variable into mean family income"
   ]
  },
  {
   "cell_type": "code",
   "execution_count": 165,
   "metadata": {
    "ExecuteTime": {
     "end_time": "2020-03-11T17:10:56.204239Z",
     "start_time": "2020-03-11T17:10:56.180850Z"
    }
   },
   "outputs": [
    {
     "data": {
      "text/plain": [
       ">=35,000             2517\n",
       "<27,500, >=25,000    1227\n",
       "<30,000, >=27,500     994\n",
       "<25,000, >=22,500     833\n",
       "<20,000, >=17,500     683\n",
       "<12,500, >=10,000     677\n",
       "<17,500, >=15,000     634\n",
       "<15,000, >=12,500     629\n",
       "<22,500, >=20,000     590\n",
       "<10,000, >= 8,000     563\n",
       "< 8,000, >= 4,000     402\n",
       "< 4,000               278\n",
       "Unknown               128\n",
       "Name: family_income, dtype: int64"
      ]
     },
     "execution_count": 165,
     "metadata": {},
     "output_type": "execute_result"
    }
   ],
   "source": [
    "stockTradingData['family_income'].value_counts()"
   ]
  },
  {
   "cell_type": "code",
   "execution_count": 166,
   "metadata": {
    "ExecuteTime": {
     "end_time": "2020-03-11T17:10:56.269876Z",
     "start_time": "2020-03-11T17:10:56.210045Z"
    }
   },
   "outputs": [
    {
     "data": {
      "text/plain": [
       "family_income\n",
       "< 4,000              0.08\n",
       "< 8,000, >= 4,000    0.08\n",
       "<10,000, >= 8,000    0.11\n",
       "<12,500, >=10,000    0.10\n",
       "<15,000, >=12,500    0.11\n",
       "<17,500, >=15,000    0.12\n",
       "<20,000, >=17,500    0.11\n",
       "<22,500, >=20,000    0.12\n",
       "<25,000, >=22,500    0.10\n",
       "<27,500, >=25,000    0.10\n",
       "<30,000, >=27,500    0.12\n",
       ">=35,000             0.11\n",
       "Unknown              0.07\n",
       "Name: y, dtype: float64"
      ]
     },
     "execution_count": 166,
     "metadata": {},
     "output_type": "execute_result"
    }
   ],
   "source": [
    "round(stockTradingData.groupby('family_income')['y'].mean(),2)"
   ]
  },
  {
   "cell_type": "markdown",
   "metadata": {},
   "source": [
    "Since this is a currency related numeric variable, let's convert each band into the mean of the income band"
   ]
  },
  {
   "cell_type": "markdown",
   "metadata": {},
   "source": [
    "Here we have three bands, '< 4,000', '>=35,000', and 'Unknown' instead of removing them we can just club them all together. \n",
    "An easy way to club it is to create a new variable called 'fi' with a default value of 4 At every location where the 'family_income' variable has a band, this new variable will have the average value of that band. Every other location will have a default value of 4. "
   ]
  },
  {
   "cell_type": "code",
   "execution_count": 167,
   "metadata": {
    "ExecuteTime": {
     "end_time": "2020-03-11T17:10:56.286017Z",
     "start_time": "2020-03-11T17:10:56.271900Z"
    }
   },
   "outputs": [],
   "source": [
    "stockTradingData['fi'] = 4"
   ]
  },
  {
   "cell_type": "code",
   "execution_count": 168,
   "metadata": {
    "ExecuteTime": {
     "end_time": "2020-03-11T17:10:56.348471Z",
     "start_time": "2020-03-11T17:10:56.288107Z"
    }
   },
   "outputs": [],
   "source": [
    "stockTradingData.loc[stockTradingData['family_income'] == '< 8,000, >= 4,000', 'fi'] = (8+4)/2\n",
    "stockTradingData.loc[stockTradingData['family_income'] == '<10,000, >= 8,000', 'fi'] = (10+8)/2\n",
    "stockTradingData.loc[stockTradingData['family_income'] == '<12,500, >=10,000', 'fi'] = (12.5+10)/2\n",
    "stockTradingData.loc[stockTradingData['family_income'] == '<15,000, >=12,500', 'fi'] = (15+12.5)/2\n",
    "stockTradingData.loc[stockTradingData['family_income'] == '<17,500, >=15,000', 'fi'] = (17.5+15)/2\n",
    "stockTradingData.loc[stockTradingData['family_income'] == '<20,000, >=17,500', 'fi'] = (20+17.5)/2\n",
    "stockTradingData.loc[stockTradingData['family_income'] == '<22,500, >=20,000', 'fi'] = (22.5+20)/2\n",
    "stockTradingData.loc[stockTradingData['family_income'] == '<25,000, >=22,500', 'fi'] = (25+22.5)/2\n",
    "stockTradingData.loc[stockTradingData['family_income'] == '<27,500, >=25,000', 'fi'] = (27.5+25)/2\n",
    "stockTradingData.loc[stockTradingData['family_income'] == '<30,000, >=27,500', 'fi'] = (30+27.5)/2"
   ]
  },
  {
   "cell_type": "code",
   "execution_count": 169,
   "metadata": {
    "ExecuteTime": {
     "end_time": "2020-03-11T17:10:56.363780Z",
     "start_time": "2020-03-11T17:10:56.350983Z"
    }
   },
   "outputs": [
    {
     "data": {
      "text/plain": [
       "0        16.25\n",
       "1        26.25\n",
       "2        28.75\n",
       "3        13.75\n",
       "4        28.75\n",
       "         ...  \n",
       "10150    28.75\n",
       "10151    23.75\n",
       "10152     4.00\n",
       "10153     9.00\n",
       "10154    26.25\n",
       "Name: fi, Length: 10155, dtype: float64"
      ]
     },
     "execution_count": 169,
     "metadata": {},
     "output_type": "execute_result"
    }
   ],
   "source": [
    "stockTradingData['fi']"
   ]
  },
  {
   "cell_type": "code",
   "execution_count": 170,
   "metadata": {
    "ExecuteTime": {
     "end_time": "2020-03-11T17:10:56.379223Z",
     "start_time": "2020-03-11T17:10:56.363780Z"
    }
   },
   "outputs": [
    {
     "data": {
      "text/plain": [
       "4.00     2923\n",
       "26.25    1227\n",
       "28.75     994\n",
       "23.75     833\n",
       "18.75     683\n",
       "11.25     677\n",
       "16.25     634\n",
       "13.75     629\n",
       "21.25     590\n",
       "9.00      563\n",
       "6.00      402\n",
       "Name: fi, dtype: int64"
      ]
     },
     "execution_count": 170,
     "metadata": {},
     "output_type": "execute_result"
    }
   ],
   "source": [
    "stockTradingData['fi'].value_counts()"
   ]
  },
  {
   "cell_type": "code",
   "execution_count": 171,
   "metadata": {
    "ExecuteTime": {
     "end_time": "2020-03-11T17:10:56.394513Z",
     "start_time": "2020-03-11T17:10:56.382914Z"
    }
   },
   "outputs": [],
   "source": [
    "stockTradingData.drop(['family_income'], axis=1, inplace=True)"
   ]
  },
  {
   "cell_type": "code",
   "execution_count": 172,
   "metadata": {
    "ExecuteTime": {
     "end_time": "2020-03-11T17:10:56.410473Z",
     "start_time": "2020-03-11T17:10:56.396632Z"
    },
    "scrolled": true
   },
   "outputs": [
    {
     "name": "stdout",
     "output_type": "stream",
     "text": [
      "status\n",
      "home_status\n",
      "self_employed\n",
      "self_employed_partner\n",
      "TVarea\n",
      "post_code\n",
      "post_area\n",
      "gender\n",
      "region\n"
     ]
    }
   ],
   "source": [
    "printObjectDatatypeColumn(stockTradingData)"
   ]
  },
  {
   "cell_type": "markdown",
   "metadata": {},
   "source": [
    "### Converting variable 'self_employed' into two integer"
   ]
  },
  {
   "cell_type": "code",
   "execution_count": 173,
   "metadata": {
    "ExecuteTime": {
     "end_time": "2020-03-11T17:10:56.426208Z",
     "start_time": "2020-03-11T17:10:56.412439Z"
    }
   },
   "outputs": [
    {
     "data": {
      "text/plain": [
       "No     9436\n",
       "Yes     719\n",
       "Name: self_employed, dtype: int64"
      ]
     },
     "execution_count": 173,
     "metadata": {},
     "output_type": "execute_result"
    }
   ],
   "source": [
    "stockTradingData['self_employed'].value_counts()"
   ]
  },
  {
   "cell_type": "code",
   "execution_count": 174,
   "metadata": {
    "ExecuteTime": {
     "end_time": "2020-03-11T17:10:56.444180Z",
     "start_time": "2020-03-11T17:10:56.429138Z"
    }
   },
   "outputs": [],
   "source": [
    "\"\"\" Creating a new column called 'selfEmployedYes' \"\"\"\n",
    "stockTradingData['selfEmployedYes'] = 0"
   ]
  },
  {
   "cell_type": "code",
   "execution_count": 175,
   "metadata": {
    "ExecuteTime": {
     "end_time": "2020-03-11T17:10:56.459392Z",
     "start_time": "2020-03-11T17:10:56.445221Z"
    }
   },
   "outputs": [],
   "source": [
    "stockTradingData['selfEmployedYes'] = np.where(stockTradingData['self_employed']=='Yes', 1, 0)"
   ]
  },
  {
   "cell_type": "code",
   "execution_count": 176,
   "metadata": {
    "ExecuteTime": {
     "end_time": "2020-03-11T17:10:56.475324Z",
     "start_time": "2020-03-11T17:10:56.460860Z"
    }
   },
   "outputs": [
    {
     "data": {
      "text/plain": [
       "No     9436\n",
       "Yes     719\n",
       "Name: self_employed, dtype: int64"
      ]
     },
     "execution_count": 176,
     "metadata": {},
     "output_type": "execute_result"
    }
   ],
   "source": [
    "stockTradingData['self_employed'].value_counts()"
   ]
  },
  {
   "cell_type": "code",
   "execution_count": 177,
   "metadata": {
    "ExecuteTime": {
     "end_time": "2020-03-11T17:10:56.490780Z",
     "start_time": "2020-03-11T17:10:56.477319Z"
    }
   },
   "outputs": [],
   "source": [
    "stockTradingData.drop(['self_employed'], axis=1, inplace=True)"
   ]
  },
  {
   "cell_type": "code",
   "execution_count": 178,
   "metadata": {
    "ExecuteTime": {
     "end_time": "2020-03-11T17:10:56.506872Z",
     "start_time": "2020-03-11T17:10:56.490780Z"
    }
   },
   "outputs": [
    {
     "name": "stdout",
     "output_type": "stream",
     "text": [
      "status\n",
      "home_status\n",
      "self_employed_partner\n",
      "TVarea\n",
      "post_code\n",
      "post_area\n",
      "gender\n",
      "region\n"
     ]
    }
   ],
   "source": [
    "printObjectDatatypeColumn(stockTradingData)"
   ]
  },
  {
   "cell_type": "markdown",
   "metadata": {},
   "source": [
    "### Converting 'self_employed_partner' variable into dummy variable"
   ]
  },
  {
   "cell_type": "code",
   "execution_count": 179,
   "metadata": {
    "ExecuteTime": {
     "end_time": "2020-03-11T17:10:56.522199Z",
     "start_time": "2020-03-11T17:10:56.509862Z"
    }
   },
   "outputs": [
    {
     "data": {
      "text/plain": [
       "No     9026\n",
       "Yes    1129\n",
       "Name: self_employed_partner, dtype: int64"
      ]
     },
     "execution_count": 179,
     "metadata": {},
     "output_type": "execute_result"
    }
   ],
   "source": [
    "stockTradingData['self_employed_partner'].value_counts()"
   ]
  },
  {
   "cell_type": "code",
   "execution_count": 180,
   "metadata": {
    "ExecuteTime": {
     "end_time": "2020-03-11T17:10:56.537655Z",
     "start_time": "2020-03-11T17:10:56.524193Z"
    }
   },
   "outputs": [],
   "source": [
    "stockTradingData['selfEmployedPartnerYes'] = 0"
   ]
  },
  {
   "cell_type": "code",
   "execution_count": 181,
   "metadata": {
    "ExecuteTime": {
     "end_time": "2020-03-11T17:10:56.553063Z",
     "start_time": "2020-03-11T17:10:56.541376Z"
    }
   },
   "outputs": [],
   "source": [
    "stockTradingData['selfEmployedPartnerYes'] = np.where(stockTradingData['self_employed_partner']=='Yes',1,0)"
   ]
  },
  {
   "cell_type": "code",
   "execution_count": 182,
   "metadata": {
    "ExecuteTime": {
     "end_time": "2020-03-11T17:10:56.570202Z",
     "start_time": "2020-03-11T17:10:56.554492Z"
    }
   },
   "outputs": [
    {
     "data": {
      "text/plain": [
       "0    9026\n",
       "1    1129\n",
       "Name: selfEmployedPartnerYes, dtype: int64"
      ]
     },
     "execution_count": 182,
     "metadata": {},
     "output_type": "execute_result"
    }
   ],
   "source": [
    "stockTradingData['selfEmployedPartnerYes'].value_counts()"
   ]
  },
  {
   "cell_type": "code",
   "execution_count": 183,
   "metadata": {
    "ExecuteTime": {
     "end_time": "2020-03-11T17:10:56.585489Z",
     "start_time": "2020-03-11T17:10:56.574401Z"
    }
   },
   "outputs": [],
   "source": [
    "stockTradingData.drop(['self_employed_partner'], axis=1, inplace=True)"
   ]
  },
  {
   "cell_type": "code",
   "execution_count": 184,
   "metadata": {
    "ExecuteTime": {
     "end_time": "2020-03-11T17:10:56.600999Z",
     "start_time": "2020-03-11T17:10:56.588855Z"
    },
    "scrolled": true
   },
   "outputs": [
    {
     "name": "stdout",
     "output_type": "stream",
     "text": [
      "status\n",
      "home_status\n",
      "TVarea\n",
      "post_code\n",
      "post_area\n",
      "gender\n",
      "region\n"
     ]
    }
   ],
   "source": [
    "printObjectDatatypeColumn(stockTradingData)"
   ]
  },
  {
   "cell_type": "markdown",
   "metadata": {},
   "source": [
    "### Converting variable 'status' into integer"
   ]
  },
  {
   "cell_type": "code",
   "execution_count": 185,
   "metadata": {
    "ExecuteTime": {
     "end_time": "2020-03-11T17:10:56.617111Z",
     "start_time": "2020-03-11T17:10:56.603524Z"
    }
   },
   "outputs": [
    {
     "data": {
      "text/plain": [
       "Partner                 7709\n",
       "Single/Never Married    1101\n",
       "Divorced/Separated       679\n",
       "Widowed                  618\n",
       "Unknown                   48\n",
       "Name: status, dtype: int64"
      ]
     },
     "execution_count": 185,
     "metadata": {},
     "output_type": "execute_result"
    }
   ],
   "source": [
    "stockTradingData['status'].value_counts()"
   ]
  },
  {
   "cell_type": "code",
   "execution_count": 186,
   "metadata": {
    "ExecuteTime": {
     "end_time": "2020-03-11T17:10:56.648462Z",
     "start_time": "2020-03-11T17:10:56.620104Z"
    }
   },
   "outputs": [],
   "source": [
    "stockTradingData.loc[stockTradingData['status'] == 'Partner', 'status'] = 'st_partner'\n",
    "stockTradingData.loc[stockTradingData['status'] == 'Single/Never Married', 'status'] = 'st_singleNm'\n",
    "stockTradingData.loc[stockTradingData['status'] == 'Divorced/Separated', 'status'] = 'st_divSep'"
   ]
  },
  {
   "cell_type": "code",
   "execution_count": 187,
   "metadata": {
    "ExecuteTime": {
     "end_time": "2020-03-11T17:10:56.664623Z",
     "start_time": "2020-03-11T17:10:56.650527Z"
    }
   },
   "outputs": [
    {
     "data": {
      "text/plain": [
       "st_partner     7709\n",
       "st_singleNm    1101\n",
       "st_divSep       679\n",
       "Widowed         618\n",
       "Unknown          48\n",
       "Name: status, dtype: int64"
      ]
     },
     "execution_count": 187,
     "metadata": {},
     "output_type": "execute_result"
    }
   ],
   "source": [
    "stockTradingData['status'].value_counts()"
   ]
  },
  {
   "cell_type": "code",
   "execution_count": 188,
   "metadata": {
    "ExecuteTime": {
     "end_time": "2020-03-11T17:10:56.680706Z",
     "start_time": "2020-03-11T17:10:56.666824Z"
    }
   },
   "outputs": [],
   "source": [
    "statusDummies = pd.get_dummies(stockTradingData['status'])"
   ]
  },
  {
   "cell_type": "code",
   "execution_count": 189,
   "metadata": {
    "ExecuteTime": {
     "end_time": "2020-03-11T17:10:56.695980Z",
     "start_time": "2020-03-11T17:10:56.683423Z"
    }
   },
   "outputs": [
    {
     "data": {
      "text/html": [
       "<div>\n",
       "<style scoped>\n",
       "    .dataframe tbody tr th:only-of-type {\n",
       "        vertical-align: middle;\n",
       "    }\n",
       "\n",
       "    .dataframe tbody tr th {\n",
       "        vertical-align: top;\n",
       "    }\n",
       "\n",
       "    .dataframe thead th {\n",
       "        text-align: right;\n",
       "    }\n",
       "</style>\n",
       "<table border=\"1\" class=\"dataframe\">\n",
       "  <thead>\n",
       "    <tr style=\"text-align: right;\">\n",
       "      <th></th>\n",
       "      <th>Unknown</th>\n",
       "      <th>Widowed</th>\n",
       "      <th>st_divSep</th>\n",
       "      <th>st_partner</th>\n",
       "      <th>st_singleNm</th>\n",
       "    </tr>\n",
       "  </thead>\n",
       "  <tbody>\n",
       "    <tr>\n",
       "      <th>0</th>\n",
       "      <td>0</td>\n",
       "      <td>0</td>\n",
       "      <td>0</td>\n",
       "      <td>1</td>\n",
       "      <td>0</td>\n",
       "    </tr>\n",
       "    <tr>\n",
       "      <th>1</th>\n",
       "      <td>0</td>\n",
       "      <td>0</td>\n",
       "      <td>0</td>\n",
       "      <td>0</td>\n",
       "      <td>1</td>\n",
       "    </tr>\n",
       "    <tr>\n",
       "      <th>2</th>\n",
       "      <td>0</td>\n",
       "      <td>0</td>\n",
       "      <td>0</td>\n",
       "      <td>0</td>\n",
       "      <td>1</td>\n",
       "    </tr>\n",
       "    <tr>\n",
       "      <th>3</th>\n",
       "      <td>0</td>\n",
       "      <td>0</td>\n",
       "      <td>0</td>\n",
       "      <td>0</td>\n",
       "      <td>1</td>\n",
       "    </tr>\n",
       "    <tr>\n",
       "      <th>4</th>\n",
       "      <td>0</td>\n",
       "      <td>0</td>\n",
       "      <td>0</td>\n",
       "      <td>1</td>\n",
       "      <td>0</td>\n",
       "    </tr>\n",
       "  </tbody>\n",
       "</table>\n",
       "</div>"
      ],
      "text/plain": [
       "   Unknown  Widowed  st_divSep  st_partner  st_singleNm\n",
       "0        0        0          0           1            0\n",
       "1        0        0          0           0            1\n",
       "2        0        0          0           0            1\n",
       "3        0        0          0           0            1\n",
       "4        0        0          0           1            0"
      ]
     },
     "execution_count": 189,
     "metadata": {},
     "output_type": "execute_result"
    }
   ],
   "source": [
    "statusDummies.head()"
   ]
  },
  {
   "cell_type": "code",
   "execution_count": 190,
   "metadata": {
    "ExecuteTime": {
     "end_time": "2020-03-11T17:10:56.731485Z",
     "start_time": "2020-03-11T17:10:56.698971Z"
    }
   },
   "outputs": [],
   "source": [
    "stockTradingData = stockTradingData.join(statusDummies)"
   ]
  },
  {
   "cell_type": "code",
   "execution_count": 191,
   "metadata": {
    "ExecuteTime": {
     "end_time": "2020-03-11T17:10:56.809270Z",
     "start_time": "2020-03-11T17:10:56.733482Z"
    }
   },
   "outputs": [
    {
     "data": {
      "text/html": [
       "<div>\n",
       "<style scoped>\n",
       "    .dataframe tbody tr th:only-of-type {\n",
       "        vertical-align: middle;\n",
       "    }\n",
       "\n",
       "    .dataframe tbody tr th {\n",
       "        vertical-align: top;\n",
       "    }\n",
       "\n",
       "    .dataframe thead th {\n",
       "        text-align: right;\n",
       "    }\n",
       "</style>\n",
       "<table border=\"1\" class=\"dataframe\">\n",
       "  <thead>\n",
       "    <tr style=\"text-align: right;\">\n",
       "      <th></th>\n",
       "      <th>REF_NO</th>\n",
       "      <th>children</th>\n",
       "      <th>status</th>\n",
       "      <th>home_status</th>\n",
       "      <th>year_last_moved</th>\n",
       "      <th>TVarea</th>\n",
       "      <th>post_code</th>\n",
       "      <th>post_area</th>\n",
       "      <th>Average Credit Card Transaction</th>\n",
       "      <th>Balance Transfer</th>\n",
       "      <th>...</th>\n",
       "      <th>partOcc_11</th>\n",
       "      <th>partOcc_12</th>\n",
       "      <th>fi</th>\n",
       "      <th>selfEmployedYes</th>\n",
       "      <th>selfEmployedPartnerYes</th>\n",
       "      <th>Unknown</th>\n",
       "      <th>Widowed</th>\n",
       "      <th>st_divSep</th>\n",
       "      <th>st_partner</th>\n",
       "      <th>st_singleNm</th>\n",
       "    </tr>\n",
       "  </thead>\n",
       "  <tbody>\n",
       "    <tr>\n",
       "      <th>0</th>\n",
       "      <td>1</td>\n",
       "      <td>0</td>\n",
       "      <td>st_partner</td>\n",
       "      <td>Own Home</td>\n",
       "      <td>1972</td>\n",
       "      <td>HTV</td>\n",
       "      <td>NP4 9HS</td>\n",
       "      <td>NP4</td>\n",
       "      <td>148.44</td>\n",
       "      <td>142.95</td>\n",
       "      <td>...</td>\n",
       "      <td>0</td>\n",
       "      <td>1</td>\n",
       "      <td>16.25</td>\n",
       "      <td>0</td>\n",
       "      <td>0</td>\n",
       "      <td>0</td>\n",
       "      <td>0</td>\n",
       "      <td>0</td>\n",
       "      <td>1</td>\n",
       "      <td>0</td>\n",
       "    </tr>\n",
       "    <tr>\n",
       "      <th>1</th>\n",
       "      <td>2</td>\n",
       "      <td>0</td>\n",
       "      <td>st_singleNm</td>\n",
       "      <td>Own Home</td>\n",
       "      <td>1998</td>\n",
       "      <td>Granada</td>\n",
       "      <td>M41 0QH</td>\n",
       "      <td>M41</td>\n",
       "      <td>0.00</td>\n",
       "      <td>74.98</td>\n",
       "      <td>...</td>\n",
       "      <td>0</td>\n",
       "      <td>0</td>\n",
       "      <td>26.25</td>\n",
       "      <td>0</td>\n",
       "      <td>0</td>\n",
       "      <td>0</td>\n",
       "      <td>0</td>\n",
       "      <td>0</td>\n",
       "      <td>0</td>\n",
       "      <td>1</td>\n",
       "    </tr>\n",
       "    <tr>\n",
       "      <th>2</th>\n",
       "      <td>3</td>\n",
       "      <td>0</td>\n",
       "      <td>st_singleNm</td>\n",
       "      <td>Own Home</td>\n",
       "      <td>1996</td>\n",
       "      <td>Tyne Tees</td>\n",
       "      <td>NE30 1JZ</td>\n",
       "      <td>NE30</td>\n",
       "      <td>0.00</td>\n",
       "      <td>166.44</td>\n",
       "      <td>...</td>\n",
       "      <td>0</td>\n",
       "      <td>0</td>\n",
       "      <td>28.75</td>\n",
       "      <td>1</td>\n",
       "      <td>0</td>\n",
       "      <td>0</td>\n",
       "      <td>0</td>\n",
       "      <td>0</td>\n",
       "      <td>0</td>\n",
       "      <td>1</td>\n",
       "    </tr>\n",
       "    <tr>\n",
       "      <th>3</th>\n",
       "      <td>5</td>\n",
       "      <td>0</td>\n",
       "      <td>st_singleNm</td>\n",
       "      <td>Own Home</td>\n",
       "      <td>1997</td>\n",
       "      <td>Central</td>\n",
       "      <td>HR9 7RJ</td>\n",
       "      <td>HR9</td>\n",
       "      <td>0.00</td>\n",
       "      <td>0.00</td>\n",
       "      <td>...</td>\n",
       "      <td>1</td>\n",
       "      <td>0</td>\n",
       "      <td>13.75</td>\n",
       "      <td>0</td>\n",
       "      <td>0</td>\n",
       "      <td>0</td>\n",
       "      <td>0</td>\n",
       "      <td>0</td>\n",
       "      <td>0</td>\n",
       "      <td>1</td>\n",
       "    </tr>\n",
       "    <tr>\n",
       "      <th>4</th>\n",
       "      <td>6</td>\n",
       "      <td>0</td>\n",
       "      <td>st_partner</td>\n",
       "      <td>Own Home</td>\n",
       "      <td>1995</td>\n",
       "      <td>Scottish TV</td>\n",
       "      <td>KA10 7LS</td>\n",
       "      <td>KA10</td>\n",
       "      <td>73.45</td>\n",
       "      <td>57.96</td>\n",
       "      <td>...</td>\n",
       "      <td>0</td>\n",
       "      <td>0</td>\n",
       "      <td>28.75</td>\n",
       "      <td>0</td>\n",
       "      <td>0</td>\n",
       "      <td>0</td>\n",
       "      <td>0</td>\n",
       "      <td>0</td>\n",
       "      <td>1</td>\n",
       "      <td>0</td>\n",
       "    </tr>\n",
       "    <tr>\n",
       "      <th>...</th>\n",
       "      <td>...</td>\n",
       "      <td>...</td>\n",
       "      <td>...</td>\n",
       "      <td>...</td>\n",
       "      <td>...</td>\n",
       "      <td>...</td>\n",
       "      <td>...</td>\n",
       "      <td>...</td>\n",
       "      <td>...</td>\n",
       "      <td>...</td>\n",
       "      <td>...</td>\n",
       "      <td>...</td>\n",
       "      <td>...</td>\n",
       "      <td>...</td>\n",
       "      <td>...</td>\n",
       "      <td>...</td>\n",
       "      <td>...</td>\n",
       "      <td>...</td>\n",
       "      <td>...</td>\n",
       "      <td>...</td>\n",
       "      <td>...</td>\n",
       "    </tr>\n",
       "    <tr>\n",
       "      <th>10150</th>\n",
       "      <td>11512</td>\n",
       "      <td>1</td>\n",
       "      <td>st_partner</td>\n",
       "      <td>Own Home</td>\n",
       "      <td>1972</td>\n",
       "      <td>Carlton</td>\n",
       "      <td>SM4 5RF</td>\n",
       "      <td>SM4</td>\n",
       "      <td>0.00</td>\n",
       "      <td>0.00</td>\n",
       "      <td>...</td>\n",
       "      <td>1</td>\n",
       "      <td>0</td>\n",
       "      <td>28.75</td>\n",
       "      <td>0</td>\n",
       "      <td>0</td>\n",
       "      <td>0</td>\n",
       "      <td>0</td>\n",
       "      <td>0</td>\n",
       "      <td>1</td>\n",
       "      <td>0</td>\n",
       "    </tr>\n",
       "    <tr>\n",
       "      <th>10151</th>\n",
       "      <td>11513</td>\n",
       "      <td>0</td>\n",
       "      <td>st_partner</td>\n",
       "      <td>Rent from Council/HA</td>\n",
       "      <td>1988</td>\n",
       "      <td>Meridian</td>\n",
       "      <td>RG14 7PA</td>\n",
       "      <td>RG14</td>\n",
       "      <td>0.00</td>\n",
       "      <td>110.95</td>\n",
       "      <td>...</td>\n",
       "      <td>1</td>\n",
       "      <td>0</td>\n",
       "      <td>23.75</td>\n",
       "      <td>0</td>\n",
       "      <td>0</td>\n",
       "      <td>0</td>\n",
       "      <td>0</td>\n",
       "      <td>0</td>\n",
       "      <td>1</td>\n",
       "      <td>0</td>\n",
       "    </tr>\n",
       "    <tr>\n",
       "      <th>10152</th>\n",
       "      <td>11514</td>\n",
       "      <td>2</td>\n",
       "      <td>st_partner</td>\n",
       "      <td>Own Home</td>\n",
       "      <td>1992</td>\n",
       "      <td>Central</td>\n",
       "      <td>OX15 0PU</td>\n",
       "      <td>OX15</td>\n",
       "      <td>124.93</td>\n",
       "      <td>0.00</td>\n",
       "      <td>...</td>\n",
       "      <td>1</td>\n",
       "      <td>0</td>\n",
       "      <td>4.00</td>\n",
       "      <td>0</td>\n",
       "      <td>0</td>\n",
       "      <td>0</td>\n",
       "      <td>0</td>\n",
       "      <td>0</td>\n",
       "      <td>1</td>\n",
       "      <td>0</td>\n",
       "    </tr>\n",
       "    <tr>\n",
       "      <th>10153</th>\n",
       "      <td>11516</td>\n",
       "      <td>0</td>\n",
       "      <td>st_partner</td>\n",
       "      <td>Own Home</td>\n",
       "      <td>1970</td>\n",
       "      <td>Carlton</td>\n",
       "      <td>CM15 0LU</td>\n",
       "      <td>CM15</td>\n",
       "      <td>0.00</td>\n",
       "      <td>35.98</td>\n",
       "      <td>...</td>\n",
       "      <td>1</td>\n",
       "      <td>0</td>\n",
       "      <td>9.00</td>\n",
       "      <td>0</td>\n",
       "      <td>1</td>\n",
       "      <td>0</td>\n",
       "      <td>0</td>\n",
       "      <td>0</td>\n",
       "      <td>1</td>\n",
       "      <td>0</td>\n",
       "    </tr>\n",
       "    <tr>\n",
       "      <th>10154</th>\n",
       "      <td>11518</td>\n",
       "      <td>1</td>\n",
       "      <td>st_partner</td>\n",
       "      <td>Own Home</td>\n",
       "      <td>1996</td>\n",
       "      <td>HTV</td>\n",
       "      <td>SA70 7LW</td>\n",
       "      <td>SA70</td>\n",
       "      <td>0.00</td>\n",
       "      <td>40.46</td>\n",
       "      <td>...</td>\n",
       "      <td>1</td>\n",
       "      <td>0</td>\n",
       "      <td>26.25</td>\n",
       "      <td>0</td>\n",
       "      <td>0</td>\n",
       "      <td>0</td>\n",
       "      <td>0</td>\n",
       "      <td>0</td>\n",
       "      <td>1</td>\n",
       "      <td>0</td>\n",
       "    </tr>\n",
       "  </tbody>\n",
       "</table>\n",
       "<p>10155 rows × 45 columns</p>\n",
       "</div>"
      ],
      "text/plain": [
       "       REF_NO  children       status           home_status  year_last_moved  \\\n",
       "0           1         0   st_partner              Own Home             1972   \n",
       "1           2         0  st_singleNm              Own Home             1998   \n",
       "2           3         0  st_singleNm              Own Home             1996   \n",
       "3           5         0  st_singleNm              Own Home             1997   \n",
       "4           6         0   st_partner              Own Home             1995   \n",
       "...       ...       ...          ...                   ...              ...   \n",
       "10150   11512         1   st_partner              Own Home             1972   \n",
       "10151   11513         0   st_partner  Rent from Council/HA             1988   \n",
       "10152   11514         2   st_partner              Own Home             1992   \n",
       "10153   11516         0   st_partner              Own Home             1970   \n",
       "10154   11518         1   st_partner              Own Home             1996   \n",
       "\n",
       "            TVarea post_code post_area  Average Credit Card Transaction  \\\n",
       "0              HTV   NP4 9HS       NP4                           148.44   \n",
       "1          Granada   M41 0QH       M41                             0.00   \n",
       "2        Tyne Tees  NE30 1JZ      NE30                             0.00   \n",
       "3          Central   HR9 7RJ       HR9                             0.00   \n",
       "4      Scottish TV  KA10 7LS      KA10                            73.45   \n",
       "...            ...       ...       ...                              ...   \n",
       "10150      Carlton   SM4 5RF       SM4                             0.00   \n",
       "10151     Meridian  RG14 7PA      RG14                             0.00   \n",
       "10152      Central  OX15 0PU      OX15                           124.93   \n",
       "10153      Carlton  CM15 0LU      CM15                             0.00   \n",
       "10154          HTV  SA70 7LW      SA70                             0.00   \n",
       "\n",
       "       Balance Transfer  ...  partOcc_11  partOcc_12     fi  selfEmployedYes  \\\n",
       "0                142.95  ...           0           1  16.25                0   \n",
       "1                 74.98  ...           0           0  26.25                0   \n",
       "2                166.44  ...           0           0  28.75                1   \n",
       "3                  0.00  ...           1           0  13.75                0   \n",
       "4                 57.96  ...           0           0  28.75                0   \n",
       "...                 ...  ...         ...         ...    ...              ...   \n",
       "10150              0.00  ...           1           0  28.75                0   \n",
       "10151            110.95  ...           1           0  23.75                0   \n",
       "10152              0.00  ...           1           0   4.00                0   \n",
       "10153             35.98  ...           1           0   9.00                0   \n",
       "10154             40.46  ...           1           0  26.25                0   \n",
       "\n",
       "       selfEmployedPartnerYes  Unknown  Widowed  st_divSep  st_partner  \\\n",
       "0                           0        0        0          0           1   \n",
       "1                           0        0        0          0           0   \n",
       "2                           0        0        0          0           0   \n",
       "3                           0        0        0          0           0   \n",
       "4                           0        0        0          0           1   \n",
       "...                       ...      ...      ...        ...         ...   \n",
       "10150                       0        0        0          0           1   \n",
       "10151                       0        0        0          0           1   \n",
       "10152                       0        0        0          0           1   \n",
       "10153                       1        0        0          0           1   \n",
       "10154                       0        0        0          0           1   \n",
       "\n",
       "      st_singleNm  \n",
       "0               0  \n",
       "1               1  \n",
       "2               1  \n",
       "3               1  \n",
       "4               0  \n",
       "...           ...  \n",
       "10150           0  \n",
       "10151           0  \n",
       "10152           0  \n",
       "10153           0  \n",
       "10154           0  \n",
       "\n",
       "[10155 rows x 45 columns]"
      ]
     },
     "execution_count": 191,
     "metadata": {},
     "output_type": "execute_result"
    }
   ],
   "source": [
    "stockTradingData"
   ]
  },
  {
   "cell_type": "code",
   "execution_count": 192,
   "metadata": {
    "ExecuteTime": {
     "end_time": "2020-03-11T17:10:56.840288Z",
     "start_time": "2020-03-11T17:10:56.812263Z"
    }
   },
   "outputs": [],
   "source": [
    "stockTradingData.drop(['status','Unknown','Widowed'], axis=1, inplace=True)"
   ]
  },
  {
   "cell_type": "code",
   "execution_count": 193,
   "metadata": {
    "ExecuteTime": {
     "end_time": "2020-03-11T17:10:56.871659Z",
     "start_time": "2020-03-11T17:10:56.844524Z"
    },
    "scrolled": true
   },
   "outputs": [
    {
     "name": "stdout",
     "output_type": "stream",
     "text": [
      "home_status\n",
      "TVarea\n",
      "post_code\n",
      "post_area\n",
      "gender\n",
      "region\n"
     ]
    }
   ],
   "source": [
    "printObjectDatatypeColumn(stockTradingData)"
   ]
  },
  {
   "cell_type": "markdown",
   "metadata": {},
   "source": [
    "### Converting 'home_status' variable into int"
   ]
  },
  {
   "cell_type": "code",
   "execution_count": 194,
   "metadata": {
    "ExecuteTime": {
     "end_time": "2020-03-11T17:10:56.904864Z",
     "start_time": "2020-03-11T17:10:56.877911Z"
    }
   },
   "outputs": [
    {
     "data": {
      "text/plain": [
       "Own Home                9413\n",
       "Rent from Council/HA     322\n",
       "Rent Privately           261\n",
       "Live in Parental Hom     109\n",
       "Unclassified              50\n",
       "Name: home_status, dtype: int64"
      ]
     },
     "execution_count": 194,
     "metadata": {},
     "output_type": "execute_result"
    }
   ],
   "source": [
    "stockTradingData['home_status'].value_counts()"
   ]
  },
  {
   "cell_type": "code",
   "execution_count": 195,
   "metadata": {
    "ExecuteTime": {
     "end_time": "2020-03-11T17:10:56.938515Z",
     "start_time": "2020-03-11T17:10:56.910113Z"
    }
   },
   "outputs": [],
   "source": [
    "stockTradingData['hs_own']=0\n",
    "stockTradingData['hs_rent']=0"
   ]
  },
  {
   "cell_type": "code",
   "execution_count": 196,
   "metadata": {
    "ExecuteTime": {
     "end_time": "2020-03-11T17:10:56.971851Z",
     "start_time": "2020-03-11T17:10:56.942938Z"
    }
   },
   "outputs": [],
   "source": [
    "stockTradingData['hs_own'] = np.where(stockTradingData['home_status'] == 'Own Home',1,0)\n",
    "stockTradingData['hs_rent'] = np.where(stockTradingData['home_status'] == 'Rent from Council/HA',1,0)\n",
    "stockTradingData['hs_rent'] = np.where(stockTradingData['home_status'] == 'Rent Privately',1,0)"
   ]
  },
  {
   "cell_type": "code",
   "execution_count": 197,
   "metadata": {
    "ExecuteTime": {
     "end_time": "2020-03-11T17:10:57.004577Z",
     "start_time": "2020-03-11T17:10:56.974882Z"
    }
   },
   "outputs": [],
   "source": [
    "stockTradingData.drop(['home_status'], axis=1, inplace=True)"
   ]
  },
  {
   "cell_type": "code",
   "execution_count": 198,
   "metadata": {
    "ExecuteTime": {
     "end_time": "2020-03-11T17:10:57.037317Z",
     "start_time": "2020-03-11T17:10:57.008630Z"
    }
   },
   "outputs": [
    {
     "name": "stdout",
     "output_type": "stream",
     "text": [
      "TVarea\n",
      "post_code\n",
      "post_area\n",
      "gender\n",
      "region\n"
     ]
    }
   ],
   "source": [
    "printObjectDatatypeColumn(stockTradingData)"
   ]
  },
  {
   "cell_type": "markdown",
   "metadata": {},
   "source": [
    "### Converting 'gender' variable into int"
   ]
  },
  {
   "cell_type": "code",
   "execution_count": 199,
   "metadata": {
    "ExecuteTime": {
     "end_time": "2020-03-11T17:10:57.052485Z",
     "start_time": "2020-03-11T17:10:57.039345Z"
    }
   },
   "outputs": [
    {
     "data": {
      "text/plain": [
       "Female     7634\n",
       "Male       2486\n",
       "Unknown      35\n",
       "Name: gender, dtype: int64"
      ]
     },
     "execution_count": 199,
     "metadata": {},
     "output_type": "execute_result"
    }
   ],
   "source": [
    "stockTradingData['gender'].value_counts()"
   ]
  },
  {
   "cell_type": "code",
   "execution_count": 200,
   "metadata": {
    "ExecuteTime": {
     "end_time": "2020-03-11T17:10:57.067749Z",
     "start_time": "2020-03-11T17:10:57.057510Z"
    }
   },
   "outputs": [],
   "source": [
    "stockTradingData['gender_f'] = np.where(stockTradingData['gender']=='Female',1,0)"
   ]
  },
  {
   "cell_type": "code",
   "execution_count": 201,
   "metadata": {
    "ExecuteTime": {
     "end_time": "2020-03-11T17:10:57.104502Z",
     "start_time": "2020-03-11T17:10:57.072448Z"
    }
   },
   "outputs": [],
   "source": [
    "stockTradingData.drop(['gender'], axis=1, inplace=True)"
   ]
  },
  {
   "cell_type": "code",
   "execution_count": 202,
   "metadata": {
    "ExecuteTime": {
     "end_time": "2020-03-11T17:10:57.137492Z",
     "start_time": "2020-03-11T17:10:57.107430Z"
    }
   },
   "outputs": [
    {
     "name": "stdout",
     "output_type": "stream",
     "text": [
      "TVarea\n",
      "post_code\n",
      "post_area\n",
      "region\n"
     ]
    }
   ],
   "source": [
    "printObjectDatatypeColumn(stockTradingData)"
   ]
  },
  {
   "cell_type": "markdown",
   "metadata": {},
   "source": [
    "For now, I'll stop with this and drop the four variables 'TVarea', 'post_code','post_area','region' and proceed with modelling. "
   ]
  },
  {
   "cell_type": "code",
   "execution_count": 203,
   "metadata": {
    "ExecuteTime": {
     "end_time": "2020-03-11T17:10:57.154337Z",
     "start_time": "2020-03-11T17:10:57.139483Z"
    }
   },
   "outputs": [],
   "source": [
    "stockTradingData.drop(['TVarea','post_code','post_area','region'], axis=1, inplace=True)"
   ]
  },
  {
   "cell_type": "code",
   "execution_count": 204,
   "metadata": {
    "ExecuteTime": {
     "end_time": "2020-03-11T17:10:57.170601Z",
     "start_time": "2020-03-11T17:10:57.155335Z"
    }
   },
   "outputs": [],
   "source": [
    "printObjectDatatypeColumn(stockTradingData)"
   ]
  },
  {
   "cell_type": "markdown",
   "metadata": {},
   "source": [
    "Now, there are no columns with 'object' datatype. Let's see what the datatype of the other columns are. "
   ]
  },
  {
   "cell_type": "code",
   "execution_count": 205,
   "metadata": {
    "ExecuteTime": {
     "end_time": "2020-03-11T17:10:57.185960Z",
     "start_time": "2020-03-11T17:10:57.172996Z"
    },
    "scrolled": true
   },
   "outputs": [
    {
     "data": {
      "text/plain": [
       "REF_NO                               int64\n",
       "children                             int64\n",
       "year_last_moved                      int64\n",
       "Average Credit Card Transaction    float64\n",
       "Balance Transfer                   float64\n",
       "Term Deposit                       float64\n",
       "Life Insurance                     float64\n",
       "Medical Insurance                  float64\n",
       "Average A/C Balance                float64\n",
       "Personal Loan                      float64\n",
       "Investment in Mutual Fund          float64\n",
       "Investment Tax Saving Bond         float64\n",
       "Home Loan                          float64\n",
       "Online Purchase Amount             float64\n",
       "Investment in Commudity            float64\n",
       "Investment in Equity               float64\n",
       "Investment in Derivative           float64\n",
       "Portfolio Balance                  float64\n",
       "y                                    int32\n",
       "ab_10                                uint8\n",
       "ab_11                                uint8\n",
       "ab_13                                uint8\n",
       "ab_17                                uint8\n",
       "ab_9                                 uint8\n",
       "ocup_10                              uint8\n",
       "ocup_11                              uint8\n",
       "ocup_12                              uint8\n",
       "partOcc_10                           uint8\n",
       "partOcc_11                           uint8\n",
       "partOcc_12                           uint8\n",
       "fi                                 float64\n",
       "selfEmployedYes                      int32\n",
       "selfEmployedPartnerYes               int32\n",
       "st_divSep                            uint8\n",
       "st_partner                           uint8\n",
       "st_singleNm                          uint8\n",
       "hs_own                               int32\n",
       "hs_rent                              int32\n",
       "gender_f                             int32\n",
       "dtype: object"
      ]
     },
     "execution_count": 205,
     "metadata": {},
     "output_type": "execute_result"
    }
   ],
   "source": [
    "stockTradingData.dtypes"
   ]
  },
  {
   "cell_type": "markdown",
   "metadata": {},
   "source": [
    "### Detecting Missing and Null values"
   ]
  },
  {
   "cell_type": "code",
   "execution_count": 209,
   "metadata": {
    "ExecuteTime": {
     "end_time": "2020-03-11T17:18:37.756788Z",
     "start_time": "2020-03-11T17:18:37.736460Z"
    },
    "scrolled": true
   },
   "outputs": [
    {
     "data": {
      "text/plain": [
       "REF_NO                             0\n",
       "children                           0\n",
       "year_last_moved                    0\n",
       "Average Credit Card Transaction    0\n",
       "Balance Transfer                   0\n",
       "Term Deposit                       0\n",
       "Life Insurance                     0\n",
       "Medical Insurance                  0\n",
       "Average A/C Balance                0\n",
       "Personal Loan                      0\n",
       "Investment in Mutual Fund          0\n",
       "Investment Tax Saving Bond         0\n",
       "Home Loan                          0\n",
       "Online Purchase Amount             0\n",
       "Investment in Commudity            0\n",
       "Investment in Equity               0\n",
       "Investment in Derivative           0\n",
       "Portfolio Balance                  0\n",
       "y                                  0\n",
       "ab_10                              0\n",
       "ab_11                              0\n",
       "ab_13                              0\n",
       "ab_17                              0\n",
       "ab_9                               0\n",
       "ocup_10                            0\n",
       "ocup_11                            0\n",
       "ocup_12                            0\n",
       "partOcc_10                         0\n",
       "partOcc_11                         0\n",
       "partOcc_12                         0\n",
       "fi                                 0\n",
       "selfEmployedYes                    0\n",
       "selfEmployedPartnerYes             0\n",
       "st_divSep                          0\n",
       "st_partner                         0\n",
       "st_singleNm                        0\n",
       "hs_own                             0\n",
       "hs_rent                            0\n",
       "gender_f                           0\n",
       "dtype: int64"
      ]
     },
     "execution_count": 209,
     "metadata": {},
     "output_type": "execute_result"
    }
   ],
   "source": [
    "stockTradingData.isna().sum()"
   ]
  },
  {
   "cell_type": "code",
   "execution_count": 210,
   "metadata": {
    "ExecuteTime": {
     "end_time": "2020-03-11T17:18:53.503482Z",
     "start_time": "2020-03-11T17:18:53.477283Z"
    },
    "scrolled": true
   },
   "outputs": [
    {
     "data": {
      "text/plain": [
       "REF_NO                             0\n",
       "children                           0\n",
       "year_last_moved                    0\n",
       "Average Credit Card Transaction    0\n",
       "Balance Transfer                   0\n",
       "Term Deposit                       0\n",
       "Life Insurance                     0\n",
       "Medical Insurance                  0\n",
       "Average A/C Balance                0\n",
       "Personal Loan                      0\n",
       "Investment in Mutual Fund          0\n",
       "Investment Tax Saving Bond         0\n",
       "Home Loan                          0\n",
       "Online Purchase Amount             0\n",
       "Investment in Commudity            0\n",
       "Investment in Equity               0\n",
       "Investment in Derivative           0\n",
       "Portfolio Balance                  0\n",
       "y                                  0\n",
       "ab_10                              0\n",
       "ab_11                              0\n",
       "ab_13                              0\n",
       "ab_17                              0\n",
       "ab_9                               0\n",
       "ocup_10                            0\n",
       "ocup_11                            0\n",
       "ocup_12                            0\n",
       "partOcc_10                         0\n",
       "partOcc_11                         0\n",
       "partOcc_12                         0\n",
       "fi                                 0\n",
       "selfEmployedYes                    0\n",
       "selfEmployedPartnerYes             0\n",
       "st_divSep                          0\n",
       "st_partner                         0\n",
       "st_singleNm                        0\n",
       "hs_own                             0\n",
       "hs_rent                            0\n",
       "gender_f                           0\n",
       "dtype: int64"
      ]
     },
     "execution_count": 210,
     "metadata": {},
     "output_type": "execute_result"
    }
   ],
   "source": [
    "stockTradingData.isnull().sum()"
   ]
  },
  {
   "cell_type": "code",
   "execution_count": 215,
   "metadata": {
    "ExecuteTime": {
     "end_time": "2020-03-11T17:26:47.820561Z",
     "start_time": "2020-03-11T17:26:47.793863Z"
    }
   },
   "outputs": [
    {
     "data": {
      "text/html": [
       "<div>\n",
       "<style scoped>\n",
       "    .dataframe tbody tr th:only-of-type {\n",
       "        vertical-align: middle;\n",
       "    }\n",
       "\n",
       "    .dataframe tbody tr th {\n",
       "        vertical-align: top;\n",
       "    }\n",
       "\n",
       "    .dataframe thead th {\n",
       "        text-align: right;\n",
       "    }\n",
       "</style>\n",
       "<table border=\"1\" class=\"dataframe\">\n",
       "  <thead>\n",
       "    <tr style=\"text-align: right;\">\n",
       "      <th></th>\n",
       "      <th>REF_NO</th>\n",
       "      <th>children</th>\n",
       "      <th>year_last_moved</th>\n",
       "      <th>Average Credit Card Transaction</th>\n",
       "      <th>Balance Transfer</th>\n",
       "      <th>Term Deposit</th>\n",
       "      <th>Life Insurance</th>\n",
       "      <th>Medical Insurance</th>\n",
       "      <th>Average A/C Balance</th>\n",
       "      <th>Personal Loan</th>\n",
       "      <th>...</th>\n",
       "      <th>partOcc_12</th>\n",
       "      <th>fi</th>\n",
       "      <th>selfEmployedYes</th>\n",
       "      <th>selfEmployedPartnerYes</th>\n",
       "      <th>st_divSep</th>\n",
       "      <th>st_partner</th>\n",
       "      <th>st_singleNm</th>\n",
       "      <th>hs_own</th>\n",
       "      <th>hs_rent</th>\n",
       "      <th>gender_f</th>\n",
       "    </tr>\n",
       "  </thead>\n",
       "  <tbody>\n",
       "    <tr>\n",
       "      <th>0</th>\n",
       "      <td>1</td>\n",
       "      <td>0</td>\n",
       "      <td>1972</td>\n",
       "      <td>148.44</td>\n",
       "      <td>142.95</td>\n",
       "      <td>0.00</td>\n",
       "      <td>81.96</td>\n",
       "      <td>0.00</td>\n",
       "      <td>29.99</td>\n",
       "      <td>0.00</td>\n",
       "      <td>...</td>\n",
       "      <td>1</td>\n",
       "      <td>16.25</td>\n",
       "      <td>0</td>\n",
       "      <td>0</td>\n",
       "      <td>0</td>\n",
       "      <td>1</td>\n",
       "      <td>0</td>\n",
       "      <td>1</td>\n",
       "      <td>0</td>\n",
       "      <td>1</td>\n",
       "    </tr>\n",
       "    <tr>\n",
       "      <th>1</th>\n",
       "      <td>2</td>\n",
       "      <td>0</td>\n",
       "      <td>1998</td>\n",
       "      <td>0.00</td>\n",
       "      <td>74.98</td>\n",
       "      <td>0.00</td>\n",
       "      <td>25.99</td>\n",
       "      <td>0.00</td>\n",
       "      <td>0.00</td>\n",
       "      <td>0.00</td>\n",
       "      <td>...</td>\n",
       "      <td>0</td>\n",
       "      <td>26.25</td>\n",
       "      <td>0</td>\n",
       "      <td>0</td>\n",
       "      <td>0</td>\n",
       "      <td>0</td>\n",
       "      <td>1</td>\n",
       "      <td>1</td>\n",
       "      <td>0</td>\n",
       "      <td>1</td>\n",
       "    </tr>\n",
       "    <tr>\n",
       "      <th>2</th>\n",
       "      <td>3</td>\n",
       "      <td>0</td>\n",
       "      <td>1996</td>\n",
       "      <td>0.00</td>\n",
       "      <td>166.44</td>\n",
       "      <td>20.99</td>\n",
       "      <td>291.37</td>\n",
       "      <td>11.48</td>\n",
       "      <td>166.94</td>\n",
       "      <td>0.00</td>\n",
       "      <td>...</td>\n",
       "      <td>0</td>\n",
       "      <td>28.75</td>\n",
       "      <td>1</td>\n",
       "      <td>0</td>\n",
       "      <td>0</td>\n",
       "      <td>0</td>\n",
       "      <td>1</td>\n",
       "      <td>1</td>\n",
       "      <td>0</td>\n",
       "      <td>0</td>\n",
       "    </tr>\n",
       "    <tr>\n",
       "      <th>3</th>\n",
       "      <td>5</td>\n",
       "      <td>0</td>\n",
       "      <td>1997</td>\n",
       "      <td>0.00</td>\n",
       "      <td>0.00</td>\n",
       "      <td>0.00</td>\n",
       "      <td>20.49</td>\n",
       "      <td>0.00</td>\n",
       "      <td>39.46</td>\n",
       "      <td>0.00</td>\n",
       "      <td>...</td>\n",
       "      <td>0</td>\n",
       "      <td>13.75</td>\n",
       "      <td>0</td>\n",
       "      <td>0</td>\n",
       "      <td>0</td>\n",
       "      <td>0</td>\n",
       "      <td>1</td>\n",
       "      <td>1</td>\n",
       "      <td>0</td>\n",
       "      <td>1</td>\n",
       "    </tr>\n",
       "    <tr>\n",
       "      <th>4</th>\n",
       "      <td>6</td>\n",
       "      <td>0</td>\n",
       "      <td>1995</td>\n",
       "      <td>73.45</td>\n",
       "      <td>57.96</td>\n",
       "      <td>0.00</td>\n",
       "      <td>177.42</td>\n",
       "      <td>41.95</td>\n",
       "      <td>39.47</td>\n",
       "      <td>10.97</td>\n",
       "      <td>...</td>\n",
       "      <td>0</td>\n",
       "      <td>28.75</td>\n",
       "      <td>0</td>\n",
       "      <td>0</td>\n",
       "      <td>0</td>\n",
       "      <td>1</td>\n",
       "      <td>0</td>\n",
       "      <td>1</td>\n",
       "      <td>0</td>\n",
       "      <td>1</td>\n",
       "    </tr>\n",
       "  </tbody>\n",
       "</table>\n",
       "<p>5 rows × 39 columns</p>\n",
       "</div>"
      ],
      "text/plain": [
       "   REF_NO  children  year_last_moved  Average Credit Card Transaction  \\\n",
       "0       1         0             1972                           148.44   \n",
       "1       2         0             1998                             0.00   \n",
       "2       3         0             1996                             0.00   \n",
       "3       5         0             1997                             0.00   \n",
       "4       6         0             1995                            73.45   \n",
       "\n",
       "   Balance Transfer  Term Deposit  Life Insurance  Medical Insurance  \\\n",
       "0            142.95          0.00           81.96               0.00   \n",
       "1             74.98          0.00           25.99               0.00   \n",
       "2            166.44         20.99          291.37              11.48   \n",
       "3              0.00          0.00           20.49               0.00   \n",
       "4             57.96          0.00          177.42              41.95   \n",
       "\n",
       "   Average A/C Balance  Personal Loan  ...  partOcc_12     fi  \\\n",
       "0                29.99           0.00  ...           1  16.25   \n",
       "1                 0.00           0.00  ...           0  26.25   \n",
       "2               166.94           0.00  ...           0  28.75   \n",
       "3                39.46           0.00  ...           0  13.75   \n",
       "4                39.47          10.97  ...           0  28.75   \n",
       "\n",
       "   selfEmployedYes  selfEmployedPartnerYes  st_divSep  st_partner  \\\n",
       "0                0                       0          0           1   \n",
       "1                0                       0          0           0   \n",
       "2                1                       0          0           0   \n",
       "3                0                       0          0           0   \n",
       "4                0                       0          0           1   \n",
       "\n",
       "   st_singleNm  hs_own  hs_rent  gender_f  \n",
       "0            0       1        0         1  \n",
       "1            1       1        0         1  \n",
       "2            1       1        0         0  \n",
       "3            1       1        0         1  \n",
       "4            0       1        0         1  \n",
       "\n",
       "[5 rows x 39 columns]"
      ]
     },
     "execution_count": 215,
     "metadata": {},
     "output_type": "execute_result"
    }
   ],
   "source": [
    "stockTradingData.head()"
   ]
  },
  {
   "cell_type": "markdown",
   "metadata": {},
   "source": [
    "**Class Video 3: Generalised Linear Models with Python- Part 2 (14th July 2019)**"
   ]
  },
  {
   "cell_type": "code",
   "execution_count": null,
   "metadata": {},
   "outputs": [],
   "source": []
  }
 ],
 "metadata": {
  "kernelspec": {
   "display_name": "Python 3",
   "language": "python",
   "name": "python3"
  },
  "language_info": {
   "codemirror_mode": {
    "name": "ipython",
    "version": 3
   },
   "file_extension": ".py",
   "mimetype": "text/x-python",
   "name": "python",
   "nbconvert_exporter": "python",
   "pygments_lexer": "ipython3",
   "version": "3.7.4"
  },
  "pycharm": {
   "stem_cell": {
    "cell_type": "raw",
    "metadata": {
     "collapsed": false
    },
    "source": []
   }
  },
  "toc": {
   "base_numbering": 1,
   "nav_menu": {},
   "number_sections": true,
   "sideBar": true,
   "skip_h1_title": false,
   "title_cell": "Table of Contents",
   "title_sidebar": "Contents",
   "toc_cell": false,
   "toc_position": {
    "height": "calc(100% - 180px)",
    "left": "10px",
    "top": "150px",
    "width": "527px"
   },
   "toc_section_display": true,
   "toc_window_display": true
  }
 },
 "nbformat": 4,
 "nbformat_minor": 4
}
